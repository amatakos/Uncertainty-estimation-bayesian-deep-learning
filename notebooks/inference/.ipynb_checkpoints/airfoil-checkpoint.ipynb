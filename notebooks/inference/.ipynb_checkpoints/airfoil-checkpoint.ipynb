{
 "cells": [
  {
   "cell_type": "markdown",
   "id": "c966c204",
   "metadata": {},
   "source": [
    "### Imports"
   ]
  },
  {
   "cell_type": "code",
   "execution_count": 1,
   "id": "7682c71b",
   "metadata": {},
   "outputs": [],
   "source": [
    "import os\n",
    "\n",
    "import numpy as np\n",
    "import numpy.random as npr\n",
    "import pandas as pd\n",
    "import matplotlib.pyplot as plt\n",
    "from sklearn.model_selection import train_test_split\n",
    "from sklearn.model_selection import KFold\n",
    "from sklearn.preprocessing import MinMaxScaler\n",
    "import torch\n",
    "import torch.nn as nn\n",
    "import torch.nn.functional as F\n",
    "import torch.optim as optim\n",
    "from torch.utils.data import TensorDataset\n",
    "from torch.distributions.normal import Normal as norm\n",
    "import torchmetrics as tm\n",
    "import pyro\n",
    "import pyro.distributions as dist\n",
    "import tyxe\n",
    "from functools import partial\n",
    "\n",
    "from src import evaluate\n",
    "from src.evaluate import evaluate_regr\n",
    "import src.utils\n",
    "from src.utils import util, data_loaders\n",
    "from src.utils.domain_split import hyperplane_split\n",
    "from src.train_test import fit_regr, test_regr\n",
    "from src.model import MLP\n",
    "\n",
    "# seed = np.random.randint(10000)\n",
    "seed = 7141 #4092\n",
    "np.random.seed(seed)\n",
    "torch.manual_seed(seed)\n",
    "\n",
    "device = torch.device('cuda' if torch.cuda.is_available() else 'cpu')"
   ]
  },
  {
   "cell_type": "markdown",
   "id": "d69c07e9",
   "metadata": {},
   "source": [
    "### Read airfoil data"
   ]
  },
  {
   "cell_type": "code",
   "execution_count": 2,
   "id": "8714fe2f",
   "metadata": {},
   "outputs": [
    {
     "data": {
      "text/html": [
       "<div>\n",
       "<style scoped>\n",
       "    .dataframe tbody tr th:only-of-type {\n",
       "        vertical-align: middle;\n",
       "    }\n",
       "\n",
       "    .dataframe tbody tr th {\n",
       "        vertical-align: top;\n",
       "    }\n",
       "\n",
       "    .dataframe thead th {\n",
       "        text-align: right;\n",
       "    }\n",
       "</style>\n",
       "<table border=\"1\" class=\"dataframe\">\n",
       "  <thead>\n",
       "    <tr style=\"text-align: right;\">\n",
       "      <th></th>\n",
       "      <th>Frequency</th>\n",
       "      <th>AngleAttack</th>\n",
       "      <th>ChordLength</th>\n",
       "      <th>FreeStreamVelocity</th>\n",
       "      <th>SuctionSide</th>\n",
       "      <th>Sound</th>\n",
       "    </tr>\n",
       "  </thead>\n",
       "  <tbody>\n",
       "    <tr>\n",
       "      <th>0</th>\n",
       "      <td>800</td>\n",
       "      <td>0.0</td>\n",
       "      <td>0.3048</td>\n",
       "      <td>71.3</td>\n",
       "      <td>0.002663</td>\n",
       "      <td>126.201</td>\n",
       "    </tr>\n",
       "    <tr>\n",
       "      <th>1</th>\n",
       "      <td>1000</td>\n",
       "      <td>0.0</td>\n",
       "      <td>0.3048</td>\n",
       "      <td>71.3</td>\n",
       "      <td>0.002663</td>\n",
       "      <td>125.201</td>\n",
       "    </tr>\n",
       "    <tr>\n",
       "      <th>2</th>\n",
       "      <td>1250</td>\n",
       "      <td>0.0</td>\n",
       "      <td>0.3048</td>\n",
       "      <td>71.3</td>\n",
       "      <td>0.002663</td>\n",
       "      <td>125.951</td>\n",
       "    </tr>\n",
       "    <tr>\n",
       "      <th>3</th>\n",
       "      <td>1600</td>\n",
       "      <td>0.0</td>\n",
       "      <td>0.3048</td>\n",
       "      <td>71.3</td>\n",
       "      <td>0.002663</td>\n",
       "      <td>127.591</td>\n",
       "    </tr>\n",
       "    <tr>\n",
       "      <th>4</th>\n",
       "      <td>2000</td>\n",
       "      <td>0.0</td>\n",
       "      <td>0.3048</td>\n",
       "      <td>71.3</td>\n",
       "      <td>0.002663</td>\n",
       "      <td>127.461</td>\n",
       "    </tr>\n",
       "  </tbody>\n",
       "</table>\n",
       "</div>"
      ],
      "text/plain": [
       "   Frequency  AngleAttack  ChordLength  FreeStreamVelocity  SuctionSide  \\\n",
       "0        800          0.0       0.3048                71.3     0.002663   \n",
       "1       1000          0.0       0.3048                71.3     0.002663   \n",
       "2       1250          0.0       0.3048                71.3     0.002663   \n",
       "3       1600          0.0       0.3048                71.3     0.002663   \n",
       "4       2000          0.0       0.3048                71.3     0.002663   \n",
       "\n",
       "     Sound  \n",
       "0  126.201  \n",
       "1  125.201  \n",
       "2  125.951  \n",
       "3  127.591  \n",
       "4  127.461  "
      ]
     },
     "execution_count": 2,
     "metadata": {},
     "output_type": "execute_result"
    }
   ],
   "source": [
    "df = pd.read_csv(\"../../data/regression/airfoil.csv\")\n",
    "df.head()"
   ]
  },
  {
   "cell_type": "markdown",
   "id": "c5d50ada",
   "metadata": {},
   "source": [
    "### Separate to in-domain / OOD data with a hyperplane"
   ]
  },
  {
   "cell_type": "code",
   "execution_count": 3,
   "id": "6f6724df",
   "metadata": {},
   "outputs": [
    {
     "name": "stdout",
     "output_type": "stream",
     "text": [
      "Found random direction n = [ 0.13666669 -0.21046149  0.37092866  0.44570104 -0.43332977 -0.64266321]\n",
      "Found split with ratio r = 0.20093147039254824\n"
     ]
    },
    {
     "data": {
      "text/html": [
       "<div>\n",
       "<style scoped>\n",
       "    .dataframe tbody tr th:only-of-type {\n",
       "        vertical-align: middle;\n",
       "    }\n",
       "\n",
       "    .dataframe tbody tr th {\n",
       "        vertical-align: top;\n",
       "    }\n",
       "\n",
       "    .dataframe thead th {\n",
       "        text-align: right;\n",
       "    }\n",
       "</style>\n",
       "<table border=\"1\" class=\"dataframe\">\n",
       "  <thead>\n",
       "    <tr style=\"text-align: right;\">\n",
       "      <th></th>\n",
       "      <th>Frequency</th>\n",
       "      <th>AngleAttack</th>\n",
       "      <th>ChordLength</th>\n",
       "      <th>FreeStreamVelocity</th>\n",
       "      <th>SuctionSide</th>\n",
       "      <th>Sound</th>\n",
       "    </tr>\n",
       "  </thead>\n",
       "  <tbody>\n",
       "    <tr>\n",
       "      <th>0</th>\n",
       "      <td>800</td>\n",
       "      <td>0.0</td>\n",
       "      <td>0.3048</td>\n",
       "      <td>71.3</td>\n",
       "      <td>0.002663</td>\n",
       "      <td>126.201</td>\n",
       "    </tr>\n",
       "    <tr>\n",
       "      <th>1</th>\n",
       "      <td>1000</td>\n",
       "      <td>0.0</td>\n",
       "      <td>0.3048</td>\n",
       "      <td>71.3</td>\n",
       "      <td>0.002663</td>\n",
       "      <td>125.201</td>\n",
       "    </tr>\n",
       "    <tr>\n",
       "      <th>2</th>\n",
       "      <td>1250</td>\n",
       "      <td>0.0</td>\n",
       "      <td>0.3048</td>\n",
       "      <td>71.3</td>\n",
       "      <td>0.002663</td>\n",
       "      <td>125.951</td>\n",
       "    </tr>\n",
       "    <tr>\n",
       "      <th>3</th>\n",
       "      <td>1600</td>\n",
       "      <td>0.0</td>\n",
       "      <td>0.3048</td>\n",
       "      <td>71.3</td>\n",
       "      <td>0.002663</td>\n",
       "      <td>127.591</td>\n",
       "    </tr>\n",
       "    <tr>\n",
       "      <th>4</th>\n",
       "      <td>2000</td>\n",
       "      <td>0.0</td>\n",
       "      <td>0.3048</td>\n",
       "      <td>71.3</td>\n",
       "      <td>0.002663</td>\n",
       "      <td>127.461</td>\n",
       "    </tr>\n",
       "  </tbody>\n",
       "</table>\n",
       "</div>"
      ],
      "text/plain": [
       "   Frequency  AngleAttack  ChordLength  FreeStreamVelocity  SuctionSide  \\\n",
       "0        800          0.0       0.3048                71.3     0.002663   \n",
       "1       1000          0.0       0.3048                71.3     0.002663   \n",
       "2       1250          0.0       0.3048                71.3     0.002663   \n",
       "3       1600          0.0       0.3048                71.3     0.002663   \n",
       "4       2000          0.0       0.3048                71.3     0.002663   \n",
       "\n",
       "     Sound  \n",
       "0  126.201  \n",
       "1  125.201  \n",
       "2  125.951  \n",
       "3  127.591  \n",
       "4  127.461  "
      ]
     },
     "execution_count": 3,
     "metadata": {},
     "output_type": "execute_result"
    }
   ],
   "source": [
    "D = df.values\n",
    "\n",
    "dom_idx, OOD_idx = hyperplane_split(D, OOD_size=0.2, verbose=1, seed=seed)\n",
    "\n",
    "df[dom_idx].head()"
   ]
  },
  {
   "cell_type": "markdown",
   "id": "ef695031",
   "metadata": {},
   "source": [
    "### We continue the training / testing pipeline with in-domain data only"
   ]
  },
  {
   "cell_type": "code",
   "execution_count": 4,
   "id": "d8083898",
   "metadata": {},
   "outputs": [],
   "source": [
    "# Minmax scaling for better network performace\n",
    "scaler = MinMaxScaler()\n",
    "D = df[dom_idx].values\n",
    "D = scaler.fit_transform(D)\n",
    "\n",
    "# Split in-domain data to data and labels\n",
    "X, y = D[:,:-1], D[:,-1]\n",
    "\n",
    "# Split to train/test\n",
    "X_train, X_test, y_train, y_test = train_test_split(X, y, test_size=0.2, random_state=seed)\n",
    "\n",
    "# Separate OOD data\n",
    "OOD = df[OOD_idx].values\n",
    "OOD = scaler.transform(OOD)         # need to also transform it to be compatible with the NN.\n",
    "X_OOD, y_OOD = OOD[:,:-1], OOD[:,-1]"
   ]
  },
  {
   "cell_type": "markdown",
   "id": "ab30bbd8",
   "metadata": {},
   "source": [
    "### Set network and batch size hyperparameters"
   ]
  },
  {
   "cell_type": "code",
   "execution_count": 5,
   "id": "a580dc85",
   "metadata": {},
   "outputs": [],
   "source": [
    "# Hyperparameters\n",
    "n_features = X_train.shape[1]\n",
    "n_hidden_1 = 100\n",
    "n_hidden_2 = 30\n",
    "n_epochs = 1000\n",
    "learning_rate = 0.0001\n",
    "weight_decay = 1e-5\n",
    "batch_size = 64"
   ]
  },
  {
   "cell_type": "markdown",
   "id": "0ef73517",
   "metadata": {},
   "source": [
    "### Prepare tensor dataset and loaders to pytorch format"
   ]
  },
  {
   "cell_type": "code",
   "execution_count": 6,
   "id": "249ae44f",
   "metadata": {},
   "outputs": [],
   "source": [
    "# Transformation required for regression problem\n",
    "y_train = y_train.reshape(-1, 1)\n",
    "y_test = y_test.reshape(-1, 1)\n",
    "y_OOD = y_OOD.reshape(-1, 1)\n",
    "\n",
    "# Tensor datasets\n",
    "train_dataset = data_loaders.create_torch_dataset(X_train, y_train, to_LongTensor=False)\n",
    "test_dataset = data_loaders.create_torch_dataset(X_test, y_test, to_LongTensor=False)\n",
    "OOD_dataset = data_loaders.create_torch_dataset(X_OOD, y_OOD, to_LongTensor=False)\n",
    "\n",
    "# Data loaders on gpu\n",
    "train_loader = data_loaders.create_loader(train_dataset, batch_size, device)\n",
    "test_loader = data_loaders.create_loader(test_dataset, batch_size, device)\n",
    "OOD_loader = data_loaders.create_loader(OOD_dataset, batch_size, device)"
   ]
  },
  {
   "cell_type": "markdown",
   "id": "4b193832",
   "metadata": {},
   "source": [
    "### Model setup\n",
    "\n",
    "Two hidden layers with 30 neurons and relu activation seems to work well."
   ]
  },
  {
   "cell_type": "code",
   "execution_count": 7,
   "id": "725b323a",
   "metadata": {},
   "outputs": [
    {
     "name": "stdout",
     "output_type": "stream",
     "text": [
      "torch.Size([64, 1])\n"
     ]
    }
   ],
   "source": [
    "airfoil_model = MLP(n_features, 1, [n_hidden_1, n_hidden_2], 'tanh', batch_norm=True).to(device)\n",
    "loss_function = nn.MSELoss()\n",
    "optimizer = optim.Adam(airfoil_model.parameters(), lr=learning_rate, weight_decay=weight_decay)"
   ]
  },
  {
   "cell_type": "code",
   "execution_count": 8,
   "id": "40daf48a",
   "metadata": {},
   "outputs": [
    {
     "name": "stdout",
     "output_type": "stream",
     "text": [
      "Average Train MSE: 0.00013\n"
     ]
    }
   ],
   "source": [
    "# Train\n",
    "train_losses = fit_regr(airfoil_model, loss_function, optimizer, train_loader, \n",
    "    n_epochs=n_epochs, verbose=0, early_stopping='dev', return_losses=True)\n",
    "avg_train_loss = train_losses[-1]\n",
    "\n",
    "print(f\"Average Train MSE: {avg_train_loss:.5f}\")    "
   ]
  },
  {
   "cell_type": "code",
   "execution_count": 9,
   "id": "2377376e",
   "metadata": {},
   "outputs": [
    {
     "data": {
      "image/png": "[encoded data removed]",
      "text/plain": [
       "<Figure size 648x432 with 1 Axes>"
      ]
     },
     "metadata": {
      "needs_background": "light"
     },
     "output_type": "display_data"
    }
   ],
   "source": [
    "plt.figure(figsize=(9,6))\n",
    "plt.plot(train_losses)\n",
    "plt.grid()\n",
    "plt.xlabel(\"Epoch\", fontsize=20)\n",
    "plt.ylabel(\"Loss\", fontsize=20)\n",
    "plt.title(\"MSE loss\", fontsize=20)\n",
    "plt.show()"
   ]
  },
  {
   "cell_type": "code",
   "execution_count": 10,
   "id": "40001774",
   "metadata": {},
   "outputs": [
    {
     "name": "stdout",
     "output_type": "stream",
     "text": [
      "Average Test MSE Loss: 0.00018204\n",
      "Average test MSE = 0.00018\n"
     ]
    }
   ],
   "source": [
    "avg_test_loss = test_regr(airfoil_model, loss_function, test_loader, verbose=1, return_loss=True)\n",
    "\n",
    "print(f\"Average test MSE = {avg_test_loss:.5f}\")   "
   ]
  },
  {
   "cell_type": "markdown",
   "id": "ba61e7a1",
   "metadata": {},
   "source": [
    "### Test on OOD data"
   ]
  },
  {
   "cell_type": "code",
   "execution_count": 11,
   "id": "66f5cca3",
   "metadata": {},
   "outputs": [
    {
     "name": "stdout",
     "output_type": "stream",
     "text": [
      "Average Test MSE Loss: 0.00081116\n",
      "Average OOD loss = 0.0008111643\n",
      "Average OOD loss to train loss ratio:  3.557\n",
      "Average OOD loss to test loss ratio:  3.392\n"
     ]
    }
   ],
   "source": [
    "avg_OOD_loss = test_regr(airfoil_model, loss_function, OOD_loader, verbose=1, return_loss=True)\n",
    "\n",
    "print(f\"Average OOD loss = {avg_OOD_loss:.10f}\")  \n",
    "print(f\"Average OOD loss to train loss ratio: {avg_OOD_loss / avg_train_loss : .3f}\")\n",
    "print(f\"Average OOD loss to test loss ratio: {avg_OOD_loss / avg_test_loss : .3f}\")"
   ]
  },
  {
   "cell_type": "markdown",
   "id": "1fece073",
   "metadata": {},
   "source": [
    "### Now that we have a pipeline ready, let's use 10-fold cross validation to see the performance on the whole data"
   ]
  },
  {
   "cell_type": "code",
   "execution_count": 19,
   "id": "d2d8a68e",
   "metadata": {},
   "outputs": [],
   "source": [
    "def pipeline(X_train, X_test, y_train, y_test, verbose=0):\n",
    "    \n",
    "    # Transformation required for regression problem\n",
    "    y_train = y_train.reshape(-1, 1)\n",
    "    y_test = y_test.reshape(-1, 1)\n",
    "\n",
    "    # Tensor datasets\n",
    "    train_dataset = data_loaders.create_torch_dataset(X_train, y_train, to_LongTensor=False)\n",
    "    test_dataset = data_loaders.create_torch_dataset(X_test, y_test, to_LongTensor=False)\n",
    "\n",
    "    # Data loaders on gpu\n",
    "    train_loader = data_loaders.create_loader(train_dataset, batch_size, device, num_workers=0)\n",
    "    test_loader = data_loaders.create_loader(test_dataset, batch_size, device, num_workers=0)\n",
    "\n",
    "    # Model setup\n",
    "    # airfoil_model = model.airfoil_NN(n_features, n_hidden_1, n_hidden_2).to(device)\n",
    "    # airfoil_model = model.airfoil_DNN(n_features, 512, 256, 128, 3).to(device)\n",
    "    airfoil_model = MLP(n_features, 1, [n_hidden_1, n_hidden_2], 'tanh', batch_norm=True).to(device)\n",
    "\n",
    "    loss_function = nn.MSELoss()\n",
    "    optimizer = optim.Adam(airfoil_model.parameters(), lr=learning_rate, weight_decay=weight_decay)\n",
    "\n",
    "    # fit function optionally returns a list with the epoch-wise losses\n",
    "    train_loss = fit_regr(airfoil_model, loss_function, optimizer, train_loader, \n",
    "                 n_epochs=n_epochs, verbose=0, early_stopping=True, return_losses=True) \n",
    "    test_loss = test_regr(airfoil_model, loss_function, test_loader, verbose=0, return_loss=True) \n",
    "    \n",
    "    if verbose:\n",
    "        print(f\"Average Train MSE Loss: {train_loss[-1] : .10f}\")\n",
    "        print(f\"Average Test MSE Loss : {test_loss : .10f}\" )\n",
    "\n",
    "    return train_loss, test_loss                 # train loss is a list, test loss is a float\n",
    " "
   ]
  },
  {
   "cell_type": "code",
   "execution_count": 20,
   "id": "cec3c2fa",
   "metadata": {},
   "outputs": [
    {
     "name": "stdout",
     "output_type": "stream",
     "text": [
      "\n",
      "Training on fold no. 1\n",
      "Average Train MSE Loss:  0.0001551312\n",
      "Average Test MSE Loss :  0.0003811459\n",
      "\n",
      "Training on fold no. 2\n",
      "Average Train MSE Loss:  0.0001144262\n",
      "Average Test MSE Loss :  0.0008711475\n",
      "\n",
      "Train losses: [0.00015513 0.00011443]\n",
      "\n",
      "Test losses: [0.00038115 0.00087115]\n",
      "\n",
      "Avg train loss over all folds: 0.00013\n",
      "Avg total train loss over all folds: 0.08100\n",
      "\n",
      "Avg test loss over all folds: 0.00063\n",
      "Avg total test loss over all folds: 0.37569\n"
     ]
    },
    {
     "data": {
      "image/png": "[encoded data removed]",
      "text/plain": [
       "<Figure size 648x432 with 1 Axes>"
      ]
     },
     "metadata": {
      "needs_background": "light"
     },
     "output_type": "display_data"
    },
    {
     "name": "stdout",
     "output_type": "stream",
     "text": [
      "CPU times: total: 11 s\n",
      "Wall time: 11.2 s\n"
     ]
    }
   ],
   "source": [
    "%%time \n",
    "\n",
    "n_splits = 2\n",
    "kf = KFold(n_splits)\n",
    "\n",
    "train_losses = np.zeros(n_splits)\n",
    "test_losses = np.zeros(n_splits)\n",
    "train_losses_plot = []                           # for plotting loss curves\n",
    "for i, (train_index, test_index) in enumerate(kf.split(X)):\n",
    "    \n",
    "    X_train, X_test = X[train_index], X[test_index]\n",
    "    y_train, y_test = y[train_index], y[test_index]\n",
    "    \n",
    "    print(\"\\nTraining on fold no. %d\" %(i+1))\n",
    "    epoch_wise_train_losses, test_losses[i] = pipeline(X_train, X_test, y_train, y_test, verbose=1)\n",
    "    train_losses[i] = epoch_wise_train_losses[-1]\n",
    "    train_losses_plot.append(epoch_wise_train_losses)\n",
    "    \n",
    "print(\"\\nTrain losses:\", train_losses)\n",
    "print(\"\\nTest losses:\", test_losses)\n",
    "\n",
    "avg_train_loss_k_folds = train_losses.mean() \n",
    "avg_test_loss_k_folds = test_losses.mean() \n",
    "print(f\"\\nAvg train loss over all folds: {avg_train_loss_k_folds :.5f}\")\n",
    "print(f\"Avg total train loss over all folds: {len(X_train) * avg_train_loss_k_folds :.5f}\")\n",
    "print(f\"\\nAvg test loss over all folds: {avg_test_loss_k_folds :.5f}\")\n",
    "print(f\"Avg total test loss over all folds: {len(X_test) * avg_test_loss_k_folds :.5f}\")\n",
    "\n",
    "plt.figure(figsize=(9,6))\n",
    "for losses in train_losses_plot:\n",
    "    plt.plot(losses)\n",
    "plt.grid()\n",
    "plt.xlabel(\"Epoch\", fontsize=20)\n",
    "plt.ylabel(\"Loss\", fontsize=20)\n",
    "plt.title(f\"Loss curves for {n_splits} folds\", fontsize=20)\n",
    "plt.show()"
   ]
  },
  {
   "cell_type": "markdown",
   "id": "0e80f2bd",
   "metadata": {},
   "source": [
    "### Test on OOD data"
   ]
  },
  {
   "cell_type": "code",
   "execution_count": 15,
   "id": "0a533677",
   "metadata": {},
   "outputs": [
    {
     "name": "stdout",
     "output_type": "stream",
     "text": [
      "Average OOD loss = 0.0008063013\n",
      "Average OOD loss to train loss ratio:  6.112\n",
      "Average OOD loss to test loss ratio:  1.009\n"
     ]
    }
   ],
   "source": [
    "avg_OOD_loss = test_regr(airfoil_model, loss_function, OOD_loader, return_loss=True)\n",
    "\n",
    "print(f\"Average OOD loss = {avg_OOD_loss:.10f}\")  \n",
    "print(f\"Average OOD loss to train loss ratio: {avg_OOD_loss / avg_train_loss_k_folds : .3f}\")\n",
    "print(f\"Average OOD loss to test loss ratio: {avg_OOD_loss / avg_test_loss_k_folds : .3f}\")"
   ]
  },
  {
   "cell_type": "markdown",
   "id": "f330bf9f",
   "metadata": {},
   "source": [
    "### We see that the loss on OOD data is higher, which is a good sign for the domain splitting method."
   ]
  },
  {
   "cell_type": "markdown",
   "id": "c63bd0c4",
   "metadata": {},
   "source": [
    "## Now for the Bayesian treatment"
   ]
  },
  {
   "cell_type": "code",
   "execution_count": 35,
   "id": "5ffbf536",
   "metadata": {},
   "outputs": [
    {
     "name": "stderr",
     "output_type": "stream",
     "text": [
      "Sample: 100%|███████████████████████████████████████████| 15/15 [00:42,  2.87s/it, step size=4.94e-05, acc. prob=0.985]\n"
     ]
    },
    {
     "data": {
      "text/plain": [
       "<pyro.infer.mcmc.api.MCMC at 0x1b8a404e220>"
      ]
     },
     "execution_count": 35,
     "metadata": {},
     "output_type": "execute_result"
    }
   ],
   "source": [
    "# Model \n",
    "net = MLP(n_features, 1, [n_hidden_1, n_hidden_2], 'sigmoid', batch_norm=True).to(device)\n",
    "\n",
    "prior = tyxe.priors.IIDPrior(dist.Normal(\n",
    "        torch.tensor(0, device=device, dtype=torch.float),\n",
    "        torch.tensor(1, device=device, dtype=torch.float)))\n",
    "prior_name = \", IID prior\"\n",
    "likelihood = tyxe.likelihoods.HomoskedasticGaussian(len(X_train), scale=1e-2)\n",
    "likelihood_name = \", Homoskedastic Gaussian likelihood\"\n",
    "kernel = partial(pyro.infer.mcmc.HMC, step_size=1e-3, num_steps=20, target_accept_prob=0.7)\n",
    "kernel_name = \"HMC\"\n",
    "bnn = tyxe.bnn.MCMC_BNN(net, prior, likelihood, kernel)\n",
    "bnn.name = kernel_name + \", MCMC BNN\" + likelihood_name + prior_name\n",
    "setattr(bnn, 'hidden_layers', [n_hidden_1, n_hidden_2])\n",
    "\n",
    "# Fit\n",
    "pyro.clear_param_store()\n",
    "bnn.fit(train_loader, 10, warmup_steps=5)"
   ]
  },
  {
   "cell_type": "markdown",
   "id": "a69c286b",
   "metadata": {},
   "source": [
    "### We evaluate the model on train, test and OOD data."
   ]
  },
  {
   "cell_type": "code",
   "execution_count": 36,
   "id": "a00c7ce3",
   "metadata": {
    "scrolled": true
   },
   "outputs": [
    {
     "name": "stdout",
     "output_type": "stream",
     "text": [
      "Train evaluation:\n",
      "Inference type: HMC, MCMC BNN, Homoskedastic Gaussian likelihood, IID prior\n",
      "Evaluated on: airfoil, Train data\n",
      "Neural network: [100, 30]\n",
      "Number of posterior samples: 100\n",
      "Average NLPD: 1204.2712\n",
      "SD of NLPD: 15306.563\n",
      "Total NLPD: 1156100.4\n",
      "Average loss: 0.1064050189\n",
      "Total loss: 102.1488181651\n",
      "\n",
      "Test evaluation:\n",
      "Inference type: HMC, MCMC BNN, Homoskedastic Gaussian likelihood, IID prior\n",
      "Evaluated on: airfoil, Test data\n",
      "Neural network: [100, 30]\n",
      "Number of posterior samples: 100\n",
      "Average NLPD: 1198.366\n",
      "SD of NLPD: 11819.473\n",
      "Total NLPD: 288806.2\n",
      "Average loss: 0.0042775141\n",
      "Total loss: 1.0308808982\n",
      "\n",
      "OOD evaluation:\n",
      "Inference type: HMC, MCMC BNN, Homoskedastic Gaussian likelihood, IID prior\n",
      "Evaluated on: airfoil, OOD data\n",
      "Neural network: [100, 30]\n",
      "Number of posterior samples: 100\n",
      "Average NLPD: 1385871.1\n",
      "SD of NLPD: 3665118.0\n",
      "Total NLPD: 418533100.0\n",
      "Average loss: 5.2319328864\n",
      "Total loss: 1580.0437316895\n"
     ]
    }
   ],
   "source": [
    "posterior_samples = 100\n",
    "\n",
    "# Train\n",
    "train_evaluation = evaluate_regr(bnn, train_loader, loss_function, posterior_samples=posterior_samples, rounded=10,\n",
    "                           dataset=\"airfoil, Train data\", device=device)\n",
    "test_evaluation = evaluate_regr(bnn, test_loader, loss_function, posterior_samples=posterior_samples, rounded=10,\n",
    "                           dataset=\"airfoil, Test data\", device=device)\n",
    "OOD_evaluation = evaluate_regr(bnn, OOD_loader, loss_function, posterior_samples=posterior_samples, rounded=10,\n",
    "                           dataset=\"airfoil, OOD data\", device=device)\n",
    "\n",
    "print(\"Train evaluation:\")\n",
    "util.print_dict(train_evaluation)\n",
    "\n",
    "print(\"\\nTest evaluation:\")\n",
    "util.print_dict(test_evaluation)\n",
    "\n",
    "print(\"\\nOOD evaluation:\")\n",
    "util.print_dict(OOD_evaluation)"
   ]
  },
  {
   "cell_type": "markdown",
   "id": "4be4351a",
   "metadata": {},
   "source": [
    "### Variational inference\n"
   ]
  },
  {
   "cell_type": "code",
   "execution_count": 19,
   "id": "21c8be49",
   "metadata": {},
   "outputs": [],
   "source": [
    "# Only run this to select new domain split\n",
    "\n",
    "def reset():\n",
    "    # Data\n",
    "    dom_idx, OOD_idx = hyperplane_split(df.values, OOD_size=0.2, verbose=1)\n",
    "\n",
    "    # Minmax scaling for better network performace\n",
    "    scaler = MinMaxScaler()\n",
    "    D = df[dom_idx].values\n",
    "    D = scaler.fit_transform(D)\n",
    "\n",
    "    # Split in-domain data to data and labels\n",
    "    X, y = D[:,:-1], D[:,-1]\n",
    "\n",
    "    # Split to train/test\n",
    "    X_train, X_test, y_train, y_test = train_test_split(X, y, test_size=0.2)#, random_state=42)\n",
    "\n",
    "    # Separate OOD data\n",
    "    OOD = df[OOD_idx].values\n",
    "    OOD = scaler.transform(OOD)         # need to also transform it to be compatible with the NN.\n",
    "    X_OOD, y_OOD = OOD[:,:-1], OOD[:,-1]\n",
    "\n",
    "    # Split to train / test\n",
    "    X_train, X_test, y_train, y_test = train_test_split(X, y, test_size=0.2)#, random_state=42)\n",
    "\n",
    "    # Transformation required for regression problem\n",
    "    y_train = y_train.reshape(-1, 1)\n",
    "    y_test = y_test.reshape(-1, 1)\n",
    "    y_OOD = y_OOD.reshape(-1, 1)\n",
    "\n",
    "    # Tensor datasets\n",
    "    train_dataset = data_loaders.create_torch_dataset(X_train, y_train, to_LongTensor=False)\n",
    "    test_dataset = data_loaders.create_torch_dataset(X_test, y_test, to_LongTensor=False)\n",
    "    OOD_dataset = data_loaders.create_torch_dataset(X_OOD, y_OOD, to_LongTensor=False)\n",
    "\n",
    "    # Data loaders on gpu\n",
    "    train_loader = data_loaders.create_loader(train_dataset, batch_size_train, device)\n",
    "    test_loader = data_loaders.create_loader(test_dataset, batch_size_test, device)\n",
    "    OOD_loader = data_loaders.create_loader(OOD_dataset, batch_size_test, device)\n",
    "    \n",
    "    pass\n",
    "\n",
    "# reset()"
   ]
  },
  {
   "cell_type": "code",
   "execution_count": 30,
   "id": "9026c932",
   "metadata": {},
   "outputs": [],
   "source": [
    "train_size = len(X_train)\n",
    "test_size = len(X_test)\n",
    "\n",
    "# Model \n",
    "var_net = MLP(n_features, 1, [n_hidden_1, n_hidden_2], 'relu', batch_norm=True).to(device)\n",
    "prior = tyxe.priors.IIDPrior(\n",
    "    dist.Normal(\n",
    "        torch.tensor(0, device=device, dtype=torch.float),\n",
    "        torch.tensor(1, device=device, dtype=torch.float),\n",
    "    ),\n",
    ")\n",
    "prior_name = \", IID prior\"\n",
    "obs_model = tyxe.likelihoods.HomoskedasticGaussian(train_size, scale=0.01)\n",
    "likelihood_name = \", Homoskedastic Gaussian likelihood\"\n",
    "guide_builder = partial(tyxe.guides.AutoNormal, init_scale=0.01)\n",
    "guide_name = \"Mean field\"\n",
    "var_bnn = tyxe.VariationalBNN(var_net, prior, obs_model, guide_builder)\n",
    "var_bnn.name = guide_name + \" Variational BNN\" + likelihood_name + prior_name"
   ]
  },
  {
   "cell_type": "code",
   "execution_count": 31,
   "id": "8e54bd82",
   "metadata": {
    "scrolled": false
   },
   "outputs": [],
   "source": [
    "# Fit\n",
    "n_epochs = 30\n",
    "pyro.clear_param_store()\n",
    "optim = pyro.optim.Adam({\"lr\": 1e-3})\n",
    "elbos = []    \n",
    "def callback(bnn, i, e):\n",
    "    elbos.append(e)\n",
    "var_bnn.fit(train_loader, optim, n_epochs, callback, device=device)\n",
    "setattr(var_bnn, 'hidden_layers', [n_hidden_1, n_hidden_2])"
   ]
  },
  {
   "cell_type": "code",
   "execution_count": 32,
   "id": "0cf4d72c",
   "metadata": {},
   "outputs": [
    {
     "name": "stdout",
     "output_type": "stream",
     "text": [
      "Train evaluation:\n",
      "Inference type: Mean field Variational BNN, Homoskedastic Gaussian likelihood, IID prior\n",
      "Evaluated on: airfoil, Train data\n",
      "Neural network: [100, 30]\n",
      "Number of posterior samples: 100\n",
      "Average NLPD: 3.785821\n",
      "SD of NLPD: 20.737915\n",
      "Total NLPD: 3634.388\n",
      "Average loss: 0.000131408\n",
      "Total loss: 0.1261516609\n",
      "\n",
      "Test evaluation:\n",
      "Inference type: Mean field Variational BNN, Homoskedastic Gaussian likelihood, IID prior\n",
      "Evaluated on: airfoil, Test data\n",
      "Neural network: [100, 30]\n",
      "Number of posterior samples: 100\n",
      "Average NLPD: 3.984973\n",
      "SD of NLPD: 13.698948\n",
      "Total NLPD: 960.37836\n",
      "Average loss: 0.0001412031\n",
      "Total loss: 0.0340299541\n",
      "\n",
      "OOD evaluation:\n",
      "Inference type: Mean field Variational BNN, Homoskedastic Gaussian likelihood, IID prior\n",
      "Evaluated on: airfoil, OOD data\n",
      "Neural network: [100, 30]\n",
      "Number of posterior samples: 100\n",
      "Average NLPD: 134.30888\n",
      "SD of NLPD: 285.7068\n",
      "Total NLPD: 40561.28\n",
      "Average loss: 0.0010850132\n",
      "Total loss: 0.3276739903\n"
     ]
    }
   ],
   "source": [
    "posterior_samples = 100\n",
    "\n",
    "# Train\n",
    "train_evaluation = evaluate_regr(var_bnn, train_loader, loss_function, posterior_samples=posterior_samples, rounded=10,\n",
    "                           dataset=\"airfoil, Train data\", device=device)\n",
    "test_evaluation = evaluate_regr(var_bnn, test_loader, loss_function, posterior_samples=posterior_samples, rounded=10,\n",
    "                           dataset=\"airfoil, Test data\", device=device)\n",
    "OOD_evaluation = evaluate_regr(var_bnn, OOD_loader, loss_function, posterior_samples=posterior_samples, rounded=10,\n",
    "                           dataset=\"airfoil, OOD data\", device=device)\n",
    "\n",
    "\n",
    "print(\"Train evaluation:\")\n",
    "util.print_dict(train_evaluation)\n",
    "\n",
    "print(\"\\nTest evaluation:\")\n",
    "util.print_dict(test_evaluation)\n",
    "\n",
    "print(\"\\nOOD evaluation:\")\n",
    "util.print_dict(OOD_evaluation)"
   ]
  },
  {
   "cell_type": "markdown",
   "id": "0cf5d1dd",
   "metadata": {},
   "source": [
    "# Draft below"
   ]
  },
  {
   "cell_type": "code",
   "execution_count": 25,
   "id": "13951e88",
   "metadata": {},
   "outputs": [
    {
     "data": {
      "text/plain": [
       "(tensor(0., device='cuda:0'), tensor(416.4776, device='cuda:0'))"
      ]
     },
     "execution_count": 25,
     "metadata": {},
     "output_type": "execute_result"
    }
   ],
   "source": [
    "X_ood, y_ood = data_loaders.separate_torch_dataset(OOD_dataset, device=device)\n",
    "\n",
    "var_bnn.evaluate(X_ood, y_ood, posterior_samples, reduction='mean')"
   ]
  },
  {
   "cell_type": "markdown",
   "id": "de473408",
   "metadata": {},
   "source": [
    "In the case of **Homoskedastic Gaussian** likelihood:\n",
    "\n",
    "Instead of calculating the likelihood for each test point\n",
    "$$ p(y_{test} | x_{test}, \\theta_t) = N ( f_{\\theta} (x_{test}), sd) $$\n",
    "and then doing Bayesian model averaging\n",
    "$$ p ( y_{test} | x_{test}, \\theta) = \\frac{1}{T} \\sum_t p(y_{test} | x_{test}, \\theta_t), \\ \\ \\ \\ \\theta_t \\sim p(\\theta | x,y) \\ \\ \\ \\ \\ \\text{(average over posterior samples)}$$\n",
    "to then calculate the NLPD\n",
    "$$ NLPD = -\\frac{1}{N} \\sum_i \\log p(y_i | x_i, \\theta), \\ \\ \\ \\ \\ \\text{(average over data)}$$\n",
    "\n",
    "could we split the data into batches and calculate an average prediction for each batch B:\n",
    "$$ \\bar{y}_{\\text{B}} = \\frac{1}{|\\text{B}|} \\sum_{x \\in \\text{B}} f_{\\theta}(x), \\ \\ \\ \\ \\ \\text{B=batch} $$\n",
    "and then compare against that average value?\n",
    "\n",
    "That is, for each $(x_{test}, y_{test})$ in batch B, calculate:\n",
    "$$ p( y_{test} | x_{test}, \\theta) = \\mathcal{N}( \\bar{y}_{\\text{B}}, \\sigma \\text{*}), $$\n",
    "and then calculate the NLPD as before\n",
    "$$ NLPD = -\\frac{1}{N} \\sum_i \\log p(y_{test} | x_{test}, \\theta). $$\n",
    "\n",
    "\n",
    "\\*where $\\sigma$ is the common posterior sd (due to HG assumption)"
   ]
  },
  {
   "cell_type": "code",
   "execution_count": null,
   "id": "3582b9cd",
   "metadata": {},
   "outputs": [],
   "source": []
  },
  {
   "cell_type": "markdown",
   "id": "78f0f5e5",
   "metadata": {},
   "source": [
    "### you are here"
   ]
  },
  {
   "cell_type": "code",
   "execution_count": 16,
   "id": "824d49f6",
   "metadata": {},
   "outputs": [
    {
     "data": {
      "text/plain": [
       "tensor(14.1355, device='cuda:0')"
      ]
     },
     "execution_count": 16,
     "metadata": {},
     "output_type": "execute_result"
    }
   ],
   "source": [
    "posterior_samples = 32\n",
    "\n",
    "nllh = torch.empty(0, device='cuda')\n",
    "for X, target in test_loader:\n",
    "    \n",
    "    pred_mean, pred_sd = bnn.predict(X, num_predictions=posterior_samples)\n",
    "    \n",
    "    nllh_batch = -1 * norm(pred_mean, pred_sd).log_prob(target)\n",
    "    nllh = torch.cat((nllh, nllh_batch))\n",
    "    \n",
    "nlpd = nllh.mean()\n",
    "nlpd"
   ]
  },
  {
   "cell_type": "code",
   "execution_count": 115,
   "id": "659da694",
   "metadata": {},
   "outputs": [
    {
     "data": {
      "text/plain": [
       "(tensor(1.0815, device='cuda:0'),\n",
       " tensor(0.1093, device='cuda:0'),\n",
       " tensor(1038.2397, device='cuda:0'))"
      ]
     },
     "execution_count": 115,
     "metadata": {},
     "output_type": "execute_result"
    }
   ],
   "source": [
    "NLPD(bnn, train_loader, 1000)\n",
    "    "
   ]
  },
  {
   "cell_type": "code",
   "execution_count": 33,
   "id": "bdfcd8d9",
   "metadata": {},
   "outputs": [],
   "source": [
    "def NLPD_2(\n",
    "    model, \n",
    "    loader, \n",
    "    posterior_samples, \n",
    "    likelihood = \"Homoskedastic Gaussian\",   # TODO: obtain this from model, implement other likelihoods\n",
    "    device='cuda',\n",
    "    verbose=0,\n",
    "    ):\n",
    "    \"\"\"\n",
    "    Calculate mean, sd and total NLPD for regression model.\n",
    "    Used inside evaluate_regr().\n",
    "    \"\"\"\n",
    "    \n",
    "    if likelihood == \"Homoskedastic Gaussian\":\n",
    "        sd = util.posterior_sd(model)\n",
    "    else:\n",
    "        raise(\"This type of likelihood is not impleneted yet.\")\n",
    "        \n",
    "    # torch tensor with number of posterior samples\n",
    "    T = torch.tensor(posterior_samples)\n",
    "    \n",
    "    NLPD = torch.empty(0, device='cuda')\n",
    "    with torch.no_grad():\n",
    "        for data, target in loader:\n",
    "            # pred is a matrix with dimensions (posterior_samples, batch_size, 1)\n",
    "            pred = model.predict(data, num_predictions=posterior_samples, aggregate=False)\n",
    "            \n",
    "            # warning: heavily vectorized operations ahead!\n",
    "            if likelihood == \"Homoskedastic Gaussian\":\n",
    "                # we transpose pred matrix and vanish the 3rd dimension (it's just 1)\n",
    "                # resulting matrix is of dimension (batch_size, posterior_samples)\n",
    "                log_p = norm(pred[:, :, -1].T, sd).log_prob(target)\n",
    "            else:\n",
    "                raise(\"This type of likelihood is not impleneted yet.\")\n",
    "            \n",
    "            # calculate NLPD\n",
    "            # log_p is now a matrix, we calculate logsumexp along axis=1\n",
    "            nlpd = -( torch.logsumexp(log_p, 1) - T.log() )\n",
    "            NLPD = torch.cat((NLPD, nlpd))\n",
    "\n",
    "    avg_NLPD = NLPD.mean()\n",
    "    sd_NLPD = NLPD.std()\n",
    "    total_NLPD = NLPD.sum()\n",
    "    \n",
    "    if verbose==1:\n",
    "        print(\"Average NLPD =\", avg_NLPD.cpu().detach().numpy())\n",
    "        print(\"SD of NLPD =\", sd_NLPD.cpu().detach().numpy())\n",
    "        print(\"Total NLPD =\", total_NLPD.cpu().detach().numpy())\n",
    "    \n",
    "    return avg_NLPD, sd_NLPD, total_NLPD"
   ]
  },
  {
   "cell_type": "code",
   "execution_count": null,
   "id": "ada20367",
   "metadata": {},
   "outputs": [],
   "source": [
    "T = number of posterior samples\n",
    "B = batch size\n",
    "\n",
    "nlpd = torch.empty(0, device='cuda')\n",
    "for X, target in loader:\n",
    "    \n",
    "    # pred is a matrix of dimensions (T, B, 1)\n",
    "    pred_mean = bnn.predict(X, num_predictions=posterior_samples, aggregate=False)\n",
    "    \n",
    "    # transpose pred matrix and vanish the 3rd \"fake\" dimension\n",
    "    # resulting matrix is of dimension BxT\n",
    "    pred = pred[:, :, -1].T\n",
    "    \n",
    "    # Homoskedastic Gaussian likelihood implies all parameters have a common shared posterior variance\n",
    "    sd = posterior_sd(bnn)      # flatten all parameters from all posterior samples and calculate the common sd\n",
    "    \n",
    "    # Calculate negative log likelihoods (or \"log probabilities\")\n",
    "    # nllh is a matrix of dimension BxT\n",
    "    # (nllh)_ij is the log likelihood of target_i conditioned on output of \"posterior\" network j with input X_i and the common sd\n",
    "    nllh = -1 * norm(pred, sd).log_prob(target)     # heavily vectorized pytorch magic\n",
    "    \n",
    "    # calculate NLPD\n",
    "    # logsumexp is calculated along axis 1 (one resulting value for each data point)\n",
    "    # result is of dimension Bx1\n",
    "    nlpd_batch = torch.logsumexp(log_p, 1) - T.log()     \n",
    "    \n",
    "    nlpd = torch.cat((nlpd, nlpd_batch))\n",
    "    \n",
    "avg_nlpd = nlpd.mean()"
   ]
  },
  {
   "cell_type": "code",
   "execution_count": null,
   "id": "f43e6037",
   "metadata": {},
   "outputs": [],
   "source": []
  },
  {
   "cell_type": "code",
   "execution_count": null,
   "id": "18485e53",
   "metadata": {},
   "outputs": [],
   "source": []
  },
  {
   "cell_type": "code",
   "execution_count": null,
   "id": "85aab159",
   "metadata": {},
   "outputs": [],
   "source": []
  },
  {
   "cell_type": "code",
   "execution_count": null,
   "id": "5922c757",
   "metadata": {},
   "outputs": [],
   "source": []
  },
  {
   "cell_type": "code",
   "execution_count": null,
   "id": "31defb93",
   "metadata": {},
   "outputs": [],
   "source": []
  },
  {
   "cell_type": "code",
   "execution_count": null,
   "id": "cba11f67",
   "metadata": {},
   "outputs": [],
   "source": []
  },
  {
   "cell_type": "code",
   "execution_count": null,
   "id": "dbd1d95f",
   "metadata": {},
   "outputs": [],
   "source": []
  },
  {
   "cell_type": "code",
   "execution_count": null,
   "id": "a0b29a21",
   "metadata": {},
   "outputs": [],
   "source": []
  },
  {
   "cell_type": "code",
   "execution_count": null,
   "id": "47837476",
   "metadata": {},
   "outputs": [],
   "source": []
  },
  {
   "cell_type": "code",
   "execution_count": null,
   "id": "26b44757",
   "metadata": {},
   "outputs": [],
   "source": [
    "# Below is empty space, to allow github scrolling at the bottom"
   ]
  },
  {
   "cell_type": "code",
   "execution_count": null,
   "id": "257c9153",
   "metadata": {},
   "outputs": [],
   "source": []
  },
  {
   "cell_type": "code",
   "execution_count": null,
   "id": "e8f95a38",
   "metadata": {},
   "outputs": [],
   "source": []
  },
  {
   "cell_type": "code",
   "execution_count": null,
   "id": "78fe486d",
   "metadata": {},
   "outputs": [],
   "source": []
  },
  {
   "cell_type": "code",
   "execution_count": null,
   "id": "c48f315e",
   "metadata": {},
   "outputs": [],
   "source": []
  },
  {
   "cell_type": "code",
   "execution_count": null,
   "id": "a4cef161",
   "metadata": {},
   "outputs": [],
   "source": []
  },
  {
   "cell_type": "code",
   "execution_count": null,
   "id": "52b765e4",
   "metadata": {},
   "outputs": [],
   "source": []
  },
  {
   "cell_type": "code",
   "execution_count": null,
   "id": "b98b3629",
   "metadata": {},
   "outputs": [],
   "source": []
  },
  {
   "cell_type": "code",
   "execution_count": null,
   "id": "7652adfc",
   "metadata": {},
   "outputs": [],
   "source": []
  },
  {
   "cell_type": "code",
   "execution_count": null,
   "id": "a2848dc4",
   "metadata": {},
   "outputs": [],
   "source": []
  },
  {
   "cell_type": "code",
   "execution_count": null,
   "id": "ae1f53d0",
   "metadata": {},
   "outputs": [],
   "source": []
  },
  {
   "cell_type": "code",
   "execution_count": null,
   "id": "4f4c98ea",
   "metadata": {},
   "outputs": [],
   "source": []
  },
  {
   "cell_type": "code",
   "execution_count": null,
   "id": "7a90cc6c",
   "metadata": {},
   "outputs": [],
   "source": []
  },
  {
   "cell_type": "code",
   "execution_count": null,
   "id": "a64c0798",
   "metadata": {},
   "outputs": [],
   "source": []
  },
  {
   "cell_type": "code",
   "execution_count": null,
   "id": "38a29235",
   "metadata": {},
   "outputs": [],
   "source": []
  },
  {
   "cell_type": "code",
   "execution_count": null,
   "id": "2fadaa1c",
   "metadata": {},
   "outputs": [],
   "source": []
  },
  {
   "cell_type": "code",
   "execution_count": null,
   "id": "06ee18a5",
   "metadata": {},
   "outputs": [],
   "source": []
  },
  {
   "cell_type": "code",
   "execution_count": null,
   "id": "996484bc",
   "metadata": {},
   "outputs": [],
   "source": []
  },
  {
   "cell_type": "code",
   "execution_count": null,
   "id": "46025de8",
   "metadata": {},
   "outputs": [],
   "source": []
  },
  {
   "cell_type": "code",
   "execution_count": null,
   "id": "3b3c1428",
   "metadata": {},
   "outputs": [],
   "source": []
  },
  {
   "cell_type": "code",
   "execution_count": null,
   "id": "a7a10d72",
   "metadata": {},
   "outputs": [],
   "source": []
  },
  {
   "cell_type": "code",
   "execution_count": null,
   "id": "11c5b1de",
   "metadata": {},
   "outputs": [],
   "source": []
  },
  {
   "cell_type": "code",
   "execution_count": null,
   "id": "cf3123e7",
   "metadata": {},
   "outputs": [],
   "source": []
  },
  {
   "cell_type": "code",
   "execution_count": null,
   "id": "514e845c",
   "metadata": {},
   "outputs": [],
   "source": []
  },
  {
   "cell_type": "code",
   "execution_count": null,
   "id": "0b563fa3",
   "metadata": {},
   "outputs": [],
   "source": []
  }
 ],
 "metadata": {
  "kernelspec": {
   "display_name": "Python 3 (ipykernel)",
   "language": "python",
   "name": "python3"
  },
  "language_info": {
   "codemirror_mode": {
    "name": "ipython",
    "version": 3
   },
   "file_extension": ".py",
   "mimetype": "text/x-python",
   "name": "python",
   "nbconvert_exporter": "python",
   "pygments_lexer": "ipython3",
   "version": "3.9.12"
  }
 },
 "nbformat": 4,
 "nbformat_minor": 5
}
