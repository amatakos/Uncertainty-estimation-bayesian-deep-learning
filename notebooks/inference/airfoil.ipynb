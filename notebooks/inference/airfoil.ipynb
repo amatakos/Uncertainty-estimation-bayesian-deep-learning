{
 "cells": [
  {
   "cell_type": "markdown",
   "id": "c966c204",
   "metadata": {},
   "source": [
    "### Imports"
   ]
  },
  {
   "cell_type": "code",
   "execution_count": 1,
   "id": "7682c71b",
   "metadata": {},
   "outputs": [],
   "source": [
    "import os\n",
    "\n",
    "import numpy as np\n",
    "import numpy.random as npr\n",
    "import pandas as pd\n",
    "import matplotlib.pyplot as plt\n",
    "from sklearn.model_selection import train_test_split\n",
    "from sklearn.model_selection import KFold\n",
    "from sklearn.preprocessing import MinMaxScaler\n",
    "import torch\n",
    "import torch.nn as nn\n",
    "import torch.nn.functional as F\n",
    "import torch.optim as optim\n",
    "from torch.utils.data import TensorDataset\n",
    "from torch.distributions.normal import Normal as norm\n",
    "import torchmetrics as tm\n",
    "import pyro\n",
    "import pyro.distributions as dist\n",
    "import tyxe\n",
    "from functools import partial\n",
    "\n",
    "from src import evaluate\n",
    "from src.evaluate import evaluate_regr\n",
    "import src.utils\n",
    "from src.utils import util, data_loaders\n",
    "from src.utils.domain_split import hyperplane_split\n",
    "from src.train_test import fit_regr, test_regr\n",
    "from src.model import MLP\n",
    "\n",
    "# seed = np.random.randint(10000)\n",
    "seed = 7141 #4092\n",
    "np.random.seed(seed)\n",
    "torch.manual_seed(seed)\n",
    "\n",
    "device = torch.device('cuda' if torch.cuda.is_available() else 'cpu')"
   ]
  },
  {
   "cell_type": "markdown",
   "id": "d69c07e9",
   "metadata": {},
   "source": [
    "### Read airfoil data"
   ]
  },
  {
   "cell_type": "code",
   "execution_count": 2,
   "id": "8714fe2f",
   "metadata": {},
   "outputs": [
    {
     "data": {
      "text/html": [
       "<div>\n",
       "<style scoped>\n",
       "    .dataframe tbody tr th:only-of-type {\n",
       "        vertical-align: middle;\n",
       "    }\n",
       "\n",
       "    .dataframe tbody tr th {\n",
       "        vertical-align: top;\n",
       "    }\n",
       "\n",
       "    .dataframe thead th {\n",
       "        text-align: right;\n",
       "    }\n",
       "</style>\n",
       "<table border=\"1\" class=\"dataframe\">\n",
       "  <thead>\n",
       "    <tr style=\"text-align: right;\">\n",
       "      <th></th>\n",
       "      <th>Frequency</th>\n",
       "      <th>AngleAttack</th>\n",
       "      <th>ChordLength</th>\n",
       "      <th>FreeStreamVelocity</th>\n",
       "      <th>SuctionSide</th>\n",
       "      <th>Sound</th>\n",
       "    </tr>\n",
       "  </thead>\n",
       "  <tbody>\n",
       "    <tr>\n",
       "      <th>0</th>\n",
       "      <td>800</td>\n",
       "      <td>0.0</td>\n",
       "      <td>0.3048</td>\n",
       "      <td>71.3</td>\n",
       "      <td>0.002663</td>\n",
       "      <td>126.201</td>\n",
       "    </tr>\n",
       "    <tr>\n",
       "      <th>1</th>\n",
       "      <td>1000</td>\n",
       "      <td>0.0</td>\n",
       "      <td>0.3048</td>\n",
       "      <td>71.3</td>\n",
       "      <td>0.002663</td>\n",
       "      <td>125.201</td>\n",
       "    </tr>\n",
       "    <tr>\n",
       "      <th>2</th>\n",
       "      <td>1250</td>\n",
       "      <td>0.0</td>\n",
       "      <td>0.3048</td>\n",
       "      <td>71.3</td>\n",
       "      <td>0.002663</td>\n",
       "      <td>125.951</td>\n",
       "    </tr>\n",
       "    <tr>\n",
       "      <th>3</th>\n",
       "      <td>1600</td>\n",
       "      <td>0.0</td>\n",
       "      <td>0.3048</td>\n",
       "      <td>71.3</td>\n",
       "      <td>0.002663</td>\n",
       "      <td>127.591</td>\n",
       "    </tr>\n",
       "    <tr>\n",
       "      <th>4</th>\n",
       "      <td>2000</td>\n",
       "      <td>0.0</td>\n",
       "      <td>0.3048</td>\n",
       "      <td>71.3</td>\n",
       "      <td>0.002663</td>\n",
       "      <td>127.461</td>\n",
       "    </tr>\n",
       "  </tbody>\n",
       "</table>\n",
       "</div>"
      ],
      "text/plain": [
       "   Frequency  AngleAttack  ChordLength  FreeStreamVelocity  SuctionSide  \\\n",
       "0        800          0.0       0.3048                71.3     0.002663   \n",
       "1       1000          0.0       0.3048                71.3     0.002663   \n",
       "2       1250          0.0       0.3048                71.3     0.002663   \n",
       "3       1600          0.0       0.3048                71.3     0.002663   \n",
       "4       2000          0.0       0.3048                71.3     0.002663   \n",
       "\n",
       "     Sound  \n",
       "0  126.201  \n",
       "1  125.201  \n",
       "2  125.951  \n",
       "3  127.591  \n",
       "4  127.461  "
      ]
     },
     "execution_count": 2,
     "metadata": {},
     "output_type": "execute_result"
    }
   ],
   "source": [
    "df = pd.read_csv(\"../../data/regression/airfoil.csv\")\n",
    "df.head()"
   ]
  },
  {
   "cell_type": "markdown",
   "id": "c5d50ada",
   "metadata": {},
   "source": [
    "### Separate to in-domain / OOD data with a hyperplane"
   ]
  },
  {
   "cell_type": "code",
   "execution_count": 3,
   "id": "6f6724df",
   "metadata": {},
   "outputs": [
    {
     "name": "stdout",
     "output_type": "stream",
     "text": [
      "Found random direction n = [ 0.13666669 -0.21046149  0.37092866  0.44570104 -0.43332977 -0.64266321]\n",
      "Found split with ratio r = 0.20093147039254824\n"
     ]
    },
    {
     "data": {
      "text/html": [
       "<div>\n",
       "<style scoped>\n",
       "    .dataframe tbody tr th:only-of-type {\n",
       "        vertical-align: middle;\n",
       "    }\n",
       "\n",
       "    .dataframe tbody tr th {\n",
       "        vertical-align: top;\n",
       "    }\n",
       "\n",
       "    .dataframe thead th {\n",
       "        text-align: right;\n",
       "    }\n",
       "</style>\n",
       "<table border=\"1\" class=\"dataframe\">\n",
       "  <thead>\n",
       "    <tr style=\"text-align: right;\">\n",
       "      <th></th>\n",
       "      <th>Frequency</th>\n",
       "      <th>AngleAttack</th>\n",
       "      <th>ChordLength</th>\n",
       "      <th>FreeStreamVelocity</th>\n",
       "      <th>SuctionSide</th>\n",
       "      <th>Sound</th>\n",
       "    </tr>\n",
       "  </thead>\n",
       "  <tbody>\n",
       "    <tr>\n",
       "      <th>0</th>\n",
       "      <td>800</td>\n",
       "      <td>0.0</td>\n",
       "      <td>0.3048</td>\n",
       "      <td>71.3</td>\n",
       "      <td>0.002663</td>\n",
       "      <td>126.201</td>\n",
       "    </tr>\n",
       "    <tr>\n",
       "      <th>1</th>\n",
       "      <td>1000</td>\n",
       "      <td>0.0</td>\n",
       "      <td>0.3048</td>\n",
       "      <td>71.3</td>\n",
       "      <td>0.002663</td>\n",
       "      <td>125.201</td>\n",
       "    </tr>\n",
       "    <tr>\n",
       "      <th>2</th>\n",
       "      <td>1250</td>\n",
       "      <td>0.0</td>\n",
       "      <td>0.3048</td>\n",
       "      <td>71.3</td>\n",
       "      <td>0.002663</td>\n",
       "      <td>125.951</td>\n",
       "    </tr>\n",
       "    <tr>\n",
       "      <th>3</th>\n",
       "      <td>1600</td>\n",
       "      <td>0.0</td>\n",
       "      <td>0.3048</td>\n",
       "      <td>71.3</td>\n",
       "      <td>0.002663</td>\n",
       "      <td>127.591</td>\n",
       "    </tr>\n",
       "    <tr>\n",
       "      <th>4</th>\n",
       "      <td>2000</td>\n",
       "      <td>0.0</td>\n",
       "      <td>0.3048</td>\n",
       "      <td>71.3</td>\n",
       "      <td>0.002663</td>\n",
       "      <td>127.461</td>\n",
       "    </tr>\n",
       "  </tbody>\n",
       "</table>\n",
       "</div>"
      ],
      "text/plain": [
       "   Frequency  AngleAttack  ChordLength  FreeStreamVelocity  SuctionSide  \\\n",
       "0        800          0.0       0.3048                71.3     0.002663   \n",
       "1       1000          0.0       0.3048                71.3     0.002663   \n",
       "2       1250          0.0       0.3048                71.3     0.002663   \n",
       "3       1600          0.0       0.3048                71.3     0.002663   \n",
       "4       2000          0.0       0.3048                71.3     0.002663   \n",
       "\n",
       "     Sound  \n",
       "0  126.201  \n",
       "1  125.201  \n",
       "2  125.951  \n",
       "3  127.591  \n",
       "4  127.461  "
      ]
     },
     "execution_count": 3,
     "metadata": {},
     "output_type": "execute_result"
    }
   ],
   "source": [
    "D = df.values\n",
    "\n",
    "dom_idx, OOD_idx = hyperplane_split(D, OOD_size=0.2, verbose=1, seed=seed)\n",
    "\n",
    "df[dom_idx].head()"
   ]
  },
  {
   "cell_type": "markdown",
   "id": "ef695031",
   "metadata": {},
   "source": [
    "### We continue the training / testing pipeline with in-domain data only"
   ]
  },
  {
   "cell_type": "code",
   "execution_count": 4,
   "id": "d8083898",
   "metadata": {},
   "outputs": [],
   "source": [
    "# Minmax scaling for better network performace\n",
    "scaler = MinMaxScaler()\n",
    "D = df[dom_idx].values\n",
    "D = scaler.fit_transform(D)\n",
    "\n",
    "# Split in-domain data to data and labels\n",
    "X, y = D[:,:-1], D[:,-1]\n",
    "\n",
    "# Split to train/test\n",
    "X_train, X_test, y_train, y_test = train_test_split(X, y, test_size=0.2, random_state=seed)\n",
    "\n",
    "# Separate OOD data\n",
    "OOD = df[OOD_idx].values\n",
    "OOD = scaler.transform(OOD)         # need to also transform it to be compatible with the NN.\n",
    "X_OOD, y_OOD = OOD[:,:-1], OOD[:,-1]"
   ]
  },
  {
   "cell_type": "markdown",
   "id": "ab30bbd8",
   "metadata": {},
   "source": [
    "### Set network and batch size hyperparameters"
   ]
  },
  {
   "cell_type": "code",
   "execution_count": 5,
   "id": "a580dc85",
   "metadata": {},
   "outputs": [],
   "source": [
    "# Hyperparameters\n",
    "n_features = X_train.shape[1]\n",
    "n_hidden_1 = 100\n",
    "n_hidden_2 = 30\n",
    "n_epochs = 1000\n",
    "learning_rate = 0.0001\n",
    "weight_decay = 1e-5\n",
    "batch_size = 64"
   ]
  },
  {
   "cell_type": "markdown",
   "id": "0ef73517",
   "metadata": {},
   "source": [
    "### Prepare tensor dataset and loaders to pytorch format"
   ]
  },
  {
   "cell_type": "code",
   "execution_count": 6,
   "id": "249ae44f",
   "metadata": {},
   "outputs": [],
   "source": [
    "# Transformation required for regression problem\n",
    "y_train = y_train.reshape(-1, 1)\n",
    "y_test = y_test.reshape(-1, 1)\n",
    "y_OOD = y_OOD.reshape(-1, 1)\n",
    "\n",
    "# Tensor datasets\n",
    "train_dataset = data_loaders.create_torch_dataset(X_train, y_train, to_LongTensor=False)\n",
    "test_dataset = data_loaders.create_torch_dataset(X_test, y_test, to_LongTensor=False)\n",
    "OOD_dataset = data_loaders.create_torch_dataset(X_OOD, y_OOD, to_LongTensor=False)\n",
    "\n",
    "# Data loaders on gpu\n",
    "train_loader = data_loaders.create_loader(train_dataset, batch_size, device)\n",
    "test_loader = data_loaders.create_loader(test_dataset, batch_size, device)\n",
    "OOD_loader = data_loaders.create_loader(OOD_dataset, batch_size, device)"
   ]
  },
  {
   "cell_type": "markdown",
   "id": "4b193832",
   "metadata": {},
   "source": [
    "### Model setup\n",
    "\n",
    "Two hidden layers with 30 neurons and relu activation seems to work well."
   ]
  },
  {
   "cell_type": "code",
   "execution_count": 7,
   "id": "725b323a",
   "metadata": {},
   "outputs": [],
   "source": [
    "airfoil_model = MLP(n_features, 1, [n_hidden_1, n_hidden_2], 'relu', batch_norm=True).to(device)\n",
    "loss_function = nn.MSELoss()\n",
    "optimizer = optim.Adam(airfoil_model.parameters(), lr=learning_rate, weight_decay=weight_decay)"
   ]
  },
  {
   "cell_type": "code",
   "execution_count": 8,
   "id": "40daf48a",
   "metadata": {},
   "outputs": [
    {
     "name": "stdout",
     "output_type": "stream",
     "text": [
      "Average Train MSE: 0.00007\n"
     ]
    }
   ],
   "source": [
    "# Train\n",
    "train_losses = fit_regr(airfoil_model, loss_function, optimizer, train_loader, \n",
    "    n_epochs=n_epochs, verbose=0, early_stopping='dev', return_losses=True)\n",
    "avg_train_loss = train_losses[-1]\n",
    "\n",
    "print(f\"Average Train MSE: {avg_train_loss:.5f}\")    "
   ]
  },
  {
   "cell_type": "code",
   "execution_count": 9,
   "id": "2377376e",
   "metadata": {},
   "outputs": [
    {
     "data": {
      "image/png": "[encoded data removed]",
      "text/plain": [
       "<Figure size 648x432 with 1 Axes>"
      ]
     },
     "metadata": {
      "needs_background": "light"
     },
     "output_type": "display_data"
    }
   ],
   "source": [
    "plt.figure(figsize=(9,6))\n",
    "plt.plot(train_losses)\n",
    "plt.grid()\n",
    "plt.xlabel(\"Epoch\", fontsize=20)\n",
    "plt.ylabel(\"Loss\", fontsize=20)\n",
    "plt.title(\"MSE loss\", fontsize=20)\n",
    "plt.show()"
   ]
  },
  {
   "cell_type": "code",
   "execution_count": 10,
   "id": "40001774",
   "metadata": {},
   "outputs": [
    {
     "name": "stdout",
     "output_type": "stream",
     "text": [
      "Average test MSE = 0.00047\n"
     ]
    }
   ],
   "source": [
    "avg_test_loss = test_regr(airfoil_model, loss_function, test_loader, return_loss=True)\n",
    "\n",
    "print(f\"Average test MSE = {avg_test_loss:.5f}\")   "
   ]
  },
  {
   "cell_type": "markdown",
   "id": "ba61e7a1",
   "metadata": {},
   "source": [
    "### Test on OOD data"
   ]
  },
  {
   "cell_type": "code",
   "execution_count": 11,
   "id": "66f5cca3",
   "metadata": {},
   "outputs": [
    {
     "name": "stdout",
     "output_type": "stream",
     "text": [
      "Average OOD loss = 0.0020071200\n",
      "Average OOD loss to train loss ratio:  26.980\n",
      "Average OOD loss to test loss ratio:  4.267\n"
     ]
    }
   ],
   "source": [
    "avg_OOD_loss = test_regr(airfoil_model, loss_function, OOD_loader, return_loss=True)\n",
    "\n",
    "print(f\"Average OOD loss = {avg_OOD_loss:.10f}\")  \n",
    "print(f\"Average OOD loss to train loss ratio: {avg_OOD_loss / avg_train_loss : .3f}\")\n",
    "print(f\"Average OOD loss to test loss ratio: {avg_OOD_loss / avg_test_loss : .3f}\")"
   ]
  },
  {
   "cell_type": "markdown",
   "id": "ba93d6a6",
   "metadata": {},
   "source": [
    "### Abs"
   ]
  },
  {
   "cell_type": "code",
   "execution_count": null,
   "id": "38a83389",
   "metadata": {},
   "outputs": [],
   "source": [
    "activation = 'abs'"
   ]
  },
  {
   "cell_type": "code",
   "execution_count": 13,
   "id": "afecc4b1",
   "metadata": {},
   "outputs": [
    {
     "name": "stdout",
     "output_type": "stream",
     "text": [
      "Average Train MSE: 0.00005\n"
     ]
    },
    {
     "data": {
      "image/png": "[encoded data removed]",
      "text/plain": [
       "<Figure size 648x432 with 1 Axes>"
      ]
     },
     "metadata": {
      "needs_background": "light"
     },
     "output_type": "display_data"
    },
    {
     "name": "stdout",
     "output_type": "stream",
     "text": [
      "Average test MSE = 0.00036\n",
      "Average OOD loss = 0.0029898278\n",
      "Average OOD loss to train loss ratio:  64.036\n",
      "Average OOD loss to test loss ratio:  8.262\n"
     ]
    }
   ],
   "source": [
    "airfoil_model = MLP(n_features, 1, [n_hidden_1, n_hidden_2], activation, batch_norm=True).to(device)\n",
    "loss_function = nn.MSELoss()\n",
    "optimizer = optim.Adam(airfoil_model.parameters(), lr=learning_rate, weight_decay=weight_decay)\n",
    "\n",
    "# Train\n",
    "train_losses = fit_regr(airfoil_model, loss_function, optimizer, train_loader, \n",
    "    n_epochs=n_epochs, verbose=0, early_stopping='dev', return_losses=True)\n",
    "avg_train_loss = train_losses[-1]\n",
    "\n",
    "print(f\"Average Train MSE: {avg_train_loss:.5f}\")  \n",
    "\n",
    "plt.figure(figsize=(9,6))\n",
    "plt.plot(train_losses)\n",
    "plt.grid()\n",
    "plt.xlabel(\"Epoch\", fontsize=20)\n",
    "plt.ylabel(\"Loss\", fontsize=20)\n",
    "plt.title(\"MSE loss\", fontsize=20)\n",
    "plt.show()\n",
    "\n",
    "avg_test_loss = test_regr(airfoil_model, loss_function, test_loader, return_loss=True)\n",
    "\n",
    "print(f\"Average test MSE = {avg_test_loss:.5f}\")   \n",
    "\n",
    "avg_OOD_loss = test_regr(airfoil_model, loss_function, OOD_loader, return_loss=True)\n",
    "\n",
    "print(f\"Average OOD loss = {avg_OOD_loss:.10f}\")  \n",
    "print(f\"Average OOD loss to train loss ratio: {avg_OOD_loss / avg_train_loss : .3f}\")\n",
    "print(f\"Average OOD loss to test loss ratio: {avg_OOD_loss / avg_test_loss : .3f}\")"
   ]
  },
  {
   "cell_type": "markdown",
   "id": "1fece073",
   "metadata": {},
   "source": [
    "### Now that we have a pipeline ready, let's use 10-fold cross validation to see the performance on the whole data"
   ]
  },
  {
   "cell_type": "code",
   "execution_count": 19,
   "id": "d2d8a68e",
   "metadata": {},
   "outputs": [],
   "source": [
    "def pipeline(X_train, X_test, y_train, y_test, verbose=0):\n",
    "    \n",
    "    # Transformation required for regression problem\n",
    "    y_train = y_train.reshape(-1, 1)\n",
    "    y_test = y_test.reshape(-1, 1)\n",
    "\n",
    "    # Tensor datasets\n",
    "    train_dataset = data_loaders.create_torch_dataset(X_train, y_train, to_LongTensor=False)\n",
    "    test_dataset = data_loaders.create_torch_dataset(X_test, y_test, to_LongTensor=False)\n",
    "\n",
    "    # Data loaders on gpu\n",
    "    train_loader = data_loaders.create_loader(train_dataset, batch_size, device, num_workers=0)\n",
    "    test_loader = data_loaders.create_loader(test_dataset, batch_size, device, num_workers=0)\n",
    "\n",
    "    # Model setup\n",
    "    # airfoil_model = model.airfoil_NN(n_features, n_hidden_1, n_hidden_2).to(device)\n",
    "    # airfoil_model = model.airfoil_DNN(n_features, 512, 256, 128, 3).to(device)\n",
    "    airfoil_model = MLP(n_features, 1, [n_hidden_1, n_hidden_2], 'tanh', batch_norm=True).to(device)\n",
    "\n",
    "    loss_function = nn.MSELoss()\n",
    "    optimizer = optim.Adam(airfoil_model.parameters(), lr=learning_rate, weight_decay=weight_decay)\n",
    "\n",
    "    # fit function optionally returns a list with the epoch-wise losses\n",
    "    train_loss = fit_regr(airfoil_model, loss_function, optimizer, train_loader, \n",
    "                 n_epochs=n_epochs, verbose=0, early_stopping=True, return_losses=True) \n",
    "    test_loss = test_regr(airfoil_model, loss_function, test_loader, verbose=0, return_loss=True) \n",
    "    \n",
    "    if verbose:\n",
    "        print(f\"Average Train MSE Loss: {train_loss[-1] : .10f}\")\n",
    "        print(f\"Average Test MSE Loss : {test_loss : .10f}\" )\n",
    "\n",
    "    return train_loss, test_loss                 # train loss is a list, test loss is a float\n",
    " "
   ]
  },
  {
   "cell_type": "code",
   "execution_count": 20,
   "id": "cec3c2fa",
   "metadata": {},
   "outputs": [
    {
     "name": "stdout",
     "output_type": "stream",
     "text": [
      "\n",
      "Training on fold no. 1\n",
      "Average Train MSE Loss:  0.0001551312\n",
      "Average Test MSE Loss :  0.0003811459\n",
      "\n",
      "Training on fold no. 2\n",
      "Average Train MSE Loss:  0.0001144262\n",
      "Average Test MSE Loss :  0.0008711475\n",
      "\n",
      "Train losses: [0.00015513 0.00011443]\n",
      "\n",
      "Test losses: [0.00038115 0.00087115]\n",
      "\n",
      "Avg train loss over all folds: 0.00013\n",
      "Avg total train loss over all folds: 0.08100\n",
      "\n",
      "Avg test loss over all folds: 0.00063\n",
      "Avg total test loss over all folds: 0.37569\n"
     ]
    },
    {
     "data": {
      "image/png": "[encoded data removed]",
      "text/plain": [
       "<Figure size 648x432 with 1 Axes>"
      ]
     },
     "metadata": {
      "needs_background": "light"
     },
     "output_type": "display_data"
    },
    {
     "name": "stdout",
     "output_type": "stream",
     "text": [
      "CPU times: total: 11 s\n",
      "Wall time: 11.2 s\n"
     ]
    }
   ],
   "source": [
    "%%time \n",
    "\n",
    "n_splits = 2\n",
    "kf = KFold(n_splits)\n",
    "\n",
    "train_losses = np.zeros(n_splits)\n",
    "test_losses = np.zeros(n_splits)\n",
    "train_losses_plot = []                           # for plotting loss curves\n",
    "for i, (train_index, test_index) in enumerate(kf.split(X)):\n",
    "    \n",
    "    X_train, X_test = X[train_index], X[test_index]\n",
    "    y_train, y_test = y[train_index], y[test_index]\n",
    "    \n",
    "    print(\"\\nTraining on fold no. %d\" %(i+1))\n",
    "    epoch_wise_train_losses, test_losses[i] = pipeline(X_train, X_test, y_train, y_test, verbose=1)\n",
    "    train_losses[i] = epoch_wise_train_losses[-1]\n",
    "    train_losses_plot.append(epoch_wise_train_losses)\n",
    "    \n",
    "print(\"\\nTrain losses:\", train_losses)\n",
    "print(\"\\nTest losses:\", test_losses)\n",
    "\n",
    "avg_train_loss_k_folds = train_losses.mean() \n",
    "avg_test_loss_k_folds = test_losses.mean() \n",
    "print(f\"\\nAvg train loss over all folds: {avg_train_loss_k_folds :.5f}\")\n",
    "print(f\"Avg total train loss over all folds: {len(X_train) * avg_train_loss_k_folds :.5f}\")\n",
    "print(f\"\\nAvg test loss over all folds: {avg_test_loss_k_folds :.5f}\")\n",
    "print(f\"Avg total test loss over all folds: {len(X_test) * avg_test_loss_k_folds :.5f}\")\n",
    "\n",
    "plt.figure(figsize=(9,6))\n",
    "for losses in train_losses_plot:\n",
    "    plt.plot(losses)\n",
    "plt.grid()\n",
    "plt.xlabel(\"Epoch\", fontsize=20)\n",
    "plt.ylabel(\"Loss\", fontsize=20)\n",
    "plt.title(f\"Loss curves for {n_splits} folds\", fontsize=20)\n",
    "plt.show()"
   ]
  },
  {
   "cell_type": "markdown",
   "id": "0e80f2bd",
   "metadata": {},
   "source": [
    "### Test on OOD data"
   ]
  },
  {
   "cell_type": "code",
   "execution_count": 15,
   "id": "0a533677",
   "metadata": {},
   "outputs": [
    {
     "name": "stdout",
     "output_type": "stream",
     "text": [
      "Average OOD loss = 0.0008063013\n",
      "Average OOD loss to train loss ratio:  6.112\n",
      "Average OOD loss to test loss ratio:  1.009\n"
     ]
    }
   ],
   "source": [
    "avg_OOD_loss = test_regr(airfoil_model, loss_function, OOD_loader, return_loss=True)\n",
    "\n",
    "print(f\"Average OOD loss = {avg_OOD_loss:.10f}\")  \n",
    "print(f\"Average OOD loss to train loss ratio: {avg_OOD_loss / avg_train_loss_k_folds : .3f}\")\n",
    "print(f\"Average OOD loss to test loss ratio: {avg_OOD_loss / avg_test_loss_k_folds : .3f}\")"
   ]
  },
  {
   "cell_type": "markdown",
   "id": "f330bf9f",
   "metadata": {},
   "source": [
    "### We see that the loss on OOD data is higher, which is a good sign for the domain splitting method."
   ]
  },
  {
   "cell_type": "markdown",
   "id": "c63bd0c4",
   "metadata": {},
   "source": [
    "## Now for the Bayesian treatment"
   ]
  },
  {
   "cell_type": "code",
   "execution_count": 12,
   "id": "2ebf8529",
   "metadata": {},
   "outputs": [
    {
     "data": {
      "text/plain": [
       "MLP(\n",
       "  (layer_0): Linear(in_features=5, out_features=100, bias=True)\n",
       "  (layer_1): BatchNorm1d(100, eps=1e-05, momentum=0.1, affine=True, track_running_stats=True)\n",
       "  (layer_2): Linear(in_features=100, out_features=30, bias=True)\n",
       "  (layer_3): BatchNorm1d(30, eps=1e-05, momentum=0.1, affine=True, track_running_stats=True)\n",
       "  (layer_4): Linear(in_features=30, out_features=1, bias=True)\n",
       ")"
      ]
     },
     "execution_count": 12,
     "metadata": {},
     "output_type": "execute_result"
    }
   ],
   "source": [
    "airfoil_model"
   ]
  },
  {
   "cell_type": "code",
   "execution_count": 39,
   "id": "c37068c6",
   "metadata": {},
   "outputs": [
    {
     "data": {
      "text/plain": [
       "100"
      ]
     },
     "execution_count": 39,
     "metadata": {},
     "output_type": "execute_result"
    }
   ],
   "source": [
    "nn.Linear(30, 100).out_features"
   ]
  },
  {
   "cell_type": "code",
   "execution_count": 46,
   "id": "eabbd93b",
   "metadata": {},
   "outputs": [],
   "source": [
    "net = nn.Sequential(\n",
    "    nn.Linear(n_features, n_hidden_1),\n",
    "    nn.ReLU(),\n",
    "    nn.BatchNorm1d(n_hidden_1),\n",
    "    nn.Linear(n_hidden_1, n_hidden_2),\n",
    "    nn.ReLU(),\n",
    "    nn.BatchNorm1d(n_hidden_2),\n",
    "    nn.Linear(n_hidden_2, 1)\n",
    ").to(device)\n",
    "\n",
    "class TyXeNN(nn.Module):\n",
    "    def __init__(self, n_features, n_classes, batch_norm=False):\n",
    "        super(TyXeNN, self).__init__()\n",
    "        self.n_features = n_features\n",
    "        self.n_classes = n_classes\n",
    "        self.linear1 = nn.Linear(self.n_features, 30)\n",
    "        self.bn1 = nn.BatchNorm1d(self.linear1.out_features, device=device)\n",
    "        self.linear2 = nn.Linear(30, 100)\n",
    "        self.bn2 = nn.BatchNorm1d(self.linear2.out_features, device=device)\n",
    "        self.linear3 = nn.Linear(100, 1) \n",
    "        \n",
    "    def forward(self, x):\n",
    "        x = F.relu(self.linear1(x))\n",
    "        # if batch_norm:\n",
    "        #     x = nn.BatchNorm1d(self.linear1.out_features, device=device)(x)\n",
    "        x = self.bn1(x)\n",
    "        x = F.relu(self.linear2(x))\n",
    "        x = self.bn2(x)\n",
    "        # if batch_norm:\n",
    "        #     x = nn.BatchNorm1d(self.linear2.out_features, device=device)(x)\n",
    "        x = self.linear3(x)\n",
    "        return x\n",
    "    \n",
    "net = TyXeNN(n_features, 1).to(device)\n",
    "# fit_regr(net, loss_function, optimizer, train_loader, n_epochs, early_stopping='dev')"
   ]
  },
  {
   "cell_type": "code",
   "execution_count": 51,
   "id": "5ffbf536",
   "metadata": {},
   "outputs": [
    {
     "name": "stderr",
     "output_type": "stream",
     "text": [
      "Warmup:   0%|                                                                                   | 0/15 [1:33:25, ?it/s]\n",
      "Warmup:   0%|                                                                                   | 0/15 [1:33:08, ?it/s]\n",
      "Warmup:  27%|██████████▋                             | 4/15 [1:26:20, 1295.23s/it, step size=1.12e-06, acc. prob=0.250]\n",
      "Warmup:   0%|                                      | 5/15000 [1:19:46, 957.31s/it, step size=7.14e-06, acc. prob=0.400]\n",
      "Warmup:   0%|                                     | 23/15000 [1:12:36, 189.41s/it, step size=3.20e-06, acc. prob=0.631]\n",
      "Warmup:   0%|▏                                     | 60/15000 [1:05:52, 65.87s/it, step size=3.76e-05, acc. prob=0.705]\n"
     ]
    },
    {
     "ename": "KeyboardInterrupt",
     "evalue": "",
     "output_type": "error",
     "traceback": [
      "\u001b[1;31m---------------------------------------------------------------------------\u001b[0m",
      "\u001b[1;31mKeyboardInterrupt\u001b[0m                         Traceback (most recent call last)",
      "Input \u001b[1;32mIn [51]\u001b[0m, in \u001b[0;36m<cell line: 21>\u001b[1;34m()\u001b[0m\n\u001b[0;32m     19\u001b[0m \u001b[38;5;66;03m# Fit\u001b[39;00m\n\u001b[0;32m     20\u001b[0m pyro\u001b[38;5;241m.\u001b[39mclear_param_store()\n\u001b[1;32m---> 21\u001b[0m \u001b[43mbnn\u001b[49m\u001b[38;5;241;43m.\u001b[39;49m\u001b[43mfit\u001b[49m\u001b[43m(\u001b[49m\u001b[43mtrain_loader\u001b[49m\u001b[43m,\u001b[49m\u001b[43m \u001b[49m\u001b[38;5;241;43m20000\u001b[39;49m\u001b[43m,\u001b[49m\u001b[43m \u001b[49m\u001b[43mwarmup_steps\u001b[49m\u001b[38;5;241;43m=\u001b[39;49m\u001b[38;5;241;43m50000\u001b[39;49m\u001b[43m)\u001b[49m\n",
      "File \u001b[1;32mc:\\users\\administrator\\documents\\alex\\master\\internship\\github\\tyxe\\tyxe\\bnn.py:273\u001b[0m, in \u001b[0;36mMCMC_BNN.fit\u001b[1;34m(self, data_loader, num_samples, device, batch_data, **mcmc_kwargs)\u001b[0m\n\u001b[0;32m    271\u001b[0m     observation_data \u001b[38;5;241m=\u001b[39m torch\u001b[38;5;241m.\u001b[39mcat(observation_data_list)\n\u001b[0;32m    272\u001b[0m \u001b[38;5;28mself\u001b[39m\u001b[38;5;241m.\u001b[39m_mcmc \u001b[38;5;241m=\u001b[39m MCMC(\u001b[38;5;28mself\u001b[39m\u001b[38;5;241m.\u001b[39mkernel, num_samples, \u001b[38;5;241m*\u001b[39m\u001b[38;5;241m*\u001b[39mmcmc_kwargs)\n\u001b[1;32m--> 273\u001b[0m \u001b[38;5;28;43mself\u001b[39;49m\u001b[38;5;241;43m.\u001b[39;49m\u001b[43m_mcmc\u001b[49m\u001b[38;5;241;43m.\u001b[39;49m\u001b[43mrun\u001b[49m\u001b[43m(\u001b[49m\u001b[43minput_data\u001b[49m\u001b[43m,\u001b[49m\u001b[43m \u001b[49m\u001b[43mobservation_data\u001b[49m\u001b[43m)\u001b[49m\n\u001b[0;32m    275\u001b[0m \u001b[38;5;28;01mreturn\u001b[39;00m \u001b[38;5;28mself\u001b[39m\u001b[38;5;241m.\u001b[39m_mcmc\n",
      "File \u001b[1;32m~\\anaconda3\\envs\\torch\\lib\\site-packages\\pyro\\poutine\\messenger.py:11\u001b[0m, in \u001b[0;36m_context_wrap\u001b[1;34m(context, fn, *args, **kwargs)\u001b[0m\n\u001b[0;32m      9\u001b[0m \u001b[38;5;28;01mdef\u001b[39;00m \u001b[38;5;21m_context_wrap\u001b[39m(context, fn, \u001b[38;5;241m*\u001b[39margs, \u001b[38;5;241m*\u001b[39m\u001b[38;5;241m*\u001b[39mkwargs):\n\u001b[0;32m     10\u001b[0m     \u001b[38;5;28;01mwith\u001b[39;00m context:\n\u001b[1;32m---> 11\u001b[0m         \u001b[38;5;28;01mreturn\u001b[39;00m fn(\u001b[38;5;241m*\u001b[39margs, \u001b[38;5;241m*\u001b[39m\u001b[38;5;241m*\u001b[39mkwargs)\n",
      "File \u001b[1;32m~\\anaconda3\\envs\\torch\\lib\\site-packages\\pyro\\infer\\mcmc\\api.py:380\u001b[0m, in \u001b[0;36mMCMC.run\u001b[1;34m(self, *args, **kwargs)\u001b[0m\n\u001b[0;32m    377\u001b[0m z_flat_acc \u001b[38;5;241m=\u001b[39m [[] \u001b[38;5;28;01mfor\u001b[39;00m _ \u001b[38;5;129;01min\u001b[39;00m \u001b[38;5;28mrange\u001b[39m(\u001b[38;5;28mself\u001b[39m\u001b[38;5;241m.\u001b[39mnum_chains)]\n\u001b[0;32m    378\u001b[0m \u001b[38;5;28;01mwith\u001b[39;00m optional(pyro\u001b[38;5;241m.\u001b[39mvalidation_enabled(\u001b[38;5;129;01mnot\u001b[39;00m \u001b[38;5;28mself\u001b[39m\u001b[38;5;241m.\u001b[39mdisable_validation),\n\u001b[0;32m    379\u001b[0m               \u001b[38;5;28mself\u001b[39m\u001b[38;5;241m.\u001b[39mdisable_validation \u001b[38;5;129;01mis\u001b[39;00m \u001b[38;5;129;01mnot\u001b[39;00m \u001b[38;5;28;01mNone\u001b[39;00m):\n\u001b[1;32m--> 380\u001b[0m     \u001b[38;5;28;01mfor\u001b[39;00m x, chain_id \u001b[38;5;129;01min\u001b[39;00m \u001b[38;5;28mself\u001b[39m\u001b[38;5;241m.\u001b[39msampler\u001b[38;5;241m.\u001b[39mrun(\u001b[38;5;241m*\u001b[39margs, \u001b[38;5;241m*\u001b[39m\u001b[38;5;241m*\u001b[39mkwargs):\n\u001b[0;32m    381\u001b[0m         \u001b[38;5;28;01mif\u001b[39;00m num_samples[chain_id] \u001b[38;5;241m==\u001b[39m \u001b[38;5;241m0\u001b[39m:\n\u001b[0;32m    382\u001b[0m             num_samples[chain_id] \u001b[38;5;241m+\u001b[39m\u001b[38;5;241m=\u001b[39m \u001b[38;5;241m1\u001b[39m\n",
      "File \u001b[1;32m~\\anaconda3\\envs\\torch\\lib\\site-packages\\pyro\\infer\\mcmc\\api.py:167\u001b[0m, in \u001b[0;36m_UnarySampler.run\u001b[1;34m(self, *args, **kwargs)\u001b[0m\n\u001b[0;32m    165\u001b[0m logger \u001b[38;5;241m=\u001b[39m initialize_logger(logger, \u001b[38;5;124m\"\u001b[39m\u001b[38;5;124m\"\u001b[39m, progress_bar)\n\u001b[0;32m    166\u001b[0m hook_w_logging \u001b[38;5;241m=\u001b[39m _add_logging_hook(logger, progress_bar, \u001b[38;5;28mself\u001b[39m\u001b[38;5;241m.\u001b[39mhook)\n\u001b[1;32m--> 167\u001b[0m \u001b[38;5;28;01mfor\u001b[39;00m sample \u001b[38;5;129;01min\u001b[39;00m _gen_samples(\u001b[38;5;28mself\u001b[39m\u001b[38;5;241m.\u001b[39mkernel, \u001b[38;5;28mself\u001b[39m\u001b[38;5;241m.\u001b[39mwarmup_steps, \u001b[38;5;28mself\u001b[39m\u001b[38;5;241m.\u001b[39mnum_samples, hook_w_logging,\n\u001b[0;32m    168\u001b[0m                            i \u001b[38;5;28;01mif\u001b[39;00m \u001b[38;5;28mself\u001b[39m\u001b[38;5;241m.\u001b[39mnum_chains \u001b[38;5;241m>\u001b[39m \u001b[38;5;241m1\u001b[39m \u001b[38;5;28;01melse\u001b[39;00m \u001b[38;5;28;01mNone\u001b[39;00m,\n\u001b[0;32m    169\u001b[0m                            \u001b[38;5;241m*\u001b[39margs, \u001b[38;5;241m*\u001b[39m\u001b[38;5;241m*\u001b[39mkwargs):\n\u001b[0;32m    170\u001b[0m     \u001b[38;5;28;01myield\u001b[39;00m sample, i  \u001b[38;5;66;03m# sample, chain_id\u001b[39;00m\n\u001b[0;32m    171\u001b[0m \u001b[38;5;28mself\u001b[39m\u001b[38;5;241m.\u001b[39mkernel\u001b[38;5;241m.\u001b[39mcleanup()\n",
      "File \u001b[1;32m~\\anaconda3\\envs\\torch\\lib\\site-packages\\pyro\\infer\\mcmc\\api.py:116\u001b[0m, in \u001b[0;36m_gen_samples\u001b[1;34m(kernel, warmup_steps, num_samples, hook, chain_id, *args, **kwargs)\u001b[0m\n\u001b[0;32m    114\u001b[0m \u001b[38;5;28;01myield\u001b[39;00m {k: v\u001b[38;5;241m.\u001b[39mshape \u001b[38;5;28;01mfor\u001b[39;00m k, v \u001b[38;5;129;01min\u001b[39;00m params\u001b[38;5;241m.\u001b[39mitems()}\n\u001b[0;32m    115\u001b[0m \u001b[38;5;28;01mfor\u001b[39;00m i \u001b[38;5;129;01min\u001b[39;00m \u001b[38;5;28mrange\u001b[39m(warmup_steps):\n\u001b[1;32m--> 116\u001b[0m     params \u001b[38;5;241m=\u001b[39m \u001b[43mkernel\u001b[49m\u001b[38;5;241;43m.\u001b[39;49m\u001b[43msample\u001b[49m\u001b[43m(\u001b[49m\u001b[43mparams\u001b[49m\u001b[43m)\u001b[49m\n\u001b[0;32m    117\u001b[0m     hook(kernel, params, \u001b[38;5;124m'\u001b[39m\u001b[38;5;124mWarmup [\u001b[39m\u001b[38;5;132;01m{}\u001b[39;00m\u001b[38;5;124m]\u001b[39m\u001b[38;5;124m'\u001b[39m\u001b[38;5;241m.\u001b[39mformat(chain_id) \u001b[38;5;28;01mif\u001b[39;00m chain_id \u001b[38;5;129;01mis\u001b[39;00m \u001b[38;5;129;01mnot\u001b[39;00m \u001b[38;5;28;01mNone\u001b[39;00m \u001b[38;5;28;01melse\u001b[39;00m \u001b[38;5;124m'\u001b[39m\u001b[38;5;124mWarmup\u001b[39m\u001b[38;5;124m'\u001b[39m, i)\n\u001b[0;32m    118\u001b[0m \u001b[38;5;28;01mfor\u001b[39;00m i \u001b[38;5;129;01min\u001b[39;00m \u001b[38;5;28mrange\u001b[39m(num_samples):\n",
      "File \u001b[1;32m~\\anaconda3\\envs\\torch\\lib\\site-packages\\pyro\\infer\\mcmc\\hmc.py:349\u001b[0m, in \u001b[0;36mHMC.sample\u001b[1;34m(self, params)\u001b[0m\n\u001b[0;32m    346\u001b[0m \u001b[38;5;66;03m# Temporarily disable distributions args checking as\u001b[39;00m\n\u001b[0;32m    347\u001b[0m \u001b[38;5;66;03m# NaNs are expected during step size adaptation\u001b[39;00m\n\u001b[0;32m    348\u001b[0m \u001b[38;5;28;01mwith\u001b[39;00m optional(pyro\u001b[38;5;241m.\u001b[39mvalidation_enabled(\u001b[38;5;28;01mFalse\u001b[39;00m), \u001b[38;5;28mself\u001b[39m\u001b[38;5;241m.\u001b[39m_t \u001b[38;5;241m<\u001b[39m \u001b[38;5;28mself\u001b[39m\u001b[38;5;241m.\u001b[39m_warmup_steps):\n\u001b[1;32m--> 349\u001b[0m     z_new, r_new, z_grads_new, potential_energy_new \u001b[38;5;241m=\u001b[39m \u001b[43mvelocity_verlet\u001b[49m\u001b[43m(\u001b[49m\n\u001b[0;32m    350\u001b[0m \u001b[43m        \u001b[49m\u001b[43mz\u001b[49m\u001b[43m,\u001b[49m\u001b[43m \u001b[49m\u001b[43mr\u001b[49m\u001b[43m,\u001b[49m\u001b[43m \u001b[49m\u001b[38;5;28;43mself\u001b[39;49m\u001b[38;5;241;43m.\u001b[39;49m\u001b[43mpotential_fn\u001b[49m\u001b[43m,\u001b[49m\u001b[43m \u001b[49m\u001b[38;5;28;43mself\u001b[39;49m\u001b[38;5;241;43m.\u001b[39;49m\u001b[43mmass_matrix_adapter\u001b[49m\u001b[38;5;241;43m.\u001b[39;49m\u001b[43mkinetic_grad\u001b[49m\u001b[43m,\u001b[49m\n\u001b[0;32m    351\u001b[0m \u001b[43m        \u001b[49m\u001b[38;5;28;43mself\u001b[39;49m\u001b[38;5;241;43m.\u001b[39;49m\u001b[43mstep_size\u001b[49m\u001b[43m,\u001b[49m\u001b[43m \u001b[49m\u001b[38;5;28;43mself\u001b[39;49m\u001b[38;5;241;43m.\u001b[39;49m\u001b[43mnum_steps\u001b[49m\u001b[43m,\u001b[49m\u001b[43m \u001b[49m\u001b[43mz_grads\u001b[49m\u001b[38;5;241;43m=\u001b[39;49m\u001b[43mz_grads\u001b[49m\u001b[43m)\u001b[49m\n\u001b[0;32m    352\u001b[0m     \u001b[38;5;66;03m# apply Metropolis correction.\u001b[39;00m\n\u001b[0;32m    353\u001b[0m     r_new_unscaled \u001b[38;5;241m=\u001b[39m \u001b[38;5;28mself\u001b[39m\u001b[38;5;241m.\u001b[39mmass_matrix_adapter\u001b[38;5;241m.\u001b[39munscale(r_new)\n",
      "File \u001b[1;32m~\\anaconda3\\envs\\torch\\lib\\site-packages\\pyro\\ops\\integrator.py:30\u001b[0m, in \u001b[0;36mvelocity_verlet\u001b[1;34m(z, r, potential_fn, kinetic_grad, step_size, num_steps, z_grads)\u001b[0m\n\u001b[0;32m     28\u001b[0m r_next \u001b[38;5;241m=\u001b[39m r\u001b[38;5;241m.\u001b[39mcopy()\n\u001b[0;32m     29\u001b[0m \u001b[38;5;28;01mfor\u001b[39;00m _ \u001b[38;5;129;01min\u001b[39;00m \u001b[38;5;28mrange\u001b[39m(num_steps):\n\u001b[1;32m---> 30\u001b[0m     z_next, r_next, z_grads, potential_energy \u001b[38;5;241m=\u001b[39m \u001b[43m_single_step_verlet\u001b[49m\u001b[43m(\u001b[49m\u001b[43mz_next\u001b[49m\u001b[43m,\u001b[49m\n\u001b[0;32m     31\u001b[0m \u001b[43m                                                                    \u001b[49m\u001b[43mr_next\u001b[49m\u001b[43m,\u001b[49m\n\u001b[0;32m     32\u001b[0m \u001b[43m                                                                    \u001b[49m\u001b[43mpotential_fn\u001b[49m\u001b[43m,\u001b[49m\n\u001b[0;32m     33\u001b[0m \u001b[43m                                                                    \u001b[49m\u001b[43mkinetic_grad\u001b[49m\u001b[43m,\u001b[49m\n\u001b[0;32m     34\u001b[0m \u001b[43m                                                                    \u001b[49m\u001b[43mstep_size\u001b[49m\u001b[43m,\u001b[49m\n\u001b[0;32m     35\u001b[0m \u001b[43m                                                                    \u001b[49m\u001b[43mz_grads\u001b[49m\u001b[43m)\u001b[49m\n\u001b[0;32m     36\u001b[0m \u001b[38;5;28;01mreturn\u001b[39;00m z_next, r_next, z_grads, potential_energy\n",
      "File \u001b[1;32m~\\anaconda3\\envs\\torch\\lib\\site-packages\\pyro\\ops\\integrator.py:53\u001b[0m, in \u001b[0;36m_single_step_verlet\u001b[1;34m(z, r, potential_fn, kinetic_grad, step_size, z_grads)\u001b[0m\n\u001b[0;32m     50\u001b[0m \u001b[38;5;28;01mfor\u001b[39;00m site_name \u001b[38;5;129;01min\u001b[39;00m z:\n\u001b[0;32m     51\u001b[0m     z[site_name] \u001b[38;5;241m=\u001b[39m z[site_name] \u001b[38;5;241m+\u001b[39m step_size \u001b[38;5;241m*\u001b[39m r_grads[site_name]  \u001b[38;5;66;03m# z(n+1)\u001b[39;00m\n\u001b[1;32m---> 53\u001b[0m z_grads, potential_energy \u001b[38;5;241m=\u001b[39m \u001b[43mpotential_grad\u001b[49m\u001b[43m(\u001b[49m\u001b[43mpotential_fn\u001b[49m\u001b[43m,\u001b[49m\u001b[43m \u001b[49m\u001b[43mz\u001b[49m\u001b[43m)\u001b[49m\n\u001b[0;32m     54\u001b[0m \u001b[38;5;28;01mfor\u001b[39;00m site_name \u001b[38;5;129;01min\u001b[39;00m r:\n\u001b[0;32m     55\u001b[0m     r[site_name] \u001b[38;5;241m=\u001b[39m r[site_name] \u001b[38;5;241m+\u001b[39m \u001b[38;5;241m0.5\u001b[39m \u001b[38;5;241m*\u001b[39m step_size \u001b[38;5;241m*\u001b[39m (\u001b[38;5;241m-\u001b[39mz_grads[site_name])  \u001b[38;5;66;03m# r(n+1)\u001b[39;00m\n",
      "File \u001b[1;32m~\\anaconda3\\envs\\torch\\lib\\site-packages\\pyro\\ops\\integrator.py:75\u001b[0m, in \u001b[0;36mpotential_grad\u001b[1;34m(potential_fn, z)\u001b[0m\n\u001b[0;32m     73\u001b[0m     node\u001b[38;5;241m.\u001b[39mrequires_grad_(\u001b[38;5;28;01mTrue\u001b[39;00m)\n\u001b[0;32m     74\u001b[0m \u001b[38;5;28;01mtry\u001b[39;00m:\n\u001b[1;32m---> 75\u001b[0m     potential_energy \u001b[38;5;241m=\u001b[39m \u001b[43mpotential_fn\u001b[49m\u001b[43m(\u001b[49m\u001b[43mz\u001b[49m\u001b[43m)\u001b[49m\n\u001b[0;32m     76\u001b[0m \u001b[38;5;66;03m# deal with singular matrices\u001b[39;00m\n\u001b[0;32m     77\u001b[0m \u001b[38;5;28;01mexcept\u001b[39;00m \u001b[38;5;167;01mRuntimeError\u001b[39;00m \u001b[38;5;28;01mas\u001b[39;00m e:\n",
      "File \u001b[1;32m~\\anaconda3\\envs\\torch\\lib\\site-packages\\pyro\\infer\\mcmc\\util.py:265\u001b[0m, in \u001b[0;36m_PEMaker._potential_fn\u001b[1;34m(self, params)\u001b[0m\n\u001b[0;32m    262\u001b[0m log_joint \u001b[38;5;241m=\u001b[39m \u001b[38;5;28mself\u001b[39m\u001b[38;5;241m.\u001b[39mtrace_prob_evaluator\u001b[38;5;241m.\u001b[39mlog_prob(model_trace)\n\u001b[0;32m    263\u001b[0m \u001b[38;5;28;01mfor\u001b[39;00m name, t \u001b[38;5;129;01min\u001b[39;00m \u001b[38;5;28mself\u001b[39m\u001b[38;5;241m.\u001b[39mtransforms\u001b[38;5;241m.\u001b[39mitems():\n\u001b[0;32m    264\u001b[0m     log_joint \u001b[38;5;241m=\u001b[39m log_joint \u001b[38;5;241m-\u001b[39m torch\u001b[38;5;241m.\u001b[39msum(\n\u001b[1;32m--> 265\u001b[0m         \u001b[43mt\u001b[49m\u001b[38;5;241;43m.\u001b[39;49m\u001b[43mlog_abs_det_jacobian\u001b[49m\u001b[43m(\u001b[49m\u001b[43mparams_constrained\u001b[49m\u001b[43m[\u001b[49m\u001b[43mname\u001b[49m\u001b[43m]\u001b[49m\u001b[43m,\u001b[49m\u001b[43m \u001b[49m\u001b[43mparams\u001b[49m\u001b[43m[\u001b[49m\u001b[43mname\u001b[49m\u001b[43m]\u001b[49m\u001b[43m)\u001b[49m)\n\u001b[0;32m    266\u001b[0m \u001b[38;5;28;01mreturn\u001b[39;00m \u001b[38;5;241m-\u001b[39mlog_joint\n",
      "File \u001b[1;32m~\\anaconda3\\envs\\torch\\lib\\site-packages\\torch\\distributions\\transforms.py:347\u001b[0m, in \u001b[0;36mComposeTransform.log_abs_det_jacobian\u001b[1;34m(self, x, y)\u001b[0m\n\u001b[0;32m    345\u001b[0m \u001b[38;5;28;01mdef\u001b[39;00m \u001b[38;5;21mlog_abs_det_jacobian\u001b[39m(\u001b[38;5;28mself\u001b[39m, x, y):\n\u001b[0;32m    346\u001b[0m     \u001b[38;5;28;01mif\u001b[39;00m \u001b[38;5;129;01mnot\u001b[39;00m \u001b[38;5;28mself\u001b[39m\u001b[38;5;241m.\u001b[39mparts:\n\u001b[1;32m--> 347\u001b[0m         \u001b[38;5;28;01mreturn\u001b[39;00m \u001b[43mtorch\u001b[49m\u001b[38;5;241;43m.\u001b[39;49m\u001b[43mzeros_like\u001b[49m\u001b[43m(\u001b[49m\u001b[43mx\u001b[49m\u001b[43m)\u001b[49m\n\u001b[0;32m    349\u001b[0m     \u001b[38;5;66;03m# Compute intermediates. This will be free if parts[:-1] are all cached.\u001b[39;00m\n\u001b[0;32m    350\u001b[0m     xs \u001b[38;5;241m=\u001b[39m [x]\n",
      "\u001b[1;31mKeyboardInterrupt\u001b[0m: "
     ]
    }
   ],
   "source": [
    "# Model \n",
    "# net = airfoil_model\n",
    "# net = MLP(n_features, 1, [n_hidden_1, n_hidden_2], 'sigmoid', batch_norm=True).to(device)\n",
    "net = MLP(n_features, 1, [n_hidden_1, n_hidden_2], 'tanh', batch_norm=False).to(device)\n",
    "# net = TyXeNN(n_features, 1).to(device)\n",
    "\n",
    "prior = tyxe.priors.IIDPrior(dist.Normal(\n",
    "        torch.tensor(0, device=device, dtype=torch.float),\n",
    "        torch.tensor(1, device=device, dtype=torch.float)))\n",
    "prior_name = \", IID prior\"\n",
    "likelihood = tyxe.likelihoods.HomoskedasticGaussian(len(X_train), scale=1e-2)\n",
    "likelihood_name = \", Homoskedastic Gaussian likelihood\"\n",
    "kernel = partial(pyro.infer.mcmc.HMC, step_size=1e-3, num_steps=20, target_accept_prob=0.7)\n",
    "kernel_name = \"HMC\"\n",
    "bnn = tyxe.bnn.MCMC_BNN(net, prior, likelihood, kernel)\n",
    "bnn.name = kernel_name + \", MCMC BNN\" + likelihood_name + prior_name\n",
    "setattr(bnn, 'hidden_layers', [n_hidden_1, n_hidden_2])\n",
    "\n",
    "# Fit\n",
    "pyro.clear_param_store()\n",
    "bnn.fit(train_loader, 20000, warmup_steps=50000)"
   ]
  },
  {
   "cell_type": "markdown",
   "id": "a69c286b",
   "metadata": {},
   "source": [
    "### We evaluate the model on train, test and OOD data."
   ]
  },
  {
   "cell_type": "code",
   "execution_count": 49,
   "id": "a00c7ce3",
   "metadata": {
    "scrolled": true
   },
   "outputs": [
    {
     "name": "stdout",
     "output_type": "stream",
     "text": [
      "Train evaluation:\n",
      "Inference type: HMC, MCMC BNN, Homoskedastic Gaussian likelihood, IID prior\n",
      "Evaluated on: airfoil, Train data\n",
      "Neural network: [100, 30]\n",
      "Number of posterior samples: 1000\n",
      "Average NLPD: 16.90971\n",
      "SD of NLPD: 34.91543\n",
      "Total NLPD: 16233.32\n",
      "Average loss: 6.5038e-05\n",
      "Total loss: 0.0624364421\n",
      "\n",
      "Test evaluation:\n",
      "Inference type: HMC, MCMC BNN, Homoskedastic Gaussian likelihood, IID prior\n",
      "Evaluated on: airfoil, Test data\n",
      "Neural network: [100, 30]\n",
      "Number of posterior samples: 1000\n",
      "Average NLPD: 15.843596\n",
      "SD of NLPD: 28.851536\n",
      "Total NLPD: 3818.3064\n",
      "Average loss: 6.43375e-05\n",
      "Total loss: 0.0155053306\n",
      "\n",
      "OOD evaluation:\n",
      "Inference type: HMC, MCMC BNN, Homoskedastic Gaussian likelihood, IID prior\n",
      "Evaluated on: airfoil, OOD data\n",
      "Neural network: [100, 30]\n",
      "Number of posterior samples: 1000\n",
      "Average NLPD: 178.00049\n",
      "SD of NLPD: 320.1241\n",
      "Total NLPD: 53756.15\n",
      "Average loss: 0.000602215\n",
      "Total loss: 0.1818689276\n"
     ]
    }
   ],
   "source": [
    "posterior_samples = 1000\n",
    "\n",
    "# Train\n",
    "train_evaluation = evaluate_regr(bnn, train_loader, loss_function, posterior_samples=posterior_samples, rounded=10,\n",
    "                           dataset=\"airfoil, Train data\", device=device)\n",
    "test_evaluation = evaluate_regr(bnn, test_loader, loss_function, posterior_samples=posterior_samples, rounded=10,\n",
    "                           dataset=\"airfoil, Test data\", device=device)\n",
    "OOD_evaluation = evaluate_regr(bnn, OOD_loader, loss_function, posterior_samples=posterior_samples, rounded=10,\n",
    "                           dataset=\"airfoil, OOD data\", device=device)\n",
    "\n",
    "print(\"Train evaluation:\")\n",
    "util.print_dict(train_evaluation)\n",
    "\n",
    "print(\"\\nTest evaluation:\")\n",
    "util.print_dict(test_evaluation)\n",
    "\n",
    "print(\"\\nOOD evaluation:\")\n",
    "util.print_dict(OOD_evaluation)"
   ]
  },
  {
   "cell_type": "markdown",
   "id": "4be4351a",
   "metadata": {},
   "source": [
    "### Variational inference\n"
   ]
  },
  {
   "cell_type": "code",
   "execution_count": 19,
   "id": "21c8be49",
   "metadata": {},
   "outputs": [],
   "source": [
    "# Only run this to select new domain split\n",
    "\n",
    "def reset():\n",
    "    # Data\n",
    "    dom_idx, OOD_idx = hyperplane_split(df.values, OOD_size=0.2, verbose=1)\n",
    "\n",
    "    # Minmax scaling for better network performace\n",
    "    scaler = MinMaxScaler()\n",
    "    D = df[dom_idx].values\n",
    "    D = scaler.fit_transform(D)\n",
    "\n",
    "    # Split in-domain data to data and labels\n",
    "    X, y = D[:,:-1], D[:,-1]\n",
    "\n",
    "    # Split to train/test\n",
    "    X_train, X_test, y_train, y_test = train_test_split(X, y, test_size=0.2)#, random_state=42)\n",
    "\n",
    "    # Separate OOD data\n",
    "    OOD = df[OOD_idx].values\n",
    "    OOD = scaler.transform(OOD)         # need to also transform it to be compatible with the NN.\n",
    "    X_OOD, y_OOD = OOD[:,:-1], OOD[:,-1]\n",
    "\n",
    "    # Split to train / test\n",
    "    X_train, X_test, y_train, y_test = train_test_split(X, y, test_size=0.2)#, random_state=42)\n",
    "\n",
    "    # Transformation required for regression problem\n",
    "    y_train = y_train.reshape(-1, 1)\n",
    "    y_test = y_test.reshape(-1, 1)\n",
    "    y_OOD = y_OOD.reshape(-1, 1)\n",
    "\n",
    "    # Tensor datasets\n",
    "    train_dataset = data_loaders.create_torch_dataset(X_train, y_train, to_LongTensor=False)\n",
    "    test_dataset = data_loaders.create_torch_dataset(X_test, y_test, to_LongTensor=False)\n",
    "    OOD_dataset = data_loaders.create_torch_dataset(X_OOD, y_OOD, to_LongTensor=False)\n",
    "\n",
    "    # Data loaders on gpu\n",
    "    train_loader = data_loaders.create_loader(train_dataset, batch_size_train, device)\n",
    "    test_loader = data_loaders.create_loader(test_dataset, batch_size_test, device)\n",
    "    OOD_loader = data_loaders.create_loader(OOD_dataset, batch_size_test, device)\n",
    "    \n",
    "    pass\n",
    "\n",
    "# reset()"
   ]
  },
  {
   "cell_type": "code",
   "execution_count": 30,
   "id": "9026c932",
   "metadata": {},
   "outputs": [],
   "source": [
    "train_size = len(X_train)\n",
    "test_size = len(X_test)\n",
    "\n",
    "# Model \n",
    "var_net = MLP(n_features, 1, [n_hidden_1, n_hidden_2], 'relu', batch_norm=True).to(device)\n",
    "prior = tyxe.priors.IIDPrior(\n",
    "    dist.Normal(\n",
    "        torch.tensor(0, device=device, dtype=torch.float),\n",
    "        torch.tensor(1, device=device, dtype=torch.float),\n",
    "    ),\n",
    ")\n",
    "prior_name = \", IID prior\"\n",
    "obs_model = tyxe.likelihoods.HomoskedasticGaussian(train_size, scale=0.01)\n",
    "likelihood_name = \", Homoskedastic Gaussian likelihood\"\n",
    "guide_builder = partial(tyxe.guides.AutoNormal, init_scale=0.01)\n",
    "guide_name = \"Mean field\"\n",
    "var_bnn = tyxe.VariationalBNN(var_net, prior, obs_model, guide_builder)\n",
    "var_bnn.name = guide_name + \" Variational BNN\" + likelihood_name + prior_name"
   ]
  },
  {
   "cell_type": "code",
   "execution_count": 31,
   "id": "8e54bd82",
   "metadata": {
    "scrolled": false
   },
   "outputs": [],
   "source": [
    "# Fit\n",
    "n_epochs = 30\n",
    "pyro.clear_param_store()\n",
    "optim = pyro.optim.Adam({\"lr\": 1e-3})\n",
    "elbos = []    \n",
    "def callback(bnn, i, e):\n",
    "    elbos.append(e)\n",
    "var_bnn.fit(train_loader, optim, n_epochs, callback, device=device)\n",
    "setattr(var_bnn, 'hidden_layers', [n_hidden_1, n_hidden_2])"
   ]
  },
  {
   "cell_type": "code",
   "execution_count": 32,
   "id": "0cf4d72c",
   "metadata": {},
   "outputs": [
    {
     "name": "stdout",
     "output_type": "stream",
     "text": [
      "Train evaluation:\n",
      "Inference type: Mean field Variational BNN, Homoskedastic Gaussian likelihood, IID prior\n",
      "Evaluated on: airfoil, Train data\n",
      "Neural network: [100, 30]\n",
      "Number of posterior samples: 100\n",
      "Average NLPD: 3.785821\n",
      "SD of NLPD: 20.737915\n",
      "Total NLPD: 3634.388\n",
      "Average loss: 0.000131408\n",
      "Total loss: 0.1261516609\n",
      "\n",
      "Test evaluation:\n",
      "Inference type: Mean field Variational BNN, Homoskedastic Gaussian likelihood, IID prior\n",
      "Evaluated on: airfoil, Test data\n",
      "Neural network: [100, 30]\n",
      "Number of posterior samples: 100\n",
      "Average NLPD: 3.984973\n",
      "SD of NLPD: 13.698948\n",
      "Total NLPD: 960.37836\n",
      "Average loss: 0.0001412031\n",
      "Total loss: 0.0340299541\n",
      "\n",
      "OOD evaluation:\n",
      "Inference type: Mean field Variational BNN, Homoskedastic Gaussian likelihood, IID prior\n",
      "Evaluated on: airfoil, OOD data\n",
      "Neural network: [100, 30]\n",
      "Number of posterior samples: 100\n",
      "Average NLPD: 134.30888\n",
      "SD of NLPD: 285.7068\n",
      "Total NLPD: 40561.28\n",
      "Average loss: 0.0010850132\n",
      "Total loss: 0.3276739903\n"
     ]
    }
   ],
   "source": [
    "posterior_samples = 100\n",
    "\n",
    "# Train\n",
    "train_evaluation = evaluate_regr(var_bnn, train_loader, loss_function, posterior_samples=posterior_samples, rounded=10,\n",
    "                           dataset=\"airfoil, Train data\", device=device)\n",
    "test_evaluation = evaluate_regr(var_bnn, test_loader, loss_function, posterior_samples=posterior_samples, rounded=10,\n",
    "                           dataset=\"airfoil, Test data\", device=device)\n",
    "OOD_evaluation = evaluate_regr(var_bnn, OOD_loader, loss_function, posterior_samples=posterior_samples, rounded=10,\n",
    "                           dataset=\"airfoil, OOD data\", device=device)\n",
    "\n",
    "\n",
    "print(\"Train evaluation:\")\n",
    "util.print_dict(train_evaluation)\n",
    "\n",
    "print(\"\\nTest evaluation:\")\n",
    "util.print_dict(test_evaluation)\n",
    "\n",
    "print(\"\\nOOD evaluation:\")\n",
    "util.print_dict(OOD_evaluation)"
   ]
  },
  {
   "cell_type": "markdown",
   "id": "0cf5d1dd",
   "metadata": {},
   "source": [
    "# Draft below"
   ]
  },
  {
   "cell_type": "code",
   "execution_count": 25,
   "id": "13951e88",
   "metadata": {},
   "outputs": [
    {
     "data": {
      "text/plain": [
       "(tensor(0., device='cuda:0'), tensor(416.4776, device='cuda:0'))"
      ]
     },
     "execution_count": 25,
     "metadata": {},
     "output_type": "execute_result"
    }
   ],
   "source": [
    "X_ood, y_ood = data_loaders.separate_torch_dataset(OOD_dataset, device=device)\n",
    "\n",
    "var_bnn.evaluate(X_ood, y_ood, posterior_samples, reduction='mean')"
   ]
  },
  {
   "cell_type": "markdown",
   "id": "de473408",
   "metadata": {},
   "source": [
    "In the case of **Homoskedastic Gaussian** likelihood:\n",
    "\n",
    "Instead of calculating the likelihood for each test point\n",
    "$$ p(y_{test} | x_{test}, \\theta_t) = N ( f_{\\theta} (x_{test}), sd) $$\n",
    "and then doing Bayesian model averaging\n",
    "$$ p ( y_{test} | x_{test}, \\theta) = \\frac{1}{T} \\sum_t p(y_{test} | x_{test}, \\theta_t), \\ \\ \\ \\ \\theta_t \\sim p(\\theta | x,y) \\ \\ \\ \\ \\ \\text{(average over posterior samples)}$$\n",
    "to then calculate the NLPD\n",
    "$$ NLPD = -\\frac{1}{N} \\sum_i \\log p(y_i | x_i, \\theta), \\ \\ \\ \\ \\ \\text{(average over data)}$$\n",
    "\n",
    "could we split the data into batches and calculate an average prediction for each batch B:\n",
    "$$ \\bar{y}_{\\text{B}} = \\frac{1}{|\\text{B}|} \\sum_{x \\in \\text{B}} f_{\\theta}(x), \\ \\ \\ \\ \\ \\text{B=batch} $$\n",
    "and then compare against that average value?\n",
    "\n",
    "That is, for each $(x_{test}, y_{test})$ in batch B, calculate:\n",
    "$$ p( y_{test} | x_{test}, \\theta) = \\mathcal{N}( \\bar{y}_{\\text{B}}, \\sigma \\text{*}), $$\n",
    "and then calculate the NLPD as before\n",
    "$$ NLPD = -\\frac{1}{N} \\sum_i \\log p(y_{test} | x_{test}, \\theta). $$\n",
    "\n",
    "\n",
    "\\*where $\\sigma$ is the common posterior sd (due to HG assumption)"
   ]
  },
  {
   "cell_type": "code",
   "execution_count": null,
   "id": "3582b9cd",
   "metadata": {},
   "outputs": [],
   "source": []
  },
  {
   "cell_type": "markdown",
   "id": "78f0f5e5",
   "metadata": {},
   "source": [
    "### you are here"
   ]
  },
  {
   "cell_type": "code",
   "execution_count": 16,
   "id": "824d49f6",
   "metadata": {},
   "outputs": [
    {
     "data": {
      "text/plain": [
       "tensor(14.1355, device='cuda:0')"
      ]
     },
     "execution_count": 16,
     "metadata": {},
     "output_type": "execute_result"
    }
   ],
   "source": [
    "posterior_samples = 32\n",
    "\n",
    "nllh = torch.empty(0, device='cuda')\n",
    "for X, target in test_loader:\n",
    "    \n",
    "    pred_mean, pred_sd = bnn.predict(X, num_predictions=posterior_samples)\n",
    "    \n",
    "    nllh_batch = -1 * norm(pred_mean, pred_sd).log_prob(target)\n",
    "    nllh = torch.cat((nllh, nllh_batch))\n",
    "    \n",
    "nlpd = nllh.mean()\n",
    "nlpd"
   ]
  },
  {
   "cell_type": "code",
   "execution_count": 115,
   "id": "659da694",
   "metadata": {},
   "outputs": [
    {
     "data": {
      "text/plain": [
       "(tensor(1.0815, device='cuda:0'),\n",
       " tensor(0.1093, device='cuda:0'),\n",
       " tensor(1038.2397, device='cuda:0'))"
      ]
     },
     "execution_count": 115,
     "metadata": {},
     "output_type": "execute_result"
    }
   ],
   "source": [
    "NLPD(bnn, train_loader, 1000)\n",
    "    "
   ]
  },
  {
   "cell_type": "code",
   "execution_count": 33,
   "id": "bdfcd8d9",
   "metadata": {},
   "outputs": [],
   "source": [
    "def NLPD_2(\n",
    "    model, \n",
    "    loader, \n",
    "    posterior_samples, \n",
    "    likelihood = \"Homoskedastic Gaussian\",   # TODO: obtain this from model, implement other likelihoods\n",
    "    device='cuda',\n",
    "    verbose=0,\n",
    "    ):\n",
    "    \"\"\"\n",
    "    Calculate mean, sd and total NLPD for regression model.\n",
    "    Used inside evaluate_regr().\n",
    "    \"\"\"\n",
    "    \n",
    "    if likelihood == \"Homoskedastic Gaussian\":\n",
    "        sd = util.posterior_sd(model)\n",
    "    else:\n",
    "        raise(\"This type of likelihood is not impleneted yet.\")\n",
    "        \n",
    "    # torch tensor with number of posterior samples\n",
    "    T = torch.tensor(posterior_samples)\n",
    "    \n",
    "    NLPD = torch.empty(0, device='cuda')\n",
    "    with torch.no_grad():\n",
    "        for data, target in loader:\n",
    "            # pred is a matrix with dimensions (posterior_samples, batch_size, 1)\n",
    "            pred = model.predict(data, num_predictions=posterior_samples, aggregate=False)\n",
    "            \n",
    "            # warning: heavily vectorized operations ahead!\n",
    "            if likelihood == \"Homoskedastic Gaussian\":\n",
    "                # we transpose pred matrix and vanish the 3rd dimension (it's just 1)\n",
    "                # resulting matrix is of dimension (batch_size, posterior_samples)\n",
    "                log_p = norm(pred[:, :, -1].T, sd).log_prob(target)\n",
    "            else:\n",
    "                raise(\"This type of likelihood is not impleneted yet.\")\n",
    "            \n",
    "            # calculate NLPD\n",
    "            # log_p is now a matrix, we calculate logsumexp along axis=1\n",
    "            nlpd = -( torch.logsumexp(log_p, 1) - T.log() )\n",
    "            NLPD = torch.cat((NLPD, nlpd))\n",
    "\n",
    "    avg_NLPD = NLPD.mean()\n",
    "    sd_NLPD = NLPD.std()\n",
    "    total_NLPD = NLPD.sum()\n",
    "    \n",
    "    if verbose==1:\n",
    "        print(\"Average NLPD =\", avg_NLPD.cpu().detach().numpy())\n",
    "        print(\"SD of NLPD =\", sd_NLPD.cpu().detach().numpy())\n",
    "        print(\"Total NLPD =\", total_NLPD.cpu().detach().numpy())\n",
    "    \n",
    "    return avg_NLPD, sd_NLPD, total_NLPD"
   ]
  },
  {
   "cell_type": "code",
   "execution_count": null,
   "id": "ada20367",
   "metadata": {},
   "outputs": [],
   "source": [
    "T = number of posterior samples\n",
    "B = batch size\n",
    "\n",
    "nlpd = torch.empty(0, device='cuda')\n",
    "for X, target in loader:\n",
    "    \n",
    "    # pred is a matrix of dimensions (T, B, 1)\n",
    "    pred_mean = bnn.predict(X, num_predictions=posterior_samples, aggregate=False)\n",
    "    \n",
    "    # transpose pred matrix and vanish the 3rd \"fake\" dimension\n",
    "    # resulting matrix is of dimension BxT\n",
    "    pred = pred[:, :, -1].T\n",
    "    \n",
    "    # Homoskedastic Gaussian likelihood implies all parameters have a common shared posterior variance\n",
    "    sd = posterior_sd(bnn)      # flatten all parameters from all posterior samples and calculate the common sd\n",
    "    \n",
    "    # Calculate negative log likelihoods (or \"log probabilities\")\n",
    "    # nllh is a matrix of dimension BxT\n",
    "    # (nllh)_ij is the log likelihood of target_i conditioned on output of \"posterior\" network j with input X_i and the common sd\n",
    "    nllh = -1 * norm(pred, sd).log_prob(target)     # heavily vectorized pytorch magic\n",
    "    \n",
    "    # calculate NLPD\n",
    "    # logsumexp is calculated along axis 1 (one resulting value for each data point)\n",
    "    # result is of dimension Bx1\n",
    "    nlpd_batch = torch.logsumexp(log_p, 1) - T.log()     \n",
    "    \n",
    "    nlpd = torch.cat((nlpd, nlpd_batch))\n",
    "    \n",
    "avg_nlpd = nlpd.mean()"
   ]
  },
  {
   "cell_type": "code",
   "execution_count": null,
   "id": "5ad13785",
   "metadata": {},
   "outputs": [],
   "source": []
  },
  {
   "cell_type": "code",
   "execution_count": null,
   "id": "8cb39db1",
   "metadata": {},
   "outputs": [],
   "source": []
  },
  {
   "cell_type": "code",
   "execution_count": null,
   "id": "f988ccc9",
   "metadata": {},
   "outputs": [],
   "source": []
  },
  {
   "cell_type": "code",
   "execution_count": null,
   "id": "c86f2145",
   "metadata": {},
   "outputs": [],
   "source": []
  },
  {
   "cell_type": "code",
   "execution_count": null,
   "id": "3b404dc9",
   "metadata": {},
   "outputs": [],
   "source": []
  },
  {
   "cell_type": "code",
   "execution_count": null,
   "id": "314c0d40",
   "metadata": {},
   "outputs": [],
   "source": []
  },
  {
   "cell_type": "code",
   "execution_count": null,
   "id": "cb763a84",
   "metadata": {},
   "outputs": [],
   "source": []
  },
  {
   "cell_type": "code",
   "execution_count": null,
   "id": "88f89b89",
   "metadata": {},
   "outputs": [],
   "source": []
  },
  {
   "cell_type": "code",
   "execution_count": null,
   "id": "9db671a0",
   "metadata": {},
   "outputs": [],
   "source": []
  },
  {
   "cell_type": "code",
   "execution_count": null,
   "id": "26b44757",
   "metadata": {},
   "outputs": [],
   "source": [
    "# Below is empty space, to allow github scrolling at the bottom"
   ]
  },
  {
   "cell_type": "code",
   "execution_count": 41,
   "id": "257c9153",
   "metadata": {},
   "outputs": [
    {
     "data": {
      "text/plain": [
       "[100, 30]"
      ]
     },
     "execution_count": 41,
     "metadata": {},
     "output_type": "execute_result"
    }
   ],
   "source": [
    "airfoil_model.hidden_layers"
   ]
  },
  {
   "cell_type": "code",
   "execution_count": 40,
   "id": "e8f95a38",
   "metadata": {},
   "outputs": [
    {
     "data": {
      "text/plain": [
       "MLP(\n",
       "  (layer_0): Linear(in_features=5, out_features=100, bias=True)\n",
       "  (layer_1): BatchNorm1d(100, eps=1e-05, momentum=0.1, affine=True, track_running_stats=True)\n",
       "  (layer_2): Linear(in_features=100, out_features=30, bias=True)\n",
       "  (layer_3): BatchNorm1d(30, eps=1e-05, momentum=0.1, affine=True, track_running_stats=True)\n",
       "  (layer_4): Linear(in_features=30, out_features=1, bias=True)\n",
       ")"
      ]
     },
     "execution_count": 40,
     "metadata": {},
     "output_type": "execute_result"
    }
   ],
   "source": [
    "airfoil_model"
   ]
  },
  {
   "cell_type": "code",
   "execution_count": null,
   "id": "78fe486d",
   "metadata": {},
   "outputs": [],
   "source": [
    "nn.Sequential(airfoil_model.layer_0)"
   ]
  },
  {
   "cell_type": "code",
   "execution_count": null,
   "id": "c48f315e",
   "metadata": {},
   "outputs": [],
   "source": []
  },
  {
   "cell_type": "code",
   "execution_count": null,
   "id": "a4cef161",
   "metadata": {},
   "outputs": [],
   "source": []
  },
  {
   "cell_type": "code",
   "execution_count": 43,
   "id": "52b765e4",
   "metadata": {},
   "outputs": [
    {
     "data": {
      "text/plain": [
       "MLP(\n",
       "  (layer_0): Linear(in_features=5, out_features=100, bias=True)\n",
       "  (layer_1): BatchNorm1d(100, eps=1e-05, momentum=0.1, affine=True, track_running_stats=True)\n",
       "  (layer_2): Linear(in_features=100, out_features=30, bias=True)\n",
       "  (layer_3): BatchNorm1d(30, eps=1e-05, momentum=0.1, affine=True, track_running_stats=True)\n",
       "  (layer_4): Linear(in_features=30, out_features=30, bias=True)\n",
       "  (layer_5): BatchNorm1d(30, eps=1e-05, momentum=0.1, affine=True, track_running_stats=True)\n",
       ")"
      ]
     },
     "execution_count": 43,
     "metadata": {},
     "output_type": "execute_result"
    }
   ],
   "source": [
    "model = MLP(n_features, 1, [100, 30, 30], 'sigmoid',  batch_norm=True).to(device)\n",
    "model"
   ]
  },
  {
   "cell_type": "code",
   "execution_count": 49,
   "id": "ae1f53d0",
   "metadata": {},
   "outputs": [
    {
     "data": {
      "text/plain": [
       "False"
      ]
     },
     "execution_count": 49,
     "metadata": {},
     "output_type": "execute_result"
    }
   ],
   "source": [
    "'mcmc' or 'vi' in 'laplace'"
   ]
  },
  {
   "cell_type": "code",
   "execution_count": 51,
   "id": "4f4c98ea",
   "metadata": {},
   "outputs": [
    {
     "data": {
      "text/plain": [
       "False"
      ]
     },
     "execution_count": 51,
     "metadata": {},
     "output_type": "execute_result"
    }
   ],
   "source": [
    "'variatonal' in 'Variational'.lower()"
   ]
  },
  {
   "cell_type": "code",
   "execution_count": 52,
   "id": "7a90cc6c",
   "metadata": {},
   "outputs": [
    {
     "data": {
      "text/plain": [
       "'variational'"
      ]
     },
     "execution_count": 52,
     "metadata": {},
     "output_type": "execute_result"
    }
   ],
   "source": [
    "'Variational'.lower()"
   ]
  },
  {
   "cell_type": "code",
   "execution_count": 55,
   "id": "a64c0798",
   "metadata": {},
   "outputs": [
    {
     "data": {
      "text/plain": [
       "True"
      ]
     },
     "execution_count": 55,
     "metadata": {},
     "output_type": "execute_result"
    }
   ],
   "source": [
    "'variational' in 'Mean field Variational BNN, Homoskedastic Gaussian likelihood, IID prior'.lower().split()"
   ]
  },
  {
   "cell_type": "code",
   "execution_count": null,
   "id": "2fadaa1c",
   "metadata": {},
   "outputs": [],
   "source": []
  },
  {
   "cell_type": "code",
   "execution_count": null,
   "id": "06ee18a5",
   "metadata": {},
   "outputs": [],
   "source": []
  },
  {
   "cell_type": "code",
   "execution_count": null,
   "id": "996484bc",
   "metadata": {},
   "outputs": [],
   "source": []
  },
  {
   "cell_type": "code",
   "execution_count": null,
   "id": "46025de8",
   "metadata": {},
   "outputs": [],
   "source": []
  },
  {
   "cell_type": "code",
   "execution_count": null,
   "id": "3b3c1428",
   "metadata": {},
   "outputs": [],
   "source": []
  },
  {
   "cell_type": "code",
   "execution_count": null,
   "id": "a7a10d72",
   "metadata": {},
   "outputs": [],
   "source": []
  },
  {
   "cell_type": "code",
   "execution_count": null,
   "id": "11c5b1de",
   "metadata": {},
   "outputs": [],
   "source": []
  },
  {
   "cell_type": "code",
   "execution_count": null,
   "id": "cf3123e7",
   "metadata": {},
   "outputs": [],
   "source": []
  },
  {
   "cell_type": "code",
   "execution_count": null,
   "id": "514e845c",
   "metadata": {},
   "outputs": [],
   "source": []
  },
  {
   "cell_type": "code",
   "execution_count": null,
   "id": "0b563fa3",
   "metadata": {},
   "outputs": [],
   "source": []
  }
 ],
 "metadata": {
  "kernelspec": {
   "display_name": "Python 3 (ipykernel)",
   "language": "python",
   "name": "python3"
  },
  "language_info": {
   "codemirror_mode": {
    "name": "ipython",
    "version": 3
   },
   "file_extension": ".py",
   "mimetype": "text/x-python",
   "name": "python",
   "nbconvert_exporter": "python",
   "pygments_lexer": "ipython3",
   "version": "3.9.12"
  }
 },
 "nbformat": 4,
 "nbformat_minor": 5
}
