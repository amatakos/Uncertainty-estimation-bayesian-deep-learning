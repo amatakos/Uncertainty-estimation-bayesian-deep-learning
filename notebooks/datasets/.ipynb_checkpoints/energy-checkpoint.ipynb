{
 "cells": [
  {
   "cell_type": "code",
   "execution_count": 1,
   "id": "73f2f475",
   "metadata": {},
   "outputs": [],
   "source": [
    "import numpy as np\n",
    "import numpy.random as npr\n",
    "import pandas as pd\n",
    "import matplotlib.pyplot as plt\n",
    "import torch\n",
    "import torch.nn as nn\n",
    "import torch.optim as optim\n",
    "from sklearn.model_selection import train_test_split\n",
    "from sklearn.model_selection import KFold\n",
    "from sklearn.preprocessing import MinMaxScaler\n",
    "\n",
    "from src.utils import util, data_loaders\n",
    "from src.utils.domain_split import hyperplane_split\n",
    "from src.model import MLP\n",
    "from src.train_test import fit_regr, test_regr\n",
    "\n",
    "seed = npr.randint(10000)\n",
    "seed = 3838\n",
    "np.random.seed(seed)\n",
    "torch.manual_seed(seed)\n",
    "\n",
    "device = torch.device('cuda' if torch.cuda.is_available() else 'cpu')"
   ]
  },
  {
   "cell_type": "code",
   "execution_count": 2,
   "id": "7e55e202",
   "metadata": {},
   "outputs": [
    {
     "data": {
      "text/html": [
       "<div>\n",
       "<style scoped>\n",
       "    .dataframe tbody tr th:only-of-type {\n",
       "        vertical-align: middle;\n",
       "    }\n",
       "\n",
       "    .dataframe tbody tr th {\n",
       "        vertical-align: top;\n",
       "    }\n",
       "\n",
       "    .dataframe thead th {\n",
       "        text-align: right;\n",
       "    }\n",
       "</style>\n",
       "<table border=\"1\" class=\"dataframe\">\n",
       "  <thead>\n",
       "    <tr style=\"text-align: right;\">\n",
       "      <th></th>\n",
       "      <th>X2</th>\n",
       "      <th>X3</th>\n",
       "      <th>X4</th>\n",
       "      <th>X5</th>\n",
       "      <th>X6</th>\n",
       "      <th>X7</th>\n",
       "      <th>X8</th>\n",
       "      <th>Y1</th>\n",
       "      <th>Y2</th>\n",
       "    </tr>\n",
       "    <tr>\n",
       "      <th>X1</th>\n",
       "      <th></th>\n",
       "      <th></th>\n",
       "      <th></th>\n",
       "      <th></th>\n",
       "      <th></th>\n",
       "      <th></th>\n",
       "      <th></th>\n",
       "      <th></th>\n",
       "      <th></th>\n",
       "    </tr>\n",
       "  </thead>\n",
       "  <tbody>\n",
       "    <tr>\n",
       "      <th>0.98</th>\n",
       "      <td>514.5</td>\n",
       "      <td>294.0</td>\n",
       "      <td>110.25</td>\n",
       "      <td>7.0</td>\n",
       "      <td>2</td>\n",
       "      <td>0.0</td>\n",
       "      <td>0</td>\n",
       "      <td>15.55</td>\n",
       "      <td>21.33</td>\n",
       "    </tr>\n",
       "    <tr>\n",
       "      <th>0.98</th>\n",
       "      <td>514.5</td>\n",
       "      <td>294.0</td>\n",
       "      <td>110.25</td>\n",
       "      <td>7.0</td>\n",
       "      <td>3</td>\n",
       "      <td>0.0</td>\n",
       "      <td>0</td>\n",
       "      <td>15.55</td>\n",
       "      <td>21.33</td>\n",
       "    </tr>\n",
       "    <tr>\n",
       "      <th>0.98</th>\n",
       "      <td>514.5</td>\n",
       "      <td>294.0</td>\n",
       "      <td>110.25</td>\n",
       "      <td>7.0</td>\n",
       "      <td>4</td>\n",
       "      <td>0.0</td>\n",
       "      <td>0</td>\n",
       "      <td>15.55</td>\n",
       "      <td>21.33</td>\n",
       "    </tr>\n",
       "    <tr>\n",
       "      <th>0.98</th>\n",
       "      <td>514.5</td>\n",
       "      <td>294.0</td>\n",
       "      <td>110.25</td>\n",
       "      <td>7.0</td>\n",
       "      <td>5</td>\n",
       "      <td>0.0</td>\n",
       "      <td>0</td>\n",
       "      <td>15.55</td>\n",
       "      <td>21.33</td>\n",
       "    </tr>\n",
       "    <tr>\n",
       "      <th>0.90</th>\n",
       "      <td>563.5</td>\n",
       "      <td>318.5</td>\n",
       "      <td>122.50</td>\n",
       "      <td>7.0</td>\n",
       "      <td>2</td>\n",
       "      <td>0.0</td>\n",
       "      <td>0</td>\n",
       "      <td>20.84</td>\n",
       "      <td>28.28</td>\n",
       "    </tr>\n",
       "  </tbody>\n",
       "</table>\n",
       "</div>"
      ],
      "text/plain": [
       "         X2     X3      X4   X5  X6   X7  X8     Y1     Y2\n",
       "X1                                                        \n",
       "0.98  514.5  294.0  110.25  7.0   2  0.0   0  15.55  21.33\n",
       "0.98  514.5  294.0  110.25  7.0   3  0.0   0  15.55  21.33\n",
       "0.98  514.5  294.0  110.25  7.0   4  0.0   0  15.55  21.33\n",
       "0.98  514.5  294.0  110.25  7.0   5  0.0   0  15.55  21.33\n",
       "0.90  563.5  318.5  122.50  7.0   2  0.0   0  20.84  28.28"
      ]
     },
     "execution_count": 2,
     "metadata": {},
     "output_type": "execute_result"
    }
   ],
   "source": [
    "df = pd.read_csv(\"../../data/regression/energy.csv\", index_col=0)\n",
    "df.head()"
   ]
  },
  {
   "cell_type": "code",
   "execution_count": 3,
   "id": "22774e9c",
   "metadata": {},
   "outputs": [
    {
     "name": "stdout",
     "output_type": "stream",
     "text": [
      "Found random direction n = [ 0.53556664 -0.26904441 -0.07633868  0.39382319 -0.05117485  0.21844438\n",
      " -0.29594222 -0.30841071  0.49681324]\n",
      "Found split with ratio r = 0.20052083333333334\n"
     ]
    }
   ],
   "source": [
    "D = df.values\n",
    "dom_idx, OOD_idx = hyperplane_split(D, OOD_size=0.2, verbose=1, seed=seed)\n",
    "\n",
    "# Minmax scaling for better network performace\n",
    "scaler = MinMaxScaler()\n",
    "D = df[dom_idx].values\n",
    "D = scaler.fit_transform(D)\n",
    "\n",
    "# Split in-domain data to data and labels\n",
    "X, y = D[:,:-2], D[:,-2:]\n",
    "\n",
    "# Split to train/test\n",
    "X_train, X_test, y_train, y_test = train_test_split(X, y, test_size=0.5, random_state=seed)\n",
    "\n",
    "# Separate OOD data\n",
    "OOD = df[OOD_idx].values\n",
    "OOD = scaler.transform(OOD)         # need to also transform it to be compatible with the NN.\n",
    "X_OOD, y_OOD = OOD[:,:-2], OOD[:,-2:]\n",
    "\n",
    "# Hyperparameters\n",
    "n_features = X_train.shape[1]\n",
    "n_classes = 2\n",
    "n_hidden_1 = 100\n",
    "n_hidden_2 = 30\n",
    "network = [n_hidden_1, n_hidden_2]\n",
    "activation = 'relu'\n",
    "n_epochs = 10000\n",
    "learning_rate = 0.0001\n",
    "weight_decay = 1e-5\n",
    "batch_size = 64\n",
    "\n",
    "# Tensor datasets\n",
    "train_dataset = data_loaders.create_torch_dataset(X_train, y_train, to_LongTensor=False)\n",
    "test_dataset = data_loaders.create_torch_dataset(X_test, y_test, to_LongTensor=False)\n",
    "OOD_dataset = data_loaders.create_torch_dataset(X_OOD, y_OOD, to_LongTensor=False)\n",
    "\n",
    "# Data loaders on gpu\n",
    "train_loader = data_loaders.create_loader(train_dataset, batch_size, device)\n",
    "test_loader = data_loaders.create_loader(test_dataset, batch_size, device)\n",
    "OOD_loader = data_loaders.create_loader(OOD_dataset, batch_size, device)"
   ]
  },
  {
   "cell_type": "markdown",
   "id": "c0be4aaf",
   "metadata": {},
   "source": [
    "### Abs"
   ]
  },
  {
   "cell_type": "code",
   "execution_count": 8,
   "id": "549a37e6",
   "metadata": {},
   "outputs": [],
   "source": [
    "activation = 'relu'\n",
    "network = [32]"
   ]
  },
  {
   "cell_type": "code",
   "execution_count": 9,
   "id": "bec1e9f8",
   "metadata": {},
   "outputs": [
    {
     "name": "stdout",
     "output_type": "stream",
     "text": [
      "Loss on dev set has stopped decreasing after epoch 2600 (average of 50 epochs).\n",
      "STOPPING EARLY.\n",
      "Average Train MSE: 0.00010\n"
     ]
    },
    {
     "data": {
      "image/png": "[encoded data removed]",
      "text/plain": [
       "<Figure size 648x432 with 1 Axes>"
      ]
     },
     "metadata": {
      "needs_background": "light"
     },
     "output_type": "display_data"
    },
    {
     "name": "stdout",
     "output_type": "stream",
     "text": [
      "Average test MSE = 0.00017\n",
      "Average OOD loss = 0.0008961932\n",
      "Average OOD loss to train loss ratio:  8.689\n",
      "Average OOD loss to test loss ratio:  5.386\n"
     ]
    }
   ],
   "source": [
    "model = MLP(n_features, 2, network, activation, batch_norm=True).to(device)\n",
    "loss_function = nn.MSELoss()\n",
    "optimizer = optim.Adam(model.parameters(), lr=learning_rate, weight_decay=weight_decay)\n",
    "\n",
    "# Train\n",
    "train_losses = fit_regr(model, loss_function, optimizer, train_loader, \n",
    "    n_epochs=n_epochs, verbose=1, early_stopping='dev', return_losses=True)\n",
    "avg_train_loss = train_losses[-1]\n",
    "\n",
    "print(f\"Average Train MSE: {avg_train_loss:.5f}\")  \n",
    "\n",
    "plt.figure(figsize=(9,6))\n",
    "plt.plot(train_losses)\n",
    "plt.grid()\n",
    "plt.xlabel(\"Epoch\", fontsize=20)\n",
    "plt.ylabel(\"Loss\", fontsize=20)\n",
    "plt.title(\"MSE loss\", fontsize=20)\n",
    "plt.show()\n",
    "\n",
    "avg_test_loss = test_regr(model, loss_function, test_loader, return_loss=True)\n",
    "\n",
    "print(f\"Average test MSE = {avg_test_loss:.5f}\")   \n",
    "\n",
    "avg_OOD_loss = test_regr(model, loss_function, OOD_loader, return_loss=True)\n",
    "\n",
    "print(f\"Average OOD loss = {avg_OOD_loss:.10f}\")  \n",
    "print(f\"Average OOD loss to train loss ratio: {avg_OOD_loss / avg_train_loss : .3f}\")\n",
    "print(f\"Average OOD loss to test loss ratio: {avg_OOD_loss / avg_test_loss : .3f}\")"
   ]
  },
  {
   "cell_type": "markdown",
   "id": "24db0f26",
   "metadata": {},
   "source": [
    "### ReLU"
   ]
  },
  {
   "cell_type": "code",
   "execution_count": 5,
   "id": "b2014669",
   "metadata": {},
   "outputs": [],
   "source": [
    "activation = 'relu'"
   ]
  },
  {
   "cell_type": "code",
   "execution_count": 6,
   "id": "238c2fee",
   "metadata": {},
   "outputs": [],
   "source": [
    "model = MLP(n_features, n_classes, network, activation, batch_norm=True).to(device)\n",
    "loss_function = nn.MSELoss()\n",
    "optimizer = optim.Adam(model.parameters(), lr=learning_rate, weight_decay=weight_decay)"
   ]
  },
  {
   "cell_type": "code",
   "execution_count": 7,
   "id": "e99fb962",
   "metadata": {},
   "outputs": [
    {
     "name": "stdout",
     "output_type": "stream",
     "text": [
      "Loss on dev set has stopped decreasing after epoch 282 (average of 50 epochs).\n",
      "STOPPING EARLY.\n",
      "Average Train MSE: 0.00005\n",
      "Total Train MSE: 0.02493\n"
     ]
    },
    {
     "data": {
      "image/png": "[encoded data removed]",
      "text/plain": [
       "<Figure size 648x432 with 1 Axes>"
      ]
     },
     "metadata": {
      "needs_background": "light"
     },
     "output_type": "display_data"
    }
   ],
   "source": [
    "train_losses = fit_regr(model, loss_function, optimizer, train_loader, n_epochs=n_epochs,\n",
    "                        verbose=1, early_stopping='dev', return_losses=True)\n",
    "avg_train_loss = train_losses[-1]\n",
    "\n",
    "print(f\"Average Train MSE: {avg_train_loss:.5f}\")\n",
    "print(f\"Total Train MSE: {len(X_train) * avg_train_loss:.5f}\")\n",
    "\n",
    "plt.figure(figsize=(9,6))\n",
    "plt.plot(train_losses)\n",
    "plt.grid()\n",
    "plt.xlabel(\"Epoch\", fontsize=20)\n",
    "plt.ylabel(\"Loss\", fontsize=20)\n",
    "plt.title(\"MSE loss\", fontsize=20)\n",
    "plt.show()"
   ]
  },
  {
   "cell_type": "code",
   "execution_count": 8,
   "id": "f44ce6c7",
   "metadata": {},
   "outputs": [
    {
     "name": "stdout",
     "output_type": "stream",
     "text": [
      "Average test MSE = 0.00031\n",
      "Total test MSE: 0.00624\n"
     ]
    }
   ],
   "source": [
    "avg_test_loss = test_regr(model, loss_function, test_loader, return_loss=True)\n",
    "\n",
    "print(f\"Average test MSE = {avg_test_loss:.5f}\")   \n",
    "print(f\"Total test MSE: {len(X_test) * avg_train_loss:.5f}\")"
   ]
  },
  {
   "cell_type": "code",
   "execution_count": 9,
   "id": "c16f128d",
   "metadata": {},
   "outputs": [
    {
     "name": "stdout",
     "output_type": "stream",
     "text": [
      "Average OOD loss = 0.0093577156\n",
      "Average OOD loss to train loss ratio:  184.316\n",
      "Average OOD loss to test loss ratio:  30.433\n"
     ]
    }
   ],
   "source": [
    "avg_OOD_loss = test_regr(model, loss_function, OOD_loader, return_loss=True)\n",
    "\n",
    "print(f\"Average OOD loss = {avg_OOD_loss:.10f}\")  \n",
    "print(f\"Average OOD loss to train loss ratio: {avg_OOD_loss / avg_train_loss : .3f}\")\n",
    "print(f\"Average OOD loss to test loss ratio: {avg_OOD_loss / avg_test_loss : .3f}\")"
   ]
  },
  {
   "cell_type": "code",
   "execution_count": 31,
   "id": "5b18e47c",
   "metadata": {},
   "outputs": [],
   "source": [
    "def pipeline(X_train, X_test, y_train, y_test, verbose=0):\n",
    "    \n",
    "    # Transformation required for regression problem\n",
    "    y_train = y_train.reshape(-1, 1)\n",
    "    y_test = y_test.reshape(-1, 1)\n",
    "\n",
    "    # Tensor datasets\n",
    "    train_dataset = data_loaders.create_torch_dataset(X_train, y_train, to_LongTensor=False)\n",
    "    test_dataset = data_loaders.create_torch_dataset(X_test, y_test, to_LongTensor=False)\n",
    "\n",
    "    # Data loaders on gpu\n",
    "    train_loader = data_loaders.create_loader(train_dataset, batch_size, device)\n",
    "    test_loader = data_loaders.create_loader(test_dataset, batch_size, device)\n",
    "\n",
    "    # Model setup\n",
    "    model = MLP(n_features, 1, network, activation).to(device)\n",
    "\n",
    "    loss_function = nn.MSELoss()\n",
    "    optimizer = optim.Adam(model.parameters(), lr=learning_rate, weight_decay=weight_decay)\n",
    "\n",
    "    # fit function optionally returns a list with the epoch-wise losses\n",
    "    train_loss = fit_regr(model, loss_function, optimizer, train_loader, \n",
    "                 n_epochs=n_epochs, verbose=1, early_stopping=True, return_losses=True) \n",
    "    test_loss = test_regr(model, loss_function, test_loader, verbose=0, return_loss=True) \n",
    "    \n",
    "    if verbose:\n",
    "        print(f\"Average Train MSE Loss: {train_loss[-1] : .10f}\")\n",
    "        print(f\"Average Test MSE Loss : {test_loss : .10f}\" )\n",
    "\n",
    "    return train_loss, test_loss                 # train loss is a list, test loss is a float\n",
    " "
   ]
  },
  {
   "cell_type": "code",
   "execution_count": 32,
   "id": "cde11128",
   "metadata": {},
   "outputs": [
    {
     "name": "stdout",
     "output_type": "stream",
     "text": [
      "\n",
      "Training on fold no. 1\n",
      "Loss has stopped decreasing after epoch 152 (average of 50 epochs).\n",
      "STOPPING EARLY.\n",
      "Average Train MSE Loss:  0.0001394783\n",
      "Average Test MSE Loss :  0.0032228815\n",
      "\n",
      "Training on fold no. 2\n",
      "Loss has stopped decreasing after epoch 179 (average of 50 epochs).\n",
      "STOPPING EARLY.\n",
      "Average Train MSE Loss:  0.0001291957\n",
      "Average Test MSE Loss :  0.0037405792\n",
      "\n",
      "Training on fold no. 3\n",
      "Loss has stopped decreasing after epoch 169 (average of 50 epochs).\n",
      "STOPPING EARLY.\n",
      "Average Train MSE Loss:  0.0001569484\n",
      "Average Test MSE Loss :  0.0030567419\n",
      "\n",
      "Training on fold no. 4\n",
      "Loss has stopped decreasing after epoch 164 (average of 50 epochs).\n",
      "STOPPING EARLY.\n",
      "Average Train MSE Loss:  0.0001339548\n",
      "Average Test MSE Loss :  0.0009278679\n",
      "\n",
      "Training on fold no. 5\n",
      "Loss has stopped decreasing after epoch 145 (average of 50 epochs).\n",
      "STOPPING EARLY.\n",
      "Average Train MSE Loss:  0.0001395873\n",
      "Average Test MSE Loss :  0.0016236231\n",
      "\n",
      "Training on fold no. 6\n",
      "Loss has stopped decreasing after epoch 129 (average of 50 epochs).\n",
      "STOPPING EARLY.\n",
      "Average Train MSE Loss:  0.0001837365\n",
      "Average Test MSE Loss :  0.0031865031\n",
      "\n",
      "Training on fold no. 7\n",
      "Loss has stopped decreasing after epoch 163 (average of 50 epochs).\n",
      "STOPPING EARLY.\n",
      "Average Train MSE Loss:  0.0002028137\n",
      "Average Test MSE Loss :  0.0041024383\n",
      "\n",
      "Training on fold no. 8\n",
      "Loss has stopped decreasing after epoch 159 (average of 50 epochs).\n",
      "STOPPING EARLY.\n",
      "Average Train MSE Loss:  0.0001743406\n",
      "Average Test MSE Loss :  0.0021123279\n",
      "\n",
      "Training on fold no. 9\n",
      "Loss has stopped decreasing after epoch 155 (average of 50 epochs).\n",
      "STOPPING EARLY.\n",
      "Average Train MSE Loss:  0.0001585881\n",
      "Average Test MSE Loss :  0.0010134519\n",
      "\n",
      "Training on fold no. 10\n",
      "Loss has stopped decreasing after epoch 173 (average of 50 epochs).\n",
      "STOPPING EARLY.\n",
      "Average Train MSE Loss:  0.0001899113\n",
      "Average Test MSE Loss :  0.0011044368\n",
      "\n",
      "Train losses: [0.00013948 0.0001292  0.00015695 0.00013395 0.00013959 0.00018374\n",
      " 0.00020281 0.00017434 0.00015859 0.00018991]\n",
      "\n",
      "Test losses: [0.00322288 0.00374058 0.00305674 0.00092787 0.00162362 0.0031865\n",
      " 0.00410244 0.00211233 0.00101345 0.00110444]\n",
      "\n",
      "Avg train loss over all folds: 0.00016\n",
      "Avg total train loss over all folds: 0.11935\n",
      "\n",
      "Avg test loss over all folds: 0.00241\n",
      "Avg total test loss over all folds: 0.19754\n"
     ]
    },
    {
     "data": {
      "image/png": "[encoded data removed]",
      "text/plain": [
       "<Figure size 648x432 with 1 Axes>"
      ]
     },
     "metadata": {
      "needs_background": "light"
     },
     "output_type": "display_data"
    }
   ],
   "source": [
    "n_splits = 10\n",
    "kf = KFold(n_splits)\n",
    "\n",
    "train_losses = np.zeros(n_splits)\n",
    "test_losses = np.zeros(n_splits)\n",
    "train_losses_plot = []                           # for plotting loss curves\n",
    "for i, (train_index, test_index) in enumerate(kf.split(X)):\n",
    "    \n",
    "    X_train, X_test = X[train_index], X[test_index]\n",
    "    y_train, y_test = y[train_index], y[test_index]\n",
    "    \n",
    "    print(\"\\nTraining on fold no. %d\" %(i+1))\n",
    "    epoch_wise_train_losses, test_losses[i] = pipeline(X_train, X_test, y_train, y_test, verbose=1)\n",
    "    train_losses[i] = epoch_wise_train_losses[-1]\n",
    "    train_losses_plot.append(epoch_wise_train_losses)\n",
    "    \n",
    "print(\"\\nTrain losses:\", train_losses)\n",
    "print(\"\\nTest losses:\", test_losses)\n",
    "\n",
    "avg_train_loss_k_folds = train_losses.mean() \n",
    "avg_test_loss_k_folds = test_losses.mean() \n",
    "print(f\"\\nAvg train loss over all folds: {avg_train_loss_k_folds :.5f}\")\n",
    "print(f\"Avg total train loss over all folds: {len(X_train) * avg_train_loss_k_folds :.5f}\")\n",
    "print(f\"\\nAvg test loss over all folds: {avg_test_loss_k_folds :.5f}\")\n",
    "print(f\"Avg total test loss over all folds: {len(X_test) * avg_test_loss_k_folds :.5f}\")\n",
    "\n",
    "plt.figure(figsize=(9,6))\n",
    "for losses in train_losses_plot:\n",
    "    plt.plot(losses)\n",
    "plt.grid()\n",
    "plt.xlabel(\"Epoch\", fontsize=20)\n",
    "plt.ylabel(\"Loss\", fontsize=20)\n",
    "plt.title(f\"Loss curves for {n_splits} folds\", fontsize=20)\n",
    "plt.show()"
   ]
  }
 ],
 "metadata": {
  "kernelspec": {
   "display_name": "Python 3 (ipykernel)",
   "language": "python",
   "name": "python3"
  },
  "language_info": {
   "codemirror_mode": {
    "name": "ipython",
    "version": 3
   },
   "file_extension": ".py",
   "mimetype": "text/x-python",
   "name": "python",
   "nbconvert_exporter": "python",
   "pygments_lexer": "ipython3",
   "version": "3.9.12"
  }
 },
 "nbformat": 4,
 "nbformat_minor": 5
}
