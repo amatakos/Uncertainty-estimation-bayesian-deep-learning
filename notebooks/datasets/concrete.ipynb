{
 "cells": [
  {
   "cell_type": "code",
   "execution_count": 1,
   "id": "73f2f475",
   "metadata": {},
   "outputs": [],
   "source": [
    "import numpy as np\n",
    "import numpy.random as npr\n",
    "import pandas as pd\n",
    "import matplotlib.pyplot as plt\n",
    "import torch\n",
    "import torch.nn as nn\n",
    "import torch.optim as optim\n",
    "from sklearn.model_selection import train_test_split\n",
    "from sklearn.model_selection import KFold\n",
    "from sklearn.preprocessing import MinMaxScaler\n",
    "\n",
    "from src.utils import util, data_loaders\n",
    "from src.utils.domain_split import hyperplane_split\n",
    "from src.model import MLP\n",
    "from src.train_test import fit_regr, test_regr\n",
    "\n",
    "# seed = npr.randint(10000)\n",
    "seed = 2345\n",
    "np.random.seed(seed)\n",
    "torch.manual_seed(seed)\n",
    "\n",
    "device = torch.device('cuda' if torch.cuda.is_available() else 'cpu')"
   ]
  },
  {
   "cell_type": "code",
   "execution_count": 2,
   "id": "7e55e202",
   "metadata": {},
   "outputs": [
    {
     "data": {
      "text/html": [
       "<div>\n",
       "<style scoped>\n",
       "    .dataframe tbody tr th:only-of-type {\n",
       "        vertical-align: middle;\n",
       "    }\n",
       "\n",
       "    .dataframe tbody tr th {\n",
       "        vertical-align: top;\n",
       "    }\n",
       "\n",
       "    .dataframe thead th {\n",
       "        text-align: right;\n",
       "    }\n",
       "</style>\n",
       "<table border=\"1\" class=\"dataframe\">\n",
       "  <thead>\n",
       "    <tr style=\"text-align: right;\">\n",
       "      <th></th>\n",
       "      <th>cement</th>\n",
       "      <th>furnace_slag</th>\n",
       "      <th>fly_ash</th>\n",
       "      <th>water</th>\n",
       "      <th>super_plasticizer</th>\n",
       "      <th>coarse_agg</th>\n",
       "      <th>fine_agg</th>\n",
       "      <th>age</th>\n",
       "      <th>compressive_strength</th>\n",
       "    </tr>\n",
       "  </thead>\n",
       "  <tbody>\n",
       "    <tr>\n",
       "      <th>0</th>\n",
       "      <td>540.0</td>\n",
       "      <td>0.0</td>\n",
       "      <td>0.0</td>\n",
       "      <td>162.0</td>\n",
       "      <td>2.5</td>\n",
       "      <td>1040.0</td>\n",
       "      <td>676.0</td>\n",
       "      <td>28</td>\n",
       "      <td>79.99</td>\n",
       "    </tr>\n",
       "    <tr>\n",
       "      <th>1</th>\n",
       "      <td>540.0</td>\n",
       "      <td>0.0</td>\n",
       "      <td>0.0</td>\n",
       "      <td>162.0</td>\n",
       "      <td>2.5</td>\n",
       "      <td>1055.0</td>\n",
       "      <td>676.0</td>\n",
       "      <td>28</td>\n",
       "      <td>61.89</td>\n",
       "    </tr>\n",
       "    <tr>\n",
       "      <th>2</th>\n",
       "      <td>332.5</td>\n",
       "      <td>142.5</td>\n",
       "      <td>0.0</td>\n",
       "      <td>228.0</td>\n",
       "      <td>0.0</td>\n",
       "      <td>932.0</td>\n",
       "      <td>594.0</td>\n",
       "      <td>270</td>\n",
       "      <td>40.27</td>\n",
       "    </tr>\n",
       "    <tr>\n",
       "      <th>3</th>\n",
       "      <td>332.5</td>\n",
       "      <td>142.5</td>\n",
       "      <td>0.0</td>\n",
       "      <td>228.0</td>\n",
       "      <td>0.0</td>\n",
       "      <td>932.0</td>\n",
       "      <td>594.0</td>\n",
       "      <td>365</td>\n",
       "      <td>41.05</td>\n",
       "    </tr>\n",
       "    <tr>\n",
       "      <th>4</th>\n",
       "      <td>198.6</td>\n",
       "      <td>132.4</td>\n",
       "      <td>0.0</td>\n",
       "      <td>192.0</td>\n",
       "      <td>0.0</td>\n",
       "      <td>978.4</td>\n",
       "      <td>825.5</td>\n",
       "      <td>360</td>\n",
       "      <td>44.30</td>\n",
       "    </tr>\n",
       "  </tbody>\n",
       "</table>\n",
       "</div>"
      ],
      "text/plain": [
       "   cement  furnace_slag  fly_ash  water  super_plasticizer  coarse_agg  \\\n",
       "0   540.0           0.0      0.0  162.0                2.5      1040.0   \n",
       "1   540.0           0.0      0.0  162.0                2.5      1055.0   \n",
       "2   332.5         142.5      0.0  228.0                0.0       932.0   \n",
       "3   332.5         142.5      0.0  228.0                0.0       932.0   \n",
       "4   198.6         132.4      0.0  192.0                0.0       978.4   \n",
       "\n",
       "   fine_agg  age  compressive_strength  \n",
       "0     676.0   28                 79.99  \n",
       "1     676.0   28                 61.89  \n",
       "2     594.0  270                 40.27  \n",
       "3     594.0  365                 41.05  \n",
       "4     825.5  360                 44.30  "
      ]
     },
     "execution_count": 2,
     "metadata": {},
     "output_type": "execute_result"
    }
   ],
   "source": [
    "df = pd.read_csv(\"../../data/regression/concrete.csv\", index_col=0)\n",
    "df.head()"
   ]
  },
  {
   "cell_type": "code",
   "execution_count": 3,
   "id": "990eb3cf",
   "metadata": {},
   "outputs": [
    {
     "name": "stdout",
     "output_type": "stream",
     "text": [
      "Found random direction n = [-0.33095581  0.61535381 -0.39724036  0.24727086  0.17775918  0.3997461\n",
      " -0.18732973 -0.25627803 -0.02643909]\n",
      "Found split with ratio r = 0.2\n"
     ]
    },
    {
     "data": {
      "text/html": [
       "<div>\n",
       "<style scoped>\n",
       "    .dataframe tbody tr th:only-of-type {\n",
       "        vertical-align: middle;\n",
       "    }\n",
       "\n",
       "    .dataframe tbody tr th {\n",
       "        vertical-align: top;\n",
       "    }\n",
       "\n",
       "    .dataframe thead th {\n",
       "        text-align: right;\n",
       "    }\n",
       "</style>\n",
       "<table border=\"1\" class=\"dataframe\">\n",
       "  <thead>\n",
       "    <tr style=\"text-align: right;\">\n",
       "      <th></th>\n",
       "      <th>cement</th>\n",
       "      <th>furnace_slag</th>\n",
       "      <th>fly_ash</th>\n",
       "      <th>water</th>\n",
       "      <th>super_plasticizer</th>\n",
       "      <th>coarse_agg</th>\n",
       "      <th>fine_agg</th>\n",
       "      <th>age</th>\n",
       "      <th>compressive_strength</th>\n",
       "    </tr>\n",
       "  </thead>\n",
       "  <tbody>\n",
       "    <tr>\n",
       "      <th>0</th>\n",
       "      <td>540.0</td>\n",
       "      <td>0.0</td>\n",
       "      <td>0.0</td>\n",
       "      <td>162.0</td>\n",
       "      <td>2.5</td>\n",
       "      <td>1040.0</td>\n",
       "      <td>676.0</td>\n",
       "      <td>28</td>\n",
       "      <td>79.99</td>\n",
       "    </tr>\n",
       "    <tr>\n",
       "      <th>1</th>\n",
       "      <td>540.0</td>\n",
       "      <td>0.0</td>\n",
       "      <td>0.0</td>\n",
       "      <td>162.0</td>\n",
       "      <td>2.5</td>\n",
       "      <td>1055.0</td>\n",
       "      <td>676.0</td>\n",
       "      <td>28</td>\n",
       "      <td>61.89</td>\n",
       "    </tr>\n",
       "    <tr>\n",
       "      <th>2</th>\n",
       "      <td>332.5</td>\n",
       "      <td>142.5</td>\n",
       "      <td>0.0</td>\n",
       "      <td>228.0</td>\n",
       "      <td>0.0</td>\n",
       "      <td>932.0</td>\n",
       "      <td>594.0</td>\n",
       "      <td>270</td>\n",
       "      <td>40.27</td>\n",
       "    </tr>\n",
       "    <tr>\n",
       "      <th>3</th>\n",
       "      <td>332.5</td>\n",
       "      <td>142.5</td>\n",
       "      <td>0.0</td>\n",
       "      <td>228.0</td>\n",
       "      <td>0.0</td>\n",
       "      <td>932.0</td>\n",
       "      <td>594.0</td>\n",
       "      <td>365</td>\n",
       "      <td>41.05</td>\n",
       "    </tr>\n",
       "    <tr>\n",
       "      <th>4</th>\n",
       "      <td>198.6</td>\n",
       "      <td>132.4</td>\n",
       "      <td>0.0</td>\n",
       "      <td>192.0</td>\n",
       "      <td>0.0</td>\n",
       "      <td>978.4</td>\n",
       "      <td>825.5</td>\n",
       "      <td>360</td>\n",
       "      <td>44.30</td>\n",
       "    </tr>\n",
       "  </tbody>\n",
       "</table>\n",
       "</div>"
      ],
      "text/plain": [
       "   cement  furnace_slag  fly_ash  water  super_plasticizer  coarse_agg  \\\n",
       "0   540.0           0.0      0.0  162.0                2.5      1040.0   \n",
       "1   540.0           0.0      0.0  162.0                2.5      1055.0   \n",
       "2   332.5         142.5      0.0  228.0                0.0       932.0   \n",
       "3   332.5         142.5      0.0  228.0                0.0       932.0   \n",
       "4   198.6         132.4      0.0  192.0                0.0       978.4   \n",
       "\n",
       "   fine_agg  age  compressive_strength  \n",
       "0     676.0   28                 79.99  \n",
       "1     676.0   28                 61.89  \n",
       "2     594.0  270                 40.27  \n",
       "3     594.0  365                 41.05  \n",
       "4     825.5  360                 44.30  "
      ]
     },
     "execution_count": 3,
     "metadata": {},
     "output_type": "execute_result"
    }
   ],
   "source": [
    "D = df.values\n",
    "dom_idx, OOD_idx = hyperplane_split(D, OOD_size=0.2, verbose=1, seed=seed)\n",
    "df[dom_idx].head()"
   ]
  },
  {
   "cell_type": "code",
   "execution_count": 4,
   "id": "b49164fa",
   "metadata": {},
   "outputs": [],
   "source": [
    "# Minmax scaling for better network performace\n",
    "scaler = MinMaxScaler()\n",
    "D = df[dom_idx].values\n",
    "D = scaler.fit_transform(D)\n",
    "\n",
    "# Split in-domain data to data and labels\n",
    "X, y = D[:,:-1], D[:,-1]\n",
    "\n",
    "# Split to train/test\n",
    "X_train, X_test, y_train, y_test = train_test_split(X, y, test_size=0.2, random_state=seed)\n",
    "\n",
    "# Separate OOD data\n",
    "OOD = df[OOD_idx].values\n",
    "OOD = scaler.transform(OOD)         # need to also transform it to be compatible with the NN.\n",
    "X_OOD, y_OOD = OOD[:,:-1], OOD[:,-1]\n",
    "\n",
    "# Hyperparameters\n",
    "n_features = X_train.shape[1]\n",
    "n_classes = 1\n",
    "n_hidden_1 = 100\n",
    "n_hidden_2 = 30\n",
    "network = [n_hidden_1, n_hidden_2]\n",
    "activation = 'abs'\n",
    "n_epochs = 10000\n",
    "learning_rate = 0.0001\n",
    "weight_decay = 1e-5\n",
    "batch_size = 64\n",
    "\n",
    "# Transformation required for regression problem\n",
    "y_train = y_train.reshape(-1, 1)\n",
    "y_test = y_test.reshape(-1, 1)\n",
    "y_OOD = y_OOD.reshape(-1, 1)\n",
    "\n",
    "# Tensor datasets\n",
    "train_dataset = data_loaders.create_torch_dataset(X_train, y_train, to_LongTensor=False)\n",
    "test_dataset = data_loaders.create_torch_dataset(X_test, y_test, to_LongTensor=False)\n",
    "OOD_dataset = data_loaders.create_torch_dataset(X_OOD, y_OOD, to_LongTensor=False)\n",
    "\n",
    "# Data loaders on gpu\n",
    "train_loader = data_loaders.create_loader(train_dataset, batch_size, device)\n",
    "test_loader = data_loaders.create_loader(test_dataset, batch_size, device)\n",
    "OOD_loader = data_loaders.create_loader(OOD_dataset, batch_size, device)"
   ]
  },
  {
   "cell_type": "markdown",
   "id": "00600498",
   "metadata": {},
   "source": [
    "### Abs"
   ]
  },
  {
   "cell_type": "code",
   "execution_count": 5,
   "id": "42fbfc02",
   "metadata": {},
   "outputs": [],
   "source": [
    "activation = 'abs'"
   ]
  },
  {
   "cell_type": "code",
   "execution_count": 6,
   "id": "67571739",
   "metadata": {},
   "outputs": [
    {
     "name": "stdout",
     "output_type": "stream",
     "text": [
      "Average Train MSE: 0.00046\n"
     ]
    },
    {
     "data": {
      "image/png": "[encoded data removed]",
      "text/plain": [
       "<Figure size 648x432 with 1 Axes>"
      ]
     },
     "metadata": {
      "needs_background": "light"
     },
     "output_type": "display_data"
    },
    {
     "name": "stdout",
     "output_type": "stream",
     "text": [
      "Average test MSE = 0.00069\n",
      "Average OOD loss = 0.0078583649\n",
      "Average OOD loss to train loss ratio:  17.057\n",
      "Average OOD loss to test loss ratio:  11.461\n"
     ]
    }
   ],
   "source": [
    "model = MLP(n_features, 1, network, activation, batch_norm=True).to(device)\n",
    "loss_function = nn.MSELoss()\n",
    "optimizer = optim.Adam(model.parameters(), lr=learning_rate, weight_decay=weight_decay)\n",
    "\n",
    "# Train\n",
    "train_losses = fit_regr(model, loss_function, optimizer, train_loader, \n",
    "    n_epochs=n_epochs, verbose=0, early_stopping='dev', return_losses=True)\n",
    "avg_train_loss = train_losses[-1]\n",
    "\n",
    "print(f\"Average Train MSE: {avg_train_loss:.5f}\")  \n",
    "\n",
    "plt.figure(figsize=(9,6))\n",
    "plt.plot(train_losses)\n",
    "plt.grid()\n",
    "plt.xlabel(\"Epoch\", fontsize=20)\n",
    "plt.ylabel(\"Loss\", fontsize=20)\n",
    "plt.title(\"MSE loss\", fontsize=20)\n",
    "plt.show()\n",
    "\n",
    "avg_test_loss = test_regr(model, loss_function, test_loader, return_loss=True)\n",
    "\n",
    "print(f\"Average test MSE = {avg_test_loss:.5f}\")   \n",
    "\n",
    "avg_OOD_loss = test_regr(model, loss_function, OOD_loader, return_loss=True)\n",
    "\n",
    "print(f\"Average OOD loss = {avg_OOD_loss:.10f}\")  \n",
    "print(f\"Average OOD loss to train loss ratio: {avg_OOD_loss / avg_train_loss : .3f}\")\n",
    "print(f\"Average OOD loss to test loss ratio: {avg_OOD_loss / avg_test_loss : .3f}\")"
   ]
  },
  {
   "cell_type": "markdown",
   "id": "d18b8efc",
   "metadata": {},
   "source": [
    "### ReLU"
   ]
  },
  {
   "cell_type": "code",
   "execution_count": 8,
   "id": "085c056f",
   "metadata": {},
   "outputs": [],
   "source": [
    "activation = 'relu'"
   ]
  },
  {
   "cell_type": "code",
   "execution_count": 9,
   "id": "238c2fee",
   "metadata": {},
   "outputs": [],
   "source": [
    "model = MLP(n_features, 1, network, activation, batch_norm=True).to(device)\n",
    "loss_function = nn.MSELoss()\n",
    "optimizer = optim.Adam(model.parameters(), lr=learning_rate, weight_decay=weight_decay)"
   ]
  },
  {
   "cell_type": "code",
   "execution_count": 10,
   "id": "e99fb962",
   "metadata": {},
   "outputs": [
    {
     "name": "stdout",
     "output_type": "stream",
     "text": [
      "Loss has stopped decreasing after epoch 537 (average of 50 epochs).\n",
      "STOPPING EARLY.\n",
      "Average Train MSE: 0.00002\n",
      "Total Train MSE: 0.01339\n"
     ]
    },
    {
     "data": {
      "image/png": "[encoded data removed]",
      "text/plain": [
       "<Figure size 648x432 with 1 Axes>"
      ]
     },
     "metadata": {
      "needs_background": "light"
     },
     "output_type": "display_data"
    }
   ],
   "source": [
    "train_losses = fit_regr(model, loss_function, optimizer, train_loader, n_epochs=n_epochs,\n",
    "                        verbose=1, early_stopping='train', return_losses=True)\n",
    "avg_train_loss = train_losses[-1]\n",
    "\n",
    "print(f\"Average Train MSE: {avg_train_loss:.5f}\")\n",
    "print(f\"Total Train MSE: {len(X_train) * avg_train_loss:.5f}\")\n",
    "\n",
    "plt.figure(figsize=(9,6))\n",
    "plt.plot(train_losses)\n",
    "plt.grid()\n",
    "plt.xlabel(\"Epoch\", fontsize=20)\n",
    "plt.ylabel(\"Loss\", fontsize=20)\n",
    "plt.title(\"MSE loss\", fontsize=20)\n",
    "plt.show()"
   ]
  },
  {
   "cell_type": "code",
   "execution_count": 11,
   "id": "f44ce6c7",
   "metadata": {},
   "outputs": [
    {
     "name": "stdout",
     "output_type": "stream",
     "text": [
      "Average test MSE = 0.00041\n",
      "Total test MSE: 0.00335\n"
     ]
    }
   ],
   "source": [
    "avg_test_loss = test_regr(model, loss_function, test_loader, return_loss=True)\n",
    "\n",
    "print(f\"Average test MSE = {avg_test_loss:.5f}\")   \n",
    "print(f\"Total test MSE: {len(X_test) * avg_train_loss:.5f}\")"
   ]
  },
  {
   "cell_type": "code",
   "execution_count": 12,
   "id": "c16f128d",
   "metadata": {},
   "outputs": [
    {
     "name": "stdout",
     "output_type": "stream",
     "text": [
      "Average OOD loss = 0.0025592010\n",
      "Average OOD loss to train loss ratio:  126.000\n",
      "Average OOD loss to test loss ratio:  6.205\n"
     ]
    }
   ],
   "source": [
    "avg_OOD_loss = test_regr(model, loss_function, OOD_loader, return_loss=True)\n",
    "\n",
    "print(f\"Average OOD loss = {avg_OOD_loss:.10f}\")  \n",
    "print(f\"Average OOD loss to train loss ratio: {avg_OOD_loss / avg_train_loss : .3f}\")\n",
    "print(f\"Average OOD loss to test loss ratio: {avg_OOD_loss / avg_test_loss : .3f}\")"
   ]
  },
  {
   "cell_type": "code",
   "execution_count": 31,
   "id": "5b18e47c",
   "metadata": {},
   "outputs": [],
   "source": [
    "def pipeline(X_train, X_test, y_train, y_test, verbose=0):\n",
    "    \n",
    "    # Transformation required for regression problem\n",
    "    y_train = y_train.reshape(-1, 1)\n",
    "    y_test = y_test.reshape(-1, 1)\n",
    "\n",
    "    # Tensor datasets\n",
    "    train_dataset = data_loaders.create_torch_dataset(X_train, y_train, to_LongTensor=False)\n",
    "    test_dataset = data_loaders.create_torch_dataset(X_test, y_test, to_LongTensor=False)\n",
    "\n",
    "    # Data loaders on gpu\n",
    "    train_loader = data_loaders.create_loader(train_dataset, batch_size, device)\n",
    "    test_loader = data_loaders.create_loader(test_dataset, batch_size, device)\n",
    "\n",
    "    # Model setup\n",
    "    model = MLP(n_features, 1, network, activation).to(device)\n",
    "\n",
    "    loss_function = nn.MSELoss()\n",
    "    optimizer = optim.Adam(model.parameters(), lr=learning_rate, weight_decay=weight_decay)\n",
    "\n",
    "    # fit function optionally returns a list with the epoch-wise losses\n",
    "    train_loss = fit_regr(model, loss_function, optimizer, train_loader, \n",
    "                 n_epochs=n_epochs, verbose=1, early_stopping=True, return_losses=True) \n",
    "    test_loss = test_regr(model, loss_function, test_loader, verbose=0, return_loss=True) \n",
    "    \n",
    "    if verbose:\n",
    "        print(f\"Average Train MSE Loss: {train_loss[-1] : .10f}\")\n",
    "        print(f\"Average Test MSE Loss : {test_loss : .10f}\" )\n",
    "\n",
    "    return train_loss, test_loss                 # train loss is a list, test loss is a float\n",
    " "
   ]
  },
  {
   "cell_type": "code",
   "execution_count": 32,
   "id": "cde11128",
   "metadata": {},
   "outputs": [
    {
     "name": "stdout",
     "output_type": "stream",
     "text": [
      "\n",
      "Training on fold no. 1\n",
      "Loss has stopped decreasing after epoch 152 (average of 50 epochs).\n",
      "STOPPING EARLY.\n",
      "Average Train MSE Loss:  0.0001394783\n",
      "Average Test MSE Loss :  0.0032228815\n",
      "\n",
      "Training on fold no. 2\n",
      "Loss has stopped decreasing after epoch 179 (average of 50 epochs).\n",
      "STOPPING EARLY.\n",
      "Average Train MSE Loss:  0.0001291957\n",
      "Average Test MSE Loss :  0.0037405792\n",
      "\n",
      "Training on fold no. 3\n",
      "Loss has stopped decreasing after epoch 169 (average of 50 epochs).\n",
      "STOPPING EARLY.\n",
      "Average Train MSE Loss:  0.0001569484\n",
      "Average Test MSE Loss :  0.0030567419\n",
      "\n",
      "Training on fold no. 4\n",
      "Loss has stopped decreasing after epoch 164 (average of 50 epochs).\n",
      "STOPPING EARLY.\n",
      "Average Train MSE Loss:  0.0001339548\n",
      "Average Test MSE Loss :  0.0009278679\n",
      "\n",
      "Training on fold no. 5\n",
      "Loss has stopped decreasing after epoch 145 (average of 50 epochs).\n",
      "STOPPING EARLY.\n",
      "Average Train MSE Loss:  0.0001395873\n",
      "Average Test MSE Loss :  0.0016236231\n",
      "\n",
      "Training on fold no. 6\n",
      "Loss has stopped decreasing after epoch 129 (average of 50 epochs).\n",
      "STOPPING EARLY.\n",
      "Average Train MSE Loss:  0.0001837365\n",
      "Average Test MSE Loss :  0.0031865031\n",
      "\n",
      "Training on fold no. 7\n",
      "Loss has stopped decreasing after epoch 163 (average of 50 epochs).\n",
      "STOPPING EARLY.\n",
      "Average Train MSE Loss:  0.0002028137\n",
      "Average Test MSE Loss :  0.0041024383\n",
      "\n",
      "Training on fold no. 8\n",
      "Loss has stopped decreasing after epoch 159 (average of 50 epochs).\n",
      "STOPPING EARLY.\n",
      "Average Train MSE Loss:  0.0001743406\n",
      "Average Test MSE Loss :  0.0021123279\n",
      "\n",
      "Training on fold no. 9\n",
      "Loss has stopped decreasing after epoch 155 (average of 50 epochs).\n",
      "STOPPING EARLY.\n",
      "Average Train MSE Loss:  0.0001585881\n",
      "Average Test MSE Loss :  0.0010134519\n",
      "\n",
      "Training on fold no. 10\n",
      "Loss has stopped decreasing after epoch 173 (average of 50 epochs).\n",
      "STOPPING EARLY.\n",
      "Average Train MSE Loss:  0.0001899113\n",
      "Average Test MSE Loss :  0.0011044368\n",
      "\n",
      "Train losses: [0.00013948 0.0001292  0.00015695 0.00013395 0.00013959 0.00018374\n",
      " 0.00020281 0.00017434 0.00015859 0.00018991]\n",
      "\n",
      "Test losses: [0.00322288 0.00374058 0.00305674 0.00092787 0.00162362 0.0031865\n",
      " 0.00410244 0.00211233 0.00101345 0.00110444]\n",
      "\n",
      "Avg train loss over all folds: 0.00016\n",
      "Avg total train loss over all folds: 0.11935\n",
      "\n",
      "Avg test loss over all folds: 0.00241\n",
      "Avg total test loss over all folds: 0.19754\n"
     ]
    },
    {
     "data": {
      "image/png": "[encoded data removed]",
      "text/plain": [
       "<Figure size 648x432 with 1 Axes>"
      ]
     },
     "metadata": {
      "needs_background": "light"
     },
     "output_type": "display_data"
    }
   ],
   "source": [
    "n_splits = 10\n",
    "kf = KFold(n_splits)\n",
    "\n",
    "train_losses = np.zeros(n_splits)\n",
    "test_losses = np.zeros(n_splits)\n",
    "train_losses_plot = []                           # for plotting loss curves\n",
    "for i, (train_index, test_index) in enumerate(kf.split(X)):\n",
    "    \n",
    "    X_train, X_test = X[train_index], X[test_index]\n",
    "    y_train, y_test = y[train_index], y[test_index]\n",
    "    \n",
    "    print(\"\\nTraining on fold no. %d\" %(i+1))\n",
    "    epoch_wise_train_losses, test_losses[i] = pipeline(X_train, X_test, y_train, y_test, verbose=1)\n",
    "    train_losses[i] = epoch_wise_train_losses[-1]\n",
    "    train_losses_plot.append(epoch_wise_train_losses)\n",
    "    \n",
    "print(\"\\nTrain losses:\", train_losses)\n",
    "print(\"\\nTest losses:\", test_losses)\n",
    "\n",
    "avg_train_loss_k_folds = train_losses.mean() \n",
    "avg_test_loss_k_folds = test_losses.mean() \n",
    "print(f\"\\nAvg train loss over all folds: {avg_train_loss_k_folds :.5f}\")\n",
    "print(f\"Avg total train loss over all folds: {len(X_train) * avg_train_loss_k_folds :.5f}\")\n",
    "print(f\"\\nAvg test loss over all folds: {avg_test_loss_k_folds :.5f}\")\n",
    "print(f\"Avg total test loss over all folds: {len(X_test) * avg_test_loss_k_folds :.5f}\")\n",
    "\n",
    "plt.figure(figsize=(9,6))\n",
    "for losses in train_losses_plot:\n",
    "    plt.plot(losses)\n",
    "plt.grid()\n",
    "plt.xlabel(\"Epoch\", fontsize=20)\n",
    "plt.ylabel(\"Loss\", fontsize=20)\n",
    "plt.title(f\"Loss curves for {n_splits} folds\", fontsize=20)\n",
    "plt.show()"
   ]
  }
 ],
 "metadata": {
  "kernelspec": {
   "display_name": "Python 3 (ipykernel)",
   "language": "python",
   "name": "python3"
  },
  "language_info": {
   "codemirror_mode": {
    "name": "ipython",
    "version": 3
   },
   "file_extension": ".py",
   "mimetype": "text/x-python",
   "name": "python",
   "nbconvert_exporter": "python",
   "pygments_lexer": "ipython3",
   "version": "3.9.12"
  }
 },
 "nbformat": 4,
 "nbformat_minor": 5
}
