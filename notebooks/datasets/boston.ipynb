{
 "cells": [
  {
   "cell_type": "code",
   "execution_count": 1,
   "id": "3eff9cfd",
   "metadata": {},
   "outputs": [],
   "source": [
    "import numpy as np\n",
    "import numpy.random as npr\n",
    "import pandas as pd\n",
    "import matplotlib.pyplot as plt\n",
    "import torch\n",
    "import torch.nn as nn\n",
    "import torch.optim as optim\n",
    "from sklearn.model_selection import train_test_split\n",
    "from sklearn.model_selection import KFold\n",
    "from sklearn.preprocessing import MinMaxScaler\n",
    "\n",
    "from src.utils import util, data_loaders\n",
    "from src.utils.domain_split import hyperplane_split\n",
    "from src.model import MLP\n",
    "from src.train_test import fit_regr, test_regr\n",
    "\n",
    "# seed = 1\n",
    "seed = npr.randint(10000)\n",
    "seed = 4963\n",
    "np.random.seed(seed)\n",
    "torch.manual_seed(seed)\n",
    "\n",
    "device = torch.device('cuda' if torch.cuda.is_available() else 'cpu')"
   ]
  },
  {
   "cell_type": "code",
   "execution_count": 2,
   "id": "0821d932",
   "metadata": {},
   "outputs": [
    {
     "data": {
      "text/html": [
       "<div>\n",
       "<style scoped>\n",
       "    .dataframe tbody tr th:only-of-type {\n",
       "        vertical-align: middle;\n",
       "    }\n",
       "\n",
       "    .dataframe tbody tr th {\n",
       "        vertical-align: top;\n",
       "    }\n",
       "\n",
       "    .dataframe thead th {\n",
       "        text-align: right;\n",
       "    }\n",
       "</style>\n",
       "<table border=\"1\" class=\"dataframe\">\n",
       "  <thead>\n",
       "    <tr style=\"text-align: right;\">\n",
       "      <th></th>\n",
       "      <th>INDUS</th>\n",
       "      <th>NOX</th>\n",
       "      <th>RM</th>\n",
       "      <th>AGE</th>\n",
       "      <th>DIS</th>\n",
       "      <th>TAX</th>\n",
       "      <th>PTRATIO</th>\n",
       "      <th>LSTAT</th>\n",
       "      <th>MEDV</th>\n",
       "    </tr>\n",
       "  </thead>\n",
       "  <tbody>\n",
       "    <tr>\n",
       "      <th>0</th>\n",
       "      <td>2.31</td>\n",
       "      <td>0.538</td>\n",
       "      <td>6.575</td>\n",
       "      <td>65.2</td>\n",
       "      <td>4.0900</td>\n",
       "      <td>296.0</td>\n",
       "      <td>15.3</td>\n",
       "      <td>4.98</td>\n",
       "      <td>24.0</td>\n",
       "    </tr>\n",
       "    <tr>\n",
       "      <th>1</th>\n",
       "      <td>7.07</td>\n",
       "      <td>0.469</td>\n",
       "      <td>6.421</td>\n",
       "      <td>78.9</td>\n",
       "      <td>4.9671</td>\n",
       "      <td>242.0</td>\n",
       "      <td>17.8</td>\n",
       "      <td>9.14</td>\n",
       "      <td>21.6</td>\n",
       "    </tr>\n",
       "    <tr>\n",
       "      <th>2</th>\n",
       "      <td>7.07</td>\n",
       "      <td>0.469</td>\n",
       "      <td>7.185</td>\n",
       "      <td>61.1</td>\n",
       "      <td>4.9671</td>\n",
       "      <td>242.0</td>\n",
       "      <td>17.8</td>\n",
       "      <td>4.03</td>\n",
       "      <td>34.7</td>\n",
       "    </tr>\n",
       "    <tr>\n",
       "      <th>3</th>\n",
       "      <td>2.18</td>\n",
       "      <td>0.458</td>\n",
       "      <td>6.998</td>\n",
       "      <td>45.8</td>\n",
       "      <td>6.0622</td>\n",
       "      <td>222.0</td>\n",
       "      <td>18.7</td>\n",
       "      <td>2.94</td>\n",
       "      <td>33.4</td>\n",
       "    </tr>\n",
       "    <tr>\n",
       "      <th>4</th>\n",
       "      <td>2.18</td>\n",
       "      <td>0.458</td>\n",
       "      <td>7.147</td>\n",
       "      <td>54.2</td>\n",
       "      <td>6.0622</td>\n",
       "      <td>222.0</td>\n",
       "      <td>18.7</td>\n",
       "      <td>5.33</td>\n",
       "      <td>36.2</td>\n",
       "    </tr>\n",
       "  </tbody>\n",
       "</table>\n",
       "</div>"
      ],
      "text/plain": [
       "   INDUS    NOX     RM   AGE     DIS    TAX  PTRATIO  LSTAT  MEDV\n",
       "0   2.31  0.538  6.575  65.2  4.0900  296.0     15.3   4.98  24.0\n",
       "1   7.07  0.469  6.421  78.9  4.9671  242.0     17.8   9.14  21.6\n",
       "2   7.07  0.469  7.185  61.1  4.9671  242.0     17.8   4.03  34.7\n",
       "3   2.18  0.458  6.998  45.8  6.0622  222.0     18.7   2.94  33.4\n",
       "4   2.18  0.458  7.147  54.2  6.0622  222.0     18.7   5.33  36.2"
      ]
     },
     "execution_count": 2,
     "metadata": {},
     "output_type": "execute_result"
    }
   ],
   "source": [
    "column_names = ['CRIM', 'ZN', 'INDUS', 'CHAS', 'NOX', 'RM', 'AGE', 'DIS', 'RAD', 'TAX', 'PTRATIO', 'B', 'LSTAT', 'MEDV']\n",
    "df = pd.read_csv('../../data/regression/boston.csv', header=None, delimiter=r\"\\s+\", names=column_names)\n",
    "df = df.drop(columns=['CRIM', 'ZN', 'CHAS', 'RAD', 'B'])\n",
    "df.head()"
   ]
  },
  {
   "cell_type": "code",
   "execution_count": 3,
   "id": "8fc90301",
   "metadata": {},
   "outputs": [
    {
     "name": "stdout",
     "output_type": "stream",
     "text": [
      "Found random direction n = [ 0.21437113 -0.59235263  0.33281996  0.13095121 -0.11053209  0.13295995\n",
      "  0.54390077 -0.2203249  -0.3177723 ]\n",
      "Found split with ratio r = 0.19960474308300397\n"
     ]
    },
    {
     "data": {
      "text/html": [
       "<div>\n",
       "<style scoped>\n",
       "    .dataframe tbody tr th:only-of-type {\n",
       "        vertical-align: middle;\n",
       "    }\n",
       "\n",
       "    .dataframe tbody tr th {\n",
       "        vertical-align: top;\n",
       "    }\n",
       "\n",
       "    .dataframe thead th {\n",
       "        text-align: right;\n",
       "    }\n",
       "</style>\n",
       "<table border=\"1\" class=\"dataframe\">\n",
       "  <thead>\n",
       "    <tr style=\"text-align: right;\">\n",
       "      <th></th>\n",
       "      <th>INDUS</th>\n",
       "      <th>NOX</th>\n",
       "      <th>RM</th>\n",
       "      <th>AGE</th>\n",
       "      <th>DIS</th>\n",
       "      <th>TAX</th>\n",
       "      <th>PTRATIO</th>\n",
       "      <th>LSTAT</th>\n",
       "      <th>MEDV</th>\n",
       "    </tr>\n",
       "  </thead>\n",
       "  <tbody>\n",
       "    <tr>\n",
       "      <th>1</th>\n",
       "      <td>7.07</td>\n",
       "      <td>0.469</td>\n",
       "      <td>6.421</td>\n",
       "      <td>78.9</td>\n",
       "      <td>4.9671</td>\n",
       "      <td>242.0</td>\n",
       "      <td>17.8</td>\n",
       "      <td>9.14</td>\n",
       "      <td>21.6</td>\n",
       "    </tr>\n",
       "    <tr>\n",
       "      <th>2</th>\n",
       "      <td>7.07</td>\n",
       "      <td>0.469</td>\n",
       "      <td>7.185</td>\n",
       "      <td>61.1</td>\n",
       "      <td>4.9671</td>\n",
       "      <td>242.0</td>\n",
       "      <td>17.8</td>\n",
       "      <td>4.03</td>\n",
       "      <td>34.7</td>\n",
       "    </tr>\n",
       "    <tr>\n",
       "      <th>3</th>\n",
       "      <td>2.18</td>\n",
       "      <td>0.458</td>\n",
       "      <td>6.998</td>\n",
       "      <td>45.8</td>\n",
       "      <td>6.0622</td>\n",
       "      <td>222.0</td>\n",
       "      <td>18.7</td>\n",
       "      <td>2.94</td>\n",
       "      <td>33.4</td>\n",
       "    </tr>\n",
       "    <tr>\n",
       "      <th>4</th>\n",
       "      <td>2.18</td>\n",
       "      <td>0.458</td>\n",
       "      <td>7.147</td>\n",
       "      <td>54.2</td>\n",
       "      <td>6.0622</td>\n",
       "      <td>222.0</td>\n",
       "      <td>18.7</td>\n",
       "      <td>5.33</td>\n",
       "      <td>36.2</td>\n",
       "    </tr>\n",
       "    <tr>\n",
       "      <th>5</th>\n",
       "      <td>2.18</td>\n",
       "      <td>0.458</td>\n",
       "      <td>6.430</td>\n",
       "      <td>58.7</td>\n",
       "      <td>6.0622</td>\n",
       "      <td>222.0</td>\n",
       "      <td>18.7</td>\n",
       "      <td>5.21</td>\n",
       "      <td>28.7</td>\n",
       "    </tr>\n",
       "  </tbody>\n",
       "</table>\n",
       "</div>"
      ],
      "text/plain": [
       "   INDUS    NOX     RM   AGE     DIS    TAX  PTRATIO  LSTAT  MEDV\n",
       "1   7.07  0.469  6.421  78.9  4.9671  242.0     17.8   9.14  21.6\n",
       "2   7.07  0.469  7.185  61.1  4.9671  242.0     17.8   4.03  34.7\n",
       "3   2.18  0.458  6.998  45.8  6.0622  222.0     18.7   2.94  33.4\n",
       "4   2.18  0.458  7.147  54.2  6.0622  222.0     18.7   5.33  36.2\n",
       "5   2.18  0.458  6.430  58.7  6.0622  222.0     18.7   5.21  28.7"
      ]
     },
     "execution_count": 3,
     "metadata": {},
     "output_type": "execute_result"
    }
   ],
   "source": [
    "D = df.values\n",
    "dom_idx, OOD_idx = hyperplane_split(D, OOD_size=0.2, verbose=1, seed=seed)\n",
    "df[dom_idx].head()"
   ]
  },
  {
   "cell_type": "code",
   "execution_count": 4,
   "id": "86917a3b",
   "metadata": {},
   "outputs": [],
   "source": [
    "# Minmax scaling for better network performace\n",
    "scaler = MinMaxScaler()\n",
    "D = df[dom_idx].values\n",
    "D = scaler.fit_transform(D)\n",
    "\n",
    "# Split in-domain data to data and labels\n",
    "X, y = D[:,:-1], D[:,-1]\n",
    "\n",
    "# Split to train/test\n",
    "X_train, X_test, y_train, y_test = train_test_split(X, y, test_size=0.2, random_state=seed)\n",
    "\n",
    "# Separate OOD data\n",
    "OOD = df[OOD_idx].values\n",
    "OOD = scaler.transform(OOD)         # need to also transform it to be compatible with the NN.\n",
    "X_OOD, y_OOD = OOD[:,:-1], OOD[:,-1]"
   ]
  },
  {
   "cell_type": "code",
   "execution_count": 5,
   "id": "78a2b225",
   "metadata": {},
   "outputs": [],
   "source": [
    "# Hyperparameters\n",
    "n_features = X_train.shape[1]\n",
    "n_classes = 1\n",
    "n_hidden_1 = 100\n",
    "n_hidden_2 = 30\n",
    "network = [n_hidden_1, n_hidden_2]\n",
    "activation = 'abs'\n",
    "n_epochs = 10000\n",
    "learning_rate = 0.0001\n",
    "weight_decay = 1e-5\n",
    "batch_size = 64"
   ]
  },
  {
   "cell_type": "code",
   "execution_count": 6,
   "id": "5064f2f1",
   "metadata": {},
   "outputs": [],
   "source": [
    "# Transformation required for regression problem\n",
    "y_train = y_train.reshape(-1, 1)\n",
    "y_test = y_test.reshape(-1, 1)\n",
    "y_OOD = y_OOD.reshape(-1, 1)\n",
    "\n",
    "# Tensor datasets\n",
    "train_dataset = data_loaders.create_torch_dataset(X_train, y_train, to_LongTensor=False)\n",
    "test_dataset = data_loaders.create_torch_dataset(X_test, y_test, to_LongTensor=False)\n",
    "OOD_dataset = data_loaders.create_torch_dataset(X_OOD, y_OOD, to_LongTensor=False)\n",
    "\n",
    "# Data loaders on gpu\n",
    "train_loader = data_loaders.create_loader(train_dataset, batch_size, device)\n",
    "test_loader = data_loaders.create_loader(test_dataset, batch_size, device)\n",
    "OOD_loader = data_loaders.create_loader(OOD_dataset, batch_size, device)"
   ]
  },
  {
   "cell_type": "code",
   "execution_count": 16,
   "id": "63431bff",
   "metadata": {},
   "outputs": [],
   "source": [
    "boston_model = MLP(n_features, 1, [100, 30], 'relu', batch_norm=False).to(device)\n",
    "loss_function = nn.MSELoss()\n",
    "optimizer = optim.Adam(boston_model.parameters(), lr=learning_rate, weight_decay=weight_decay)"
   ]
  },
  {
   "cell_type": "code",
   "execution_count": 17,
   "id": "e8563f7f",
   "metadata": {},
   "outputs": [
    {
     "name": "stdout",
     "output_type": "stream",
     "text": [
      "Loss on dev set has stopped decreasing after epoch 1845 (average of 50 epochs).\n",
      "STOPPING EARLY.\n",
      "Average Train MSE: 0.00004\n",
      "Total Train MSE: 0.01403\n"
     ]
    }
   ],
   "source": [
    "train_losses = fit_regr(boston_model, loss_function, optimizer, train_loader, n_epochs=n_epochs,\n",
    "                        verbose=1, early_stopping='dev', return_losses=True)\n",
    "avg_train_loss = train_losses[-1]\n",
    "\n",
    "print(f\"Average Train MSE: {avg_train_loss:.5f}\")\n",
    "print(f\"Total Train MSE: {len(X_train) * avg_train_loss:.5f}\")"
   ]
  },
  {
   "cell_type": "code",
   "execution_count": 18,
   "id": "b6f0e7f3",
   "metadata": {},
   "outputs": [
    {
     "data": {
      "image/png": "[encoded data removed]",
      "text/plain": [
       "<Figure size 648x432 with 1 Axes>"
      ]
     },
     "metadata": {
      "needs_background": "light"
     },
     "output_type": "display_data"
    }
   ],
   "source": [
    "plt.figure(figsize=(9,6))\n",
    "plt.plot(train_losses)\n",
    "plt.grid()\n",
    "plt.xlabel(\"Epoch\", fontsize=20)\n",
    "plt.ylabel(\"Loss\", fontsize=20)\n",
    "plt.title(\"MSE loss\", fontsize=20)\n",
    "plt.show()"
   ]
  },
  {
   "cell_type": "code",
   "execution_count": 19,
   "id": "3a2d0481",
   "metadata": {},
   "outputs": [
    {
     "name": "stdout",
     "output_type": "stream",
     "text": [
      "Average test MSE = 0.00007\n",
      "Total test MSE: 0.00351\n"
     ]
    }
   ],
   "source": [
    "avg_test_loss = test_regr(boston_model, loss_function, test_loader, return_loss=True)\n",
    "\n",
    "print(f\"Average test MSE = {avg_test_loss:.5f}\")   \n",
    "print(f\"Total test MSE: {len(X_test) * avg_train_loss:.5f}\")"
   ]
  },
  {
   "cell_type": "code",
   "execution_count": 20,
   "id": "59cbdb9a",
   "metadata": {},
   "outputs": [
    {
     "name": "stdout",
     "output_type": "stream",
     "text": [
      "Average OOD loss = 0.0008401566\n",
      "Average OOD loss to train loss ratio:  19.401\n",
      "Average OOD loss to test loss ratio:  12.574\n"
     ]
    }
   ],
   "source": [
    "avg_OOD_loss = test_regr(boston_model, loss_function, OOD_loader, return_loss=True)\n",
    "\n",
    "print(f\"Average OOD loss = {avg_OOD_loss:.10f}\")  \n",
    "print(f\"Average OOD loss to train loss ratio: {avg_OOD_loss / avg_train_loss : .3f}\")\n",
    "print(f\"Average OOD loss to test loss ratio: {avg_OOD_loss / avg_test_loss : .3f}\")"
   ]
  },
  {
   "cell_type": "markdown",
   "id": "b179767e",
   "metadata": {},
   "source": [
    "### Abs\n"
   ]
  },
  {
   "cell_type": "code",
   "execution_count": 7,
   "id": "57da0809",
   "metadata": {},
   "outputs": [
    {
     "name": "stdout",
     "output_type": "stream",
     "text": [
      "Average Train MSE: 0.00003\n"
     ]
    },
    {
     "data": {
      "image/png": "[encoded data removed]",
      "text/plain": [
       "<Figure size 648x432 with 1 Axes>"
      ]
     },
     "metadata": {
      "needs_background": "light"
     },
     "output_type": "display_data"
    },
    {
     "name": "stdout",
     "output_type": "stream",
     "text": [
      "Average test MSE = 0.00075\n",
      "Average OOD loss = 0.0049739425\n",
      "Average OOD loss to train loss ratio:  173.260\n",
      "Average OOD loss to test loss ratio:  6.624\n"
     ]
    }
   ],
   "source": [
    "model = MLP(n_features, 1, network, activation, batch_norm=True).to(device)\n",
    "loss_function = nn.MSELoss()\n",
    "optimizer = optim.Adam(model.parameters(), lr=learning_rate, weight_decay=weight_decay)\n",
    "\n",
    "# Train\n",
    "train_losses = fit_regr(model, loss_function, optimizer, train_loader, \n",
    "    n_epochs=n_epochs, verbose=0, early_stopping='dev', return_losses=True)\n",
    "avg_train_loss = train_losses[-1]\n",
    "\n",
    "print(f\"Average Train MSE: {avg_train_loss:.5f}\")  \n",
    "\n",
    "plt.figure(figsize=(9,6))\n",
    "plt.plot(train_losses)\n",
    "plt.grid()\n",
    "plt.xlabel(\"Epoch\", fontsize=20)\n",
    "plt.ylabel(\"Loss\", fontsize=20)\n",
    "plt.title(\"MSE loss\", fontsize=20)\n",
    "plt.show()\n",
    "\n",
    "avg_test_loss = test_regr(model, loss_function, test_loader, return_loss=True)\n",
    "\n",
    "print(f\"Average test MSE = {avg_test_loss:.5f}\")   \n",
    "\n",
    "avg_OOD_loss = test_regr(model, loss_function, OOD_loader, return_loss=True)\n",
    "\n",
    "print(f\"Average OOD loss = {avg_OOD_loss:.10f}\")  \n",
    "print(f\"Average OOD loss to train loss ratio: {avg_OOD_loss / avg_train_loss : .3f}\")\n",
    "print(f\"Average OOD loss to test loss ratio: {avg_OOD_loss / avg_test_loss : .3f}\")"
   ]
  },
  {
   "cell_type": "code",
   "execution_count": 8,
   "id": "a74f8200",
   "metadata": {},
   "outputs": [],
   "source": [
    "def pipeline(X_train, X_test, y_train, y_test, verbose=0):\n",
    "    \n",
    "    # Transformation required for regression problem\n",
    "    y_train = y_train.reshape(-1, 1)\n",
    "    y_test = y_test.reshape(-1, 1)\n",
    "\n",
    "    # Tensor datasets\n",
    "    train_dataset = data_loaders.create_torch_dataset(X_train, y_train, to_LongTensor=False)\n",
    "    test_dataset = data_loaders.create_torch_dataset(X_test, y_test, to_LongTensor=False)\n",
    "\n",
    "    # Data loaders on gpu\n",
    "    train_loader = data_loaders.create_loader(train_dataset, batch_size, device)\n",
    "    test_loader = data_loaders.create_loader(test_dataset, batch_size, device)\n",
    "\n",
    "    # Model setup\n",
    "    boston_model = MLP(n_features, 1, network, activation).to(device)\n",
    "\n",
    "    loss_function = nn.MSELoss()\n",
    "    optimizer = optim.Adam(boston_model.parameters(), lr=learning_rate, weight_decay=weight_decay)\n",
    "\n",
    "    # fit function optionally returns a list with the epoch-wise losses\n",
    "    train_loss = fit_regr(boston_model, loss_function, optimizer, train_loader, \n",
    "                 n_epochs=n_epochs, verbose=1, early_stopping=True, return_losses=True) \n",
    "    test_loss = test_regr(boston_model, loss_function, test_loader, verbose=0, return_loss=True) \n",
    "    \n",
    "    if verbose:\n",
    "        print(f\"Average Train MSE Loss: {train_loss[-1] : .10f}\")\n",
    "        print(f\"Average Test MSE Loss : {test_loss : .10f}\" )\n",
    "\n",
    "    return train_loss, test_loss                 # train loss is a list, test loss is a float\n",
    " "
   ]
  },
  {
   "cell_type": "code",
   "execution_count": 9,
   "id": "5c24c429",
   "metadata": {},
   "outputs": [
    {
     "name": "stdout",
     "output_type": "stream",
     "text": [
      "\n",
      "Training on fold no. 1\n",
      "Loss has stopped decreasing after epoch 803 (average of 50 epochs).\n",
      "STOPPING EARLY.\n",
      "Average Train MSE Loss:  0.0001710909\n",
      "Average Test MSE Loss :  0.0032630003\n",
      "\n",
      "Training on fold no. 2\n",
      "Loss has stopped decreasing after epoch 536 (average of 50 epochs).\n",
      "STOPPING EARLY.\n",
      "Average Train MSE Loss:  0.0001654271\n",
      "Average Test MSE Loss :  0.0019892431\n",
      "\n",
      "Training on fold no. 3\n",
      "Loss has stopped decreasing after epoch 612 (average of 50 epochs).\n",
      "STOPPING EARLY.\n",
      "Average Train MSE Loss:  0.0001871663\n",
      "Average Test MSE Loss :  0.0050166740\n",
      "\n",
      "Training on fold no. 4\n",
      "Loss has stopped decreasing after epoch 566 (average of 50 epochs).\n",
      "STOPPING EARLY.\n",
      "Average Train MSE Loss:  0.0001269678\n",
      "Average Test MSE Loss :  0.0022911488\n",
      "\n",
      "Training on fold no. 5\n",
      "Loss has stopped decreasing after epoch 639 (average of 50 epochs).\n",
      "STOPPING EARLY.\n",
      "Average Train MSE Loss:  0.0001620887\n",
      "Average Test MSE Loss :  0.0020479491\n",
      "\n",
      "Training on fold no. 6\n",
      "Loss has stopped decreasing after epoch 632 (average of 50 epochs).\n",
      "STOPPING EARLY.\n",
      "Average Train MSE Loss:  0.0001835822\n",
      "Average Test MSE Loss :  0.0029046640\n",
      "\n",
      "Training on fold no. 7\n",
      "Loss has stopped decreasing after epoch 590 (average of 50 epochs).\n",
      "STOPPING EARLY.\n",
      "Average Train MSE Loss:  0.0001858235\n",
      "Average Test MSE Loss :  0.0021469159\n",
      "\n",
      "Training on fold no. 8\n",
      "Loss has stopped decreasing after epoch 701 (average of 50 epochs).\n",
      "STOPPING EARLY.\n",
      "Average Train MSE Loss:  0.0001132462\n",
      "Average Test MSE Loss :  0.0053546675\n",
      "\n",
      "Training on fold no. 9\n",
      "Loss has stopped decreasing after epoch 498 (average of 50 epochs).\n",
      "STOPPING EARLY.\n",
      "Average Train MSE Loss:  0.0001301956\n",
      "Average Test MSE Loss :  0.0024211068\n",
      "\n",
      "Training on fold no. 10\n",
      "Loss has stopped decreasing after epoch 676 (average of 50 epochs).\n",
      "STOPPING EARLY.\n",
      "Average Train MSE Loss:  0.0001928393\n",
      "Average Test MSE Loss :  0.0079077162\n",
      "\n",
      "Train losses: [0.00017109 0.00016543 0.00018717 0.00012697 0.00016209 0.00018358\n",
      " 0.00018582 0.00011325 0.0001302  0.00019284]\n",
      "\n",
      "Test losses: [0.003263   0.00198924 0.00501667 0.00229115 0.00204795 0.00290466\n",
      " 0.00214692 0.00535467 0.00242111 0.00790772]\n",
      "\n",
      "Avg train loss over all folds: 0.00016\n",
      "Avg total train loss over all folds: 0.05907\n",
      "\n",
      "Avg test loss over all folds: 0.00353\n",
      "Avg total test loss over all folds: 0.14137\n"
     ]
    },
    {
     "data": {
      "image/png": "[encoded data removed]",
      "text/plain": [
       "<Figure size 648x432 with 1 Axes>"
      ]
     },
     "metadata": {
      "needs_background": "light"
     },
     "output_type": "display_data"
    }
   ],
   "source": [
    "n_splits = 10\n",
    "kf = KFold(n_splits)\n",
    "\n",
    "train_losses = np.zeros(n_splits)\n",
    "test_losses = np.zeros(n_splits)\n",
    "train_losses_plot = []                           # for plotting loss curves\n",
    "for i, (train_index, test_index) in enumerate(kf.split(X)):\n",
    "    \n",
    "    X_train, X_test = X[train_index], X[test_index]\n",
    "    y_train, y_test = y[train_index], y[test_index]\n",
    "    \n",
    "    print(\"\\nTraining on fold no. %d\" %(i+1))\n",
    "    epoch_wise_train_losses, test_losses[i] = pipeline(X_train, X_test, y_train, y_test, verbose=1)\n",
    "    train_losses[i] = epoch_wise_train_losses[-1]\n",
    "    train_losses_plot.append(epoch_wise_train_losses)\n",
    "    \n",
    "print(\"\\nTrain losses:\", train_losses)\n",
    "print(\"\\nTest losses:\", test_losses)\n",
    "\n",
    "avg_train_loss_k_folds = train_losses.mean() \n",
    "avg_test_loss_k_folds = test_losses.mean() \n",
    "print(f\"\\nAvg train loss over all folds: {avg_train_loss_k_folds :.5f}\")\n",
    "print(f\"Avg total train loss over all folds: {len(X_train) * avg_train_loss_k_folds :.5f}\")\n",
    "print(f\"\\nAvg test loss over all folds: {avg_test_loss_k_folds :.5f}\")\n",
    "print(f\"Avg total test loss over all folds: {len(X_test) * avg_test_loss_k_folds :.5f}\")\n",
    "\n",
    "plt.figure(figsize=(9,6))\n",
    "for losses in train_losses_plot:\n",
    "    plt.plot(losses)\n",
    "plt.grid()\n",
    "plt.xlabel(\"Epoch\", fontsize=20)\n",
    "plt.ylabel(\"Loss\", fontsize=20)\n",
    "plt.title(f\"Loss curves for {n_splits} folds\", fontsize=20)\n",
    "plt.show()"
   ]
  },
  {
   "cell_type": "code",
   "execution_count": null,
   "id": "941ce8ec",
   "metadata": {},
   "outputs": [],
   "source": []
  },
  {
   "cell_type": "code",
   "execution_count": null,
   "id": "83c81153",
   "metadata": {},
   "outputs": [],
   "source": []
  },
  {
   "cell_type": "code",
   "execution_count": null,
   "id": "7b52cd67",
   "metadata": {},
   "outputs": [],
   "source": []
  },
  {
   "cell_type": "code",
   "execution_count": null,
   "id": "516daf47",
   "metadata": {},
   "outputs": [],
   "source": []
  },
  {
   "cell_type": "code",
   "execution_count": null,
   "id": "8d9901ed",
   "metadata": {},
   "outputs": [],
   "source": []
  },
  {
   "cell_type": "code",
   "execution_count": null,
   "id": "cae6e4f7",
   "metadata": {},
   "outputs": [],
   "source": []
  },
  {
   "cell_type": "code",
   "execution_count": null,
   "id": "f220d637",
   "metadata": {},
   "outputs": [],
   "source": []
  },
  {
   "cell_type": "code",
   "execution_count": null,
   "id": "605800ea",
   "metadata": {},
   "outputs": [],
   "source": []
  },
  {
   "cell_type": "code",
   "execution_count": null,
   "id": "8a626e6a",
   "metadata": {},
   "outputs": [],
   "source": []
  },
  {
   "cell_type": "code",
   "execution_count": null,
   "id": "6fce939f",
   "metadata": {},
   "outputs": [],
   "source": []
  },
  {
   "cell_type": "code",
   "execution_count": null,
   "id": "476d24ef",
   "metadata": {},
   "outputs": [],
   "source": []
  },
  {
   "cell_type": "code",
   "execution_count": null,
   "id": "db02a16d",
   "metadata": {},
   "outputs": [],
   "source": []
  },
  {
   "cell_type": "code",
   "execution_count": null,
   "id": "b7f033d8",
   "metadata": {},
   "outputs": [],
   "source": []
  },
  {
   "cell_type": "code",
   "execution_count": null,
   "id": "db8925fd",
   "metadata": {},
   "outputs": [],
   "source": []
  },
  {
   "cell_type": "code",
   "execution_count": null,
   "id": "35081cc1",
   "metadata": {},
   "outputs": [],
   "source": []
  },
  {
   "cell_type": "code",
   "execution_count": null,
   "id": "4d991ad6",
   "metadata": {},
   "outputs": [],
   "source": []
  }
 ],
 "metadata": {
  "kernelspec": {
   "display_name": "Python 3 (ipykernel)",
   "language": "python",
   "name": "python3"
  },
  "language_info": {
   "codemirror_mode": {
    "name": "ipython",
    "version": 3
   },
   "file_extension": ".py",
   "mimetype": "text/x-python",
   "name": "python",
   "nbconvert_exporter": "python",
   "pygments_lexer": "ipython3",
   "version": "3.9.12"
  }
 },
 "nbformat": 4,
 "nbformat_minor": 5
}
