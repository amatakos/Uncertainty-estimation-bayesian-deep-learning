{
 "cells": [
  {
   "cell_type": "code",
   "execution_count": 1,
   "id": "73f2f475",
   "metadata": {},
   "outputs": [],
   "source": [
    "import numpy as np\n",
    "import numpy.random as npr\n",
    "import pandas as pd\n",
    "import matplotlib.pyplot as plt\n",
    "import torch\n",
    "import torch.nn as nn\n",
    "import torch.optim as optim\n",
    "from sklearn.model_selection import train_test_split\n",
    "from sklearn.model_selection import KFold\n",
    "from sklearn.preprocessing import MinMaxScaler\n",
    "\n",
    "from src.utils import util, data_loaders\n",
    "from src.utils.domain_split import hyperplane_split\n",
    "from src.model import MLP\n",
    "from src.train_test import fit_regr, test_regr\n",
    "\n",
    "seed = npr.randint(10000)\n",
    "seed = 3838\n",
    "np.random.seed(seed)\n",
    "torch.manual_seed(seed)\n",
    "\n",
    "device = torch.device('cuda' if torch.cuda.is_available() else 'cpu')"
   ]
  },
  {
   "cell_type": "code",
   "execution_count": 2,
   "id": "7e55e202",
   "metadata": {},
   "outputs": [
    {
     "data": {
      "text/html": [
       "<div>\n",
       "<style scoped>\n",
       "    .dataframe tbody tr th:only-of-type {\n",
       "        vertical-align: middle;\n",
       "    }\n",
       "\n",
       "    .dataframe tbody tr th {\n",
       "        vertical-align: top;\n",
       "    }\n",
       "\n",
       "    .dataframe thead th {\n",
       "        text-align: right;\n",
       "    }\n",
       "</style>\n",
       "<table border=\"1\" class=\"dataframe\">\n",
       "  <thead>\n",
       "    <tr style=\"text-align: right;\">\n",
       "      <th></th>\n",
       "      <th>0</th>\n",
       "      <th>1</th>\n",
       "      <th>2</th>\n",
       "      <th>3</th>\n",
       "      <th>4</th>\n",
       "      <th>5</th>\n",
       "      <th>6</th>\n",
       "      <th>7</th>\n",
       "      <th>8</th>\n",
       "      <th>9</th>\n",
       "      <th>10</th>\n",
       "      <th>11</th>\n",
       "      <th>12</th>\n",
       "      <th>13</th>\n",
       "      <th>14</th>\n",
       "      <th>15</th>\n",
       "      <th>16</th>\n",
       "      <th>17</th>\n",
       "    </tr>\n",
       "  </thead>\n",
       "  <tbody>\n",
       "    <tr>\n",
       "      <th>0</th>\n",
       "      <td>1.138</td>\n",
       "      <td>3.0</td>\n",
       "      <td>289.964</td>\n",
       "      <td>1349.489</td>\n",
       "      <td>6677.380</td>\n",
       "      <td>7.584</td>\n",
       "      <td>7.584</td>\n",
       "      <td>464.006</td>\n",
       "      <td>288.0</td>\n",
       "      <td>550.563</td>\n",
       "      <td>1.096</td>\n",
       "      <td>0.998</td>\n",
       "      <td>5.947</td>\n",
       "      <td>1.019</td>\n",
       "      <td>7.137</td>\n",
       "      <td>0.082</td>\n",
       "      <td>0.95</td>\n",
       "      <td>0.975</td>\n",
       "    </tr>\n",
       "    <tr>\n",
       "      <th>1</th>\n",
       "      <td>2.088</td>\n",
       "      <td>6.0</td>\n",
       "      <td>6960.180</td>\n",
       "      <td>1376.166</td>\n",
       "      <td>6828.469</td>\n",
       "      <td>28.204</td>\n",
       "      <td>28.204</td>\n",
       "      <td>635.401</td>\n",
       "      <td>288.0</td>\n",
       "      <td>581.658</td>\n",
       "      <td>1.331</td>\n",
       "      <td>0.998</td>\n",
       "      <td>7.282</td>\n",
       "      <td>1.019</td>\n",
       "      <td>10.655</td>\n",
       "      <td>0.287</td>\n",
       "      <td>0.95</td>\n",
       "      <td>0.975</td>\n",
       "    </tr>\n",
       "    <tr>\n",
       "      <th>2</th>\n",
       "      <td>3.144</td>\n",
       "      <td>9.0</td>\n",
       "      <td>8379.229</td>\n",
       "      <td>1386.757</td>\n",
       "      <td>7111.811</td>\n",
       "      <td>60.358</td>\n",
       "      <td>60.358</td>\n",
       "      <td>606.002</td>\n",
       "      <td>288.0</td>\n",
       "      <td>587.587</td>\n",
       "      <td>1.389</td>\n",
       "      <td>0.998</td>\n",
       "      <td>7.574</td>\n",
       "      <td>1.020</td>\n",
       "      <td>13.086</td>\n",
       "      <td>0.259</td>\n",
       "      <td>0.95</td>\n",
       "      <td>0.975</td>\n",
       "    </tr>\n",
       "    <tr>\n",
       "      <th>3</th>\n",
       "      <td>4.161</td>\n",
       "      <td>12.0</td>\n",
       "      <td>14724.395</td>\n",
       "      <td>1547.465</td>\n",
       "      <td>7792.630</td>\n",
       "      <td>113.774</td>\n",
       "      <td>113.774</td>\n",
       "      <td>661.471</td>\n",
       "      <td>288.0</td>\n",
       "      <td>613.851</td>\n",
       "      <td>1.658</td>\n",
       "      <td>0.998</td>\n",
       "      <td>9.007</td>\n",
       "      <td>1.022</td>\n",
       "      <td>18.109</td>\n",
       "      <td>0.358</td>\n",
       "      <td>0.95</td>\n",
       "      <td>0.975</td>\n",
       "    </tr>\n",
       "    <tr>\n",
       "      <th>4</th>\n",
       "      <td>5.140</td>\n",
       "      <td>15.0</td>\n",
       "      <td>21636.432</td>\n",
       "      <td>1924.313</td>\n",
       "      <td>8494.777</td>\n",
       "      <td>175.306</td>\n",
       "      <td>175.306</td>\n",
       "      <td>731.494</td>\n",
       "      <td>288.0</td>\n",
       "      <td>645.642</td>\n",
       "      <td>2.078</td>\n",
       "      <td>0.998</td>\n",
       "      <td>11.197</td>\n",
       "      <td>1.026</td>\n",
       "      <td>26.373</td>\n",
       "      <td>0.522</td>\n",
       "      <td>0.95</td>\n",
       "      <td>0.975</td>\n",
       "    </tr>\n",
       "  </tbody>\n",
       "</table>\n",
       "</div>"
      ],
      "text/plain": [
       "       0     1          2         3         4        5        6        7  \\\n",
       "0  1.138   3.0    289.964  1349.489  6677.380    7.584    7.584  464.006   \n",
       "1  2.088   6.0   6960.180  1376.166  6828.469   28.204   28.204  635.401   \n",
       "2  3.144   9.0   8379.229  1386.757  7111.811   60.358   60.358  606.002   \n",
       "3  4.161  12.0  14724.395  1547.465  7792.630  113.774  113.774  661.471   \n",
       "4  5.140  15.0  21636.432  1924.313  8494.777  175.306  175.306  731.494   \n",
       "\n",
       "       8        9     10     11      12     13      14     15    16     17  \n",
       "0  288.0  550.563  1.096  0.998   5.947  1.019   7.137  0.082  0.95  0.975  \n",
       "1  288.0  581.658  1.331  0.998   7.282  1.019  10.655  0.287  0.95  0.975  \n",
       "2  288.0  587.587  1.389  0.998   7.574  1.020  13.086  0.259  0.95  0.975  \n",
       "3  288.0  613.851  1.658  0.998   9.007  1.022  18.109  0.358  0.95  0.975  \n",
       "4  288.0  645.642  2.078  0.998  11.197  1.026  26.373  0.522  0.95  0.975  "
      ]
     },
     "execution_count": 2,
     "metadata": {},
     "output_type": "execute_result"
    }
   ],
   "source": [
    "# df = pd.read_csv(\"../../data/regression/naval.txt\", delimiter=\"  \", header=None)\n",
    "# df.head()\n",
    "df = pd.read_csv(\"../../data/regression/naval.csv\", index_col=0)\n",
    "df.head()"
   ]
  },
  {
   "cell_type": "code",
   "execution_count": 3,
   "id": "50dafd4c",
   "metadata": {},
   "outputs": [
    {
     "name": "stdout",
     "output_type": "stream",
     "text": [
      "Found random direction n = [ 0.26962854 -0.13544917 -0.03843235  0.19826846 -0.02576374  0.10997481\n",
      " -0.14899074 -0.15526795  0.25011833 -0.02175058 -0.69558197  0.12784518\n",
      "  0.07634606 -0.25895559  0.19435762  0.23671701  0.25610534 -0.11663837]\n",
      "Found split with ratio r = 0.20085470085470086\n"
     ]
    }
   ],
   "source": [
    "D = df.values\n",
    "dom_idx, OOD_idx = hyperplane_split(D, OOD_size=0.2, verbose=1, seed=seed)\n",
    "\n",
    "# Minmax scaling for better network performace\n",
    "scaler = MinMaxScaler()\n",
    "D = df[dom_idx].values\n",
    "D = scaler.fit_transform(D)\n",
    "\n",
    "# Split in-domain data to data and labels\n",
    "X, y = D[:,:-2], D[:,-2:]\n",
    "\n",
    "# Split to train/test\n",
    "X_train, X_test, y_train, y_test = train_test_split(X, y, test_size=0.5, random_state=seed)\n",
    "\n",
    "# Separate OOD data\n",
    "OOD = df[OOD_idx].values\n",
    "OOD = scaler.transform(OOD)         # need to also transform it to be compatible with the NN.\n",
    "X_OOD, y_OOD = OOD[:,:-2], OOD[:,-2:]\n",
    "\n",
    "# Hyperparameters\n",
    "n_features = X_train.shape[1]\n",
    "n_classes = 2\n",
    "n_hidden_1 = 100\n",
    "n_hidden_2 = 30\n",
    "network = [n_hidden_1, n_hidden_2]\n",
    "activation = 'relu'\n",
    "n_epochs = 10000\n",
    "learning_rate = 0.0001\n",
    "weight_decay = 1e-5\n",
    "batch_size = 64\n",
    "\n",
    "# Tensor datasets\n",
    "train_dataset = data_loaders.create_torch_dataset(X_train, y_train, to_LongTensor=False)\n",
    "test_dataset = data_loaders.create_torch_dataset(X_test, y_test, to_LongTensor=False)\n",
    "OOD_dataset = data_loaders.create_torch_dataset(X_OOD, y_OOD, to_LongTensor=False)\n",
    "\n",
    "# Data loaders on gpu\n",
    "train_loader = data_loaders.create_loader(train_dataset, batch_size, device)\n",
    "test_loader = data_loaders.create_loader(test_dataset, batch_size, device)\n",
    "OOD_loader = data_loaders.create_loader(OOD_dataset, batch_size, device)"
   ]
  },
  {
   "cell_type": "markdown",
   "id": "e3a289e3",
   "metadata": {},
   "source": [
    "### Abs"
   ]
  },
  {
   "cell_type": "code",
   "execution_count": 8,
   "id": "36a96d13",
   "metadata": {},
   "outputs": [],
   "source": [
    "activation = 'abs'\n",
    "network = [32]"
   ]
  },
  {
   "cell_type": "code",
   "execution_count": 9,
   "id": "fc6f7d01",
   "metadata": {},
   "outputs": [
    {
     "name": "stdout",
     "output_type": "stream",
     "text": [
      "Loss on dev set has stopped decreasing after epoch 1378 (average of 50 epochs).\n",
      "STOPPING EARLY.\n",
      "Average Train MSE: 0.00013\n"
     ]
    },
    {
     "data": {
      "image/png": "[encoded data removed]",
      "text/plain": [
       "<Figure size 648x432 with 1 Axes>"
      ]
     },
     "metadata": {
      "needs_background": "light"
     },
     "output_type": "display_data"
    },
    {
     "name": "stdout",
     "output_type": "stream",
     "text": [
      "Average test MSE = 0.00015\n",
      "Average OOD loss = 0.0024843905\n",
      "Average OOD loss to train loss ratio:  19.348\n",
      "Average OOD loss to test loss ratio:  16.716\n"
     ]
    }
   ],
   "source": [
    "model = MLP(n_features, 2, network, activation, batch_norm=True).to(device)\n",
    "loss_function = nn.MSELoss()\n",
    "optimizer = optim.Adam(model.parameters(), lr=learning_rate, weight_decay=weight_decay)\n",
    "\n",
    "# Train\n",
    "train_losses = fit_regr(model, loss_function, optimizer, train_loader, \n",
    "    n_epochs=n_epochs, verbose=1, early_stopping='dev', return_losses=True)\n",
    "avg_train_loss = train_losses[-1]\n",
    "\n",
    "print(f\"Average Train MSE: {avg_train_loss:.5f}\")  \n",
    "\n",
    "plt.figure(figsize=(9,6))\n",
    "plt.plot(train_losses)\n",
    "plt.grid()\n",
    "plt.xlabel(\"Epoch\", fontsize=20)\n",
    "plt.ylabel(\"Loss\", fontsize=20)\n",
    "plt.title(\"MSE loss\", fontsize=20)\n",
    "plt.show()\n",
    "\n",
    "avg_test_loss = test_regr(model, loss_function, test_loader, return_loss=True)\n",
    "\n",
    "print(f\"Average test MSE = {avg_test_loss:.5f}\")   \n",
    "\n",
    "avg_OOD_loss = test_regr(model, loss_function, OOD_loader, return_loss=True)\n",
    "\n",
    "print(f\"Average OOD loss = {avg_OOD_loss:.10f}\")  \n",
    "print(f\"Average OOD loss to train loss ratio: {avg_OOD_loss / avg_train_loss : .3f}\")\n",
    "print(f\"Average OOD loss to test loss ratio: {avg_OOD_loss / avg_test_loss : .3f}\")"
   ]
  },
  {
   "cell_type": "markdown",
   "id": "858b32f3",
   "metadata": {},
   "source": [
    "### ReLU"
   ]
  },
  {
   "cell_type": "code",
   "execution_count": 5,
   "id": "82bda25d",
   "metadata": {},
   "outputs": [],
   "source": [
    "activation = 'relu'"
   ]
  },
  {
   "cell_type": "code",
   "execution_count": 4,
   "id": "238c2fee",
   "metadata": {},
   "outputs": [],
   "source": [
    "model = MLP(n_features, n_classes, network, activation, batch_norm=True).to(device)\n",
    "loss_function = nn.MSELoss()\n",
    "optimizer = optim.Adam(model.parameters(), lr=learning_rate, weight_decay=weight_decay)"
   ]
  },
  {
   "cell_type": "code",
   "execution_count": 5,
   "id": "e99fb962",
   "metadata": {},
   "outputs": [
    {
     "name": "stdout",
     "output_type": "stream",
     "text": [
      "Loss on dev set has stopped decreasing after epoch 315 (average of 50 epochs).\n",
      "STOPPING EARLY.\n",
      "Average Train MSE: 0.00005\n",
      "Total Train MSE: 0.22396\n"
     ]
    },
    {
     "data": {
      "image/png": "[encoded data removed]",
      "text/plain": [
       "<Figure size 648x432 with 1 Axes>"
      ]
     },
     "metadata": {
      "needs_background": "light"
     },
     "output_type": "display_data"
    }
   ],
   "source": [
    "train_losses = fit_regr(model, loss_function, optimizer, train_loader, n_epochs=n_epochs,\n",
    "                        verbose=1, early_stopping='dev', return_losses=True)\n",
    "avg_train_loss = train_losses[-1]\n",
    "\n",
    "print(f\"Average Train MSE: {avg_train_loss:.5f}\")\n",
    "print(f\"Total Train MSE: {len(X_train) * avg_train_loss:.5f}\")\n",
    "\n",
    "plt.figure(figsize=(9,6))\n",
    "plt.plot(train_losses)\n",
    "plt.grid()\n",
    "plt.xlabel(\"Epoch\", fontsize=20)\n",
    "plt.ylabel(\"Loss\", fontsize=20)\n",
    "plt.title(\"MSE loss\", fontsize=20)\n",
    "plt.show()"
   ]
  },
  {
   "cell_type": "code",
   "execution_count": 6,
   "id": "f44ce6c7",
   "metadata": {},
   "outputs": [
    {
     "name": "stdout",
     "output_type": "stream",
     "text": [
      "Average test MSE = 0.00007\n",
      "Total test MSE: 0.22401\n"
     ]
    }
   ],
   "source": [
    "avg_test_loss = test_regr(model, loss_function, test_loader, return_loss=True)\n",
    "\n",
    "print(f\"Average test MSE = {avg_test_loss:.5f}\")   \n",
    "print(f\"Total test MSE: {len(X_test) * avg_train_loss:.5f}\")"
   ]
  },
  {
   "cell_type": "code",
   "execution_count": 7,
   "id": "c16f128d",
   "metadata": {},
   "outputs": [
    {
     "name": "stdout",
     "output_type": "stream",
     "text": [
      "Average OOD loss = 0.0059553687\n",
      "Average OOD loss to train loss ratio:  126.787\n",
      "Average OOD loss to test loss ratio:  86.761\n"
     ]
    }
   ],
   "source": [
    "avg_OOD_loss = test_regr(model, loss_function, OOD_loader, return_loss=True)\n",
    "\n",
    "print(f\"Average OOD loss = {avg_OOD_loss:.10f}\")  \n",
    "print(f\"Average OOD loss to train loss ratio: {avg_OOD_loss / avg_train_loss : .3f}\")\n",
    "print(f\"Average OOD loss to test loss ratio: {avg_OOD_loss / avg_test_loss : .3f}\")"
   ]
  },
  {
   "cell_type": "code",
   "execution_count": 31,
   "id": "5b18e47c",
   "metadata": {},
   "outputs": [],
   "source": [
    "def pipeline(X_train, X_test, y_train, y_test, verbose=0):\n",
    "    \n",
    "    # Transformation required for regression problem\n",
    "    y_train = y_train.reshape(-1, 1)\n",
    "    y_test = y_test.reshape(-1, 1)\n",
    "\n",
    "    # Tensor datasets\n",
    "    train_dataset = data_loaders.create_torch_dataset(X_train, y_train, to_LongTensor=False)\n",
    "    test_dataset = data_loaders.create_torch_dataset(X_test, y_test, to_LongTensor=False)\n",
    "\n",
    "    # Data loaders on gpu\n",
    "    train_loader = data_loaders.create_loader(train_dataset, batch_size, device)\n",
    "    test_loader = data_loaders.create_loader(test_dataset, batch_size, device)\n",
    "\n",
    "    # Model setup\n",
    "    model = MLP(n_features, 1, network, activation).to(device)\n",
    "\n",
    "    loss_function = nn.MSELoss()\n",
    "    optimizer = optim.Adam(model.parameters(), lr=learning_rate, weight_decay=weight_decay)\n",
    "\n",
    "    # fit function optionally returns a list with the epoch-wise losses\n",
    "    train_loss = fit_regr(model, loss_function, optimizer, train_loader, \n",
    "                 n_epochs=n_epochs, verbose=1, early_stopping=True, return_losses=True) \n",
    "    test_loss = test_regr(model, loss_function, test_loader, verbose=0, return_loss=True) \n",
    "    \n",
    "    if verbose:\n",
    "        print(f\"Average Train MSE Loss: {train_loss[-1] : .10f}\")\n",
    "        print(f\"Average Test MSE Loss : {test_loss : .10f}\" )\n",
    "\n",
    "    return train_loss, test_loss                 # train loss is a list, test loss is a float\n",
    " "
   ]
  },
  {
   "cell_type": "code",
   "execution_count": 32,
   "id": "cde11128",
   "metadata": {},
   "outputs": [
    {
     "name": "stdout",
     "output_type": "stream",
     "text": [
      "\n",
      "Training on fold no. 1\n",
      "Loss has stopped decreasing after epoch 152 (average of 50 epochs).\n",
      "STOPPING EARLY.\n",
      "Average Train MSE Loss:  0.0001394783\n",
      "Average Test MSE Loss :  0.0032228815\n",
      "\n",
      "Training on fold no. 2\n",
      "Loss has stopped decreasing after epoch 179 (average of 50 epochs).\n",
      "STOPPING EARLY.\n",
      "Average Train MSE Loss:  0.0001291957\n",
      "Average Test MSE Loss :  0.0037405792\n",
      "\n",
      "Training on fold no. 3\n",
      "Loss has stopped decreasing after epoch 169 (average of 50 epochs).\n",
      "STOPPING EARLY.\n",
      "Average Train MSE Loss:  0.0001569484\n",
      "Average Test MSE Loss :  0.0030567419\n",
      "\n",
      "Training on fold no. 4\n",
      "Loss has stopped decreasing after epoch 164 (average of 50 epochs).\n",
      "STOPPING EARLY.\n",
      "Average Train MSE Loss:  0.0001339548\n",
      "Average Test MSE Loss :  0.0009278679\n",
      "\n",
      "Training on fold no. 5\n",
      "Loss has stopped decreasing after epoch 145 (average of 50 epochs).\n",
      "STOPPING EARLY.\n",
      "Average Train MSE Loss:  0.0001395873\n",
      "Average Test MSE Loss :  0.0016236231\n",
      "\n",
      "Training on fold no. 6\n",
      "Loss has stopped decreasing after epoch 129 (average of 50 epochs).\n",
      "STOPPING EARLY.\n",
      "Average Train MSE Loss:  0.0001837365\n",
      "Average Test MSE Loss :  0.0031865031\n",
      "\n",
      "Training on fold no. 7\n",
      "Loss has stopped decreasing after epoch 163 (average of 50 epochs).\n",
      "STOPPING EARLY.\n",
      "Average Train MSE Loss:  0.0002028137\n",
      "Average Test MSE Loss :  0.0041024383\n",
      "\n",
      "Training on fold no. 8\n",
      "Loss has stopped decreasing after epoch 159 (average of 50 epochs).\n",
      "STOPPING EARLY.\n",
      "Average Train MSE Loss:  0.0001743406\n",
      "Average Test MSE Loss :  0.0021123279\n",
      "\n",
      "Training on fold no. 9\n",
      "Loss has stopped decreasing after epoch 155 (average of 50 epochs).\n",
      "STOPPING EARLY.\n",
      "Average Train MSE Loss:  0.0001585881\n",
      "Average Test MSE Loss :  0.0010134519\n",
      "\n",
      "Training on fold no. 10\n",
      "Loss has stopped decreasing after epoch 173 (average of 50 epochs).\n",
      "STOPPING EARLY.\n",
      "Average Train MSE Loss:  0.0001899113\n",
      "Average Test MSE Loss :  0.0011044368\n",
      "\n",
      "Train losses: [0.00013948 0.0001292  0.00015695 0.00013395 0.00013959 0.00018374\n",
      " 0.00020281 0.00017434 0.00015859 0.00018991]\n",
      "\n",
      "Test losses: [0.00322288 0.00374058 0.00305674 0.00092787 0.00162362 0.0031865\n",
      " 0.00410244 0.00211233 0.00101345 0.00110444]\n",
      "\n",
      "Avg train loss over all folds: 0.00016\n",
      "Avg total train loss over all folds: 0.11935\n",
      "\n",
      "Avg test loss over all folds: 0.00241\n",
      "Avg total test loss over all folds: 0.19754\n"
     ]
    },
    {
     "data": {
      "image/png": "[encoded data removed]",
      "text/plain": [
       "<Figure size 648x432 with 1 Axes>"
      ]
     },
     "metadata": {
      "needs_background": "light"
     },
     "output_type": "display_data"
    }
   ],
   "source": [
    "n_splits = 10\n",
    "kf = KFold(n_splits)\n",
    "\n",
    "train_losses = np.zeros(n_splits)\n",
    "test_losses = np.zeros(n_splits)\n",
    "train_losses_plot = []                           # for plotting loss curves\n",
    "for i, (train_index, test_index) in enumerate(kf.split(X)):\n",
    "    \n",
    "    X_train, X_test = X[train_index], X[test_index]\n",
    "    y_train, y_test = y[train_index], y[test_index]\n",
    "    \n",
    "    print(\"\\nTraining on fold no. %d\" %(i+1))\n",
    "    epoch_wise_train_losses, test_losses[i] = pipeline(X_train, X_test, y_train, y_test, verbose=1)\n",
    "    train_losses[i] = epoch_wise_train_losses[-1]\n",
    "    train_losses_plot.append(epoch_wise_train_losses)\n",
    "    \n",
    "print(\"\\nTrain losses:\", train_losses)\n",
    "print(\"\\nTest losses:\", test_losses)\n",
    "\n",
    "avg_train_loss_k_folds = train_losses.mean() \n",
    "avg_test_loss_k_folds = test_losses.mean() \n",
    "print(f\"\\nAvg train loss over all folds: {avg_train_loss_k_folds :.5f}\")\n",
    "print(f\"Avg total train loss over all folds: {len(X_train) * avg_train_loss_k_folds :.5f}\")\n",
    "print(f\"\\nAvg test loss over all folds: {avg_test_loss_k_folds :.5f}\")\n",
    "print(f\"Avg total test loss over all folds: {len(X_test) * avg_test_loss_k_folds :.5f}\")\n",
    "\n",
    "plt.figure(figsize=(9,6))\n",
    "for losses in train_losses_plot:\n",
    "    plt.plot(losses)\n",
    "plt.grid()\n",
    "plt.xlabel(\"Epoch\", fontsize=20)\n",
    "plt.ylabel(\"Loss\", fontsize=20)\n",
    "plt.title(f\"Loss curves for {n_splits} folds\", fontsize=20)\n",
    "plt.show()"
   ]
  }
 ],
 "metadata": {
  "kernelspec": {
   "display_name": "Python 3 (ipykernel)",
   "language": "python",
   "name": "python3"
  },
  "language_info": {
   "codemirror_mode": {
    "name": "ipython",
    "version": 3
   },
   "file_extension": ".py",
   "mimetype": "text/x-python",
   "name": "python",
   "nbconvert_exporter": "python",
   "pygments_lexer": "ipython3",
   "version": "3.9.12"
  }
 },
 "nbformat": 4,
 "nbformat_minor": 5
}
